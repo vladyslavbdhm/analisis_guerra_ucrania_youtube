{
 "cells": [
  {
   "cell_type": "markdown",
   "id": "422d2ff8",
   "metadata": {},
   "source": [
    "# ============================================================\n",
    "# NN Stance Classifier (XLM-R base) + Reglas + Abstención\n",
    "# Entrena con ~9k y clasifica ~100k con logging y progreso.\n",
    "# ============================================================"
   ]
  },
  {
   "cell_type": "code",
   "execution_count": 5,
   "id": "28410d40",
   "metadata": {},
   "outputs": [
    {
     "name": "stdout",
     "output_type": "stream",
     "text": [
      "Collecting tf_keras\n",
      "  Using cached tf_keras-2.20.1-py3-none-any.whl.metadata (1.8 kB)\n",
      "Collecting tensorflow<2.21,>=2.20 (from tf_keras)\n",
      "  Using cached tensorflow-2.20.0-cp311-cp311-win_amd64.whl.metadata (4.6 kB)\n",
      "Requirement already satisfied: absl-py>=1.0.0 in c:\\users\\user\\desktop\\facu\\master_espana\\master_uemc\\tfm\\codigo\\analisis_guerra_ucrania_youtube\\.venv\\lib\\site-packages (from tensorflow<2.21,>=2.20->tf_keras) (2.3.1)\n",
      "Requirement already satisfied: astunparse>=1.6.0 in c:\\users\\user\\desktop\\facu\\master_espana\\master_uemc\\tfm\\codigo\\analisis_guerra_ucrania_youtube\\.venv\\lib\\site-packages (from tensorflow<2.21,>=2.20->tf_keras) (1.6.3)\n",
      "Requirement already satisfied: flatbuffers>=24.3.25 in c:\\users\\user\\desktop\\facu\\master_espana\\master_uemc\\tfm\\codigo\\analisis_guerra_ucrania_youtube\\.venv\\lib\\site-packages (from tensorflow<2.21,>=2.20->tf_keras) (25.9.23)\n",
      "Requirement already satisfied: gast!=0.5.0,!=0.5.1,!=0.5.2,>=0.2.1 in c:\\users\\user\\desktop\\facu\\master_espana\\master_uemc\\tfm\\codigo\\analisis_guerra_ucrania_youtube\\.venv\\lib\\site-packages (from tensorflow<2.21,>=2.20->tf_keras) (0.6.0)\n",
      "Requirement already satisfied: google_pasta>=0.1.1 in c:\\users\\user\\desktop\\facu\\master_espana\\master_uemc\\tfm\\codigo\\analisis_guerra_ucrania_youtube\\.venv\\lib\\site-packages (from tensorflow<2.21,>=2.20->tf_keras) (0.2.0)\n",
      "Requirement already satisfied: libclang>=13.0.0 in c:\\users\\user\\desktop\\facu\\master_espana\\master_uemc\\tfm\\codigo\\analisis_guerra_ucrania_youtube\\.venv\\lib\\site-packages (from tensorflow<2.21,>=2.20->tf_keras) (18.1.1)\n",
      "Requirement already satisfied: opt_einsum>=2.3.2 in c:\\users\\user\\desktop\\facu\\master_espana\\master_uemc\\tfm\\codigo\\analisis_guerra_ucrania_youtube\\.venv\\lib\\site-packages (from tensorflow<2.21,>=2.20->tf_keras) (3.4.0)\n",
      "Requirement already satisfied: packaging in c:\\users\\user\\desktop\\facu\\master_espana\\master_uemc\\tfm\\codigo\\analisis_guerra_ucrania_youtube\\.venv\\lib\\site-packages (from tensorflow<2.21,>=2.20->tf_keras) (25.0)\n",
      "Requirement already satisfied: protobuf>=5.28.0 in c:\\users\\user\\desktop\\facu\\master_espana\\master_uemc\\tfm\\codigo\\analisis_guerra_ucrania_youtube\\.venv\\lib\\site-packages (from tensorflow<2.21,>=2.20->tf_keras) (6.32.1)\n",
      "Requirement already satisfied: requests<3,>=2.21.0 in c:\\users\\user\\desktop\\facu\\master_espana\\master_uemc\\tfm\\codigo\\analisis_guerra_ucrania_youtube\\.venv\\lib\\site-packages (from tensorflow<2.21,>=2.20->tf_keras) (2.32.5)\n",
      "Requirement already satisfied: setuptools in c:\\users\\user\\desktop\\facu\\master_espana\\master_uemc\\tfm\\codigo\\analisis_guerra_ucrania_youtube\\.venv\\lib\\site-packages (from tensorflow<2.21,>=2.20->tf_keras) (80.9.0)\n",
      "Requirement already satisfied: six>=1.12.0 in c:\\users\\user\\desktop\\facu\\master_espana\\master_uemc\\tfm\\codigo\\analisis_guerra_ucrania_youtube\\.venv\\lib\\site-packages (from tensorflow<2.21,>=2.20->tf_keras) (1.17.0)\n",
      "Requirement already satisfied: termcolor>=1.1.0 in c:\\users\\user\\desktop\\facu\\master_espana\\master_uemc\\tfm\\codigo\\analisis_guerra_ucrania_youtube\\.venv\\lib\\site-packages (from tensorflow<2.21,>=2.20->tf_keras) (3.1.0)\n",
      "Requirement already satisfied: typing_extensions>=3.6.6 in c:\\users\\user\\desktop\\facu\\master_espana\\master_uemc\\tfm\\codigo\\analisis_guerra_ucrania_youtube\\.venv\\lib\\site-packages (from tensorflow<2.21,>=2.20->tf_keras) (4.15.0)\n",
      "Requirement already satisfied: wrapt>=1.11.0 in c:\\users\\user\\desktop\\facu\\master_espana\\master_uemc\\tfm\\codigo\\analisis_guerra_ucrania_youtube\\.venv\\lib\\site-packages (from tensorflow<2.21,>=2.20->tf_keras) (1.14.2)\n",
      "Requirement already satisfied: grpcio<2.0,>=1.24.3 in c:\\users\\user\\desktop\\facu\\master_espana\\master_uemc\\tfm\\codigo\\analisis_guerra_ucrania_youtube\\.venv\\lib\\site-packages (from tensorflow<2.21,>=2.20->tf_keras) (1.75.1)\n",
      "Requirement already satisfied: tensorboard~=2.20.0 in c:\\users\\user\\desktop\\facu\\master_espana\\master_uemc\\tfm\\codigo\\analisis_guerra_ucrania_youtube\\.venv\\lib\\site-packages (from tensorflow<2.21,>=2.20->tf_keras) (2.20.0)\n",
      "Requirement already satisfied: keras>=3.10.0 in c:\\users\\user\\desktop\\facu\\master_espana\\master_uemc\\tfm\\codigo\\analisis_guerra_ucrania_youtube\\.venv\\lib\\site-packages (from tensorflow<2.21,>=2.20->tf_keras) (3.11.3)\n",
      "Requirement already satisfied: numpy>=1.26.0 in c:\\users\\user\\desktop\\facu\\master_espana\\master_uemc\\tfm\\codigo\\analisis_guerra_ucrania_youtube\\.venv\\lib\\site-packages (from tensorflow<2.21,>=2.20->tf_keras) (1.26.4)\n",
      "Requirement already satisfied: h5py>=3.11.0 in c:\\users\\user\\desktop\\facu\\master_espana\\master_uemc\\tfm\\codigo\\analisis_guerra_ucrania_youtube\\.venv\\lib\\site-packages (from tensorflow<2.21,>=2.20->tf_keras) (3.14.0)\n",
      "Requirement already satisfied: ml_dtypes<1.0.0,>=0.5.1 in c:\\users\\user\\desktop\\facu\\master_espana\\master_uemc\\tfm\\codigo\\analisis_guerra_ucrania_youtube\\.venv\\lib\\site-packages (from tensorflow<2.21,>=2.20->tf_keras) (0.5.3)\n",
      "Requirement already satisfied: charset_normalizer<4,>=2 in c:\\users\\user\\desktop\\facu\\master_espana\\master_uemc\\tfm\\codigo\\analisis_guerra_ucrania_youtube\\.venv\\lib\\site-packages (from requests<3,>=2.21.0->tensorflow<2.21,>=2.20->tf_keras) (3.4.3)\n",
      "Requirement already satisfied: idna<4,>=2.5 in c:\\users\\user\\desktop\\facu\\master_espana\\master_uemc\\tfm\\codigo\\analisis_guerra_ucrania_youtube\\.venv\\lib\\site-packages (from requests<3,>=2.21.0->tensorflow<2.21,>=2.20->tf_keras) (3.10)\n",
      "Requirement already satisfied: urllib3<3,>=1.21.1 in c:\\users\\user\\desktop\\facu\\master_espana\\master_uemc\\tfm\\codigo\\analisis_guerra_ucrania_youtube\\.venv\\lib\\site-packages (from requests<3,>=2.21.0->tensorflow<2.21,>=2.20->tf_keras) (2.5.0)\n",
      "Requirement already satisfied: certifi>=2017.4.17 in c:\\users\\user\\desktop\\facu\\master_espana\\master_uemc\\tfm\\codigo\\analisis_guerra_ucrania_youtube\\.venv\\lib\\site-packages (from requests<3,>=2.21.0->tensorflow<2.21,>=2.20->tf_keras) (2025.10.5)\n",
      "Requirement already satisfied: markdown>=2.6.8 in c:\\users\\user\\desktop\\facu\\master_espana\\master_uemc\\tfm\\codigo\\analisis_guerra_ucrania_youtube\\.venv\\lib\\site-packages (from tensorboard~=2.20.0->tensorflow<2.21,>=2.20->tf_keras) (3.9)\n",
      "Requirement already satisfied: pillow in c:\\users\\user\\desktop\\facu\\master_espana\\master_uemc\\tfm\\codigo\\analisis_guerra_ucrania_youtube\\.venv\\lib\\site-packages (from tensorboard~=2.20.0->tensorflow<2.21,>=2.20->tf_keras) (11.3.0)\n",
      "Requirement already satisfied: tensorboard-data-server<0.8.0,>=0.7.0 in c:\\users\\user\\desktop\\facu\\master_espana\\master_uemc\\tfm\\codigo\\analisis_guerra_ucrania_youtube\\.venv\\lib\\site-packages (from tensorboard~=2.20.0->tensorflow<2.21,>=2.20->tf_keras) (0.7.2)\n",
      "Requirement already satisfied: werkzeug>=1.0.1 in c:\\users\\user\\desktop\\facu\\master_espana\\master_uemc\\tfm\\codigo\\analisis_guerra_ucrania_youtube\\.venv\\lib\\site-packages (from tensorboard~=2.20.0->tensorflow<2.21,>=2.20->tf_keras) (3.1.3)\n",
      "Requirement already satisfied: wheel<1.0,>=0.23.0 in c:\\users\\user\\desktop\\facu\\master_espana\\master_uemc\\tfm\\codigo\\analisis_guerra_ucrania_youtube\\.venv\\lib\\site-packages (from astunparse>=1.6.0->tensorflow<2.21,>=2.20->tf_keras) (0.45.1)\n",
      "Requirement already satisfied: rich in c:\\users\\user\\desktop\\facu\\master_espana\\master_uemc\\tfm\\codigo\\analisis_guerra_ucrania_youtube\\.venv\\lib\\site-packages (from keras>=3.10.0->tensorflow<2.21,>=2.20->tf_keras) (14.1.0)\n",
      "Requirement already satisfied: namex in c:\\users\\user\\desktop\\facu\\master_espana\\master_uemc\\tfm\\codigo\\analisis_guerra_ucrania_youtube\\.venv\\lib\\site-packages (from keras>=3.10.0->tensorflow<2.21,>=2.20->tf_keras) (0.1.0)\n",
      "Requirement already satisfied: optree in c:\\users\\user\\desktop\\facu\\master_espana\\master_uemc\\tfm\\codigo\\analisis_guerra_ucrania_youtube\\.venv\\lib\\site-packages (from keras>=3.10.0->tensorflow<2.21,>=2.20->tf_keras) (0.17.0)\n",
      "Requirement already satisfied: MarkupSafe>=2.1.1 in c:\\users\\user\\desktop\\facu\\master_espana\\master_uemc\\tfm\\codigo\\analisis_guerra_ucrania_youtube\\.venv\\lib\\site-packages (from werkzeug>=1.0.1->tensorboard~=2.20.0->tensorflow<2.21,>=2.20->tf_keras) (3.0.3)\n",
      "Requirement already satisfied: markdown-it-py>=2.2.0 in c:\\users\\user\\desktop\\facu\\master_espana\\master_uemc\\tfm\\codigo\\analisis_guerra_ucrania_youtube\\.venv\\lib\\site-packages (from rich->keras>=3.10.0->tensorflow<2.21,>=2.20->tf_keras) (4.0.0)\n",
      "Requirement already satisfied: pygments<3.0.0,>=2.13.0 in c:\\users\\user\\desktop\\facu\\master_espana\\master_uemc\\tfm\\codigo\\analisis_guerra_ucrania_youtube\\.venv\\lib\\site-packages (from rich->keras>=3.10.0->tensorflow<2.21,>=2.20->tf_keras) (2.19.2)\n",
      "Requirement already satisfied: mdurl~=0.1 in c:\\users\\user\\desktop\\facu\\master_espana\\master_uemc\\tfm\\codigo\\analisis_guerra_ucrania_youtube\\.venv\\lib\\site-packages (from markdown-it-py>=2.2.0->rich->keras>=3.10.0->tensorflow<2.21,>=2.20->tf_keras) (0.1.2)\n",
      "Using cached tf_keras-2.20.1-py3-none-any.whl (1.7 MB)\n",
      "Using cached tensorflow-2.20.0-cp311-cp311-win_amd64.whl (331.8 MB)\n",
      "Installing collected packages: tensorflow, tf_keras\n",
      "\n",
      "  Attempting uninstall: tensorflow\n",
      "\n",
      "    Found existing installation: tensorflow 2.15.1\n",
      "\n",
      "    Uninstalling tensorflow-2.15.1:\n",
      "\n",
      "      Successfully uninstalled tensorflow-2.15.1\n",
      "\n",
      "   ---------------------------------------- 0/2 [tensorflow]\n",
      "   ---------------------------------------- 0/2 [tensorflow]\n",
      "  Rolling back uninstall of tensorflow\n",
      "   ---------------------------------------- 0/2 [tensorflow]\n",
      "  Moving to c:\\users\\user\\desktop\\facu\\master_espana\\master_uemc\\tfm\\codigo\\analisis_guerra_ucrania_youtube\\.venv\\lib\\site-packages\\tensorflow-2.15.1.dist-info\\\n",
      "   from C:\\Users\\User\\Desktop\\Facu\\Master_Espana\\Master_UEMC\\TFM\\codigo\\analisis_guerra_ucrania_youtube\\.venv\\Lib\\site-packages\\~ensorflow-2.15.1.dist-info\n",
      "   ---------------------------------------- 0/2 [tensorflow]\n",
      "   ---------------------------------------- 0/2 [tensorflow]\n",
      "\n",
      "Note: you may need to restart the kernel to use updated packages.\n"
     ]
    },
    {
     "name": "stderr",
     "output_type": "stream",
     "text": [
      "ERROR: Could not install packages due to an OSError: [WinError 5] Acceso denegado: 'c:\\\\Users\\\\User\\\\Desktop\\\\Facu\\\\Master_Espana\\\\Master_UEMC\\\\TFM\\\\codigo\\\\analisis_guerra_ucrania_youtube\\\\.venv\\\\Lib\\\\site-packages\\\\tensorflow\\\\compiler\\\\tf2tensorrt\\\\_pywrap_py_utils.pyd'\n",
      "Check the permissions.\n",
      "\n"
     ]
    },
    {
     "name": "stdout",
     "output_type": "stream",
     "text": [
      "Requirement already satisfied: tensorflow in c:\\users\\user\\desktop\\facu\\master_espana\\master_uemc\\tfm\\codigo\\analisis_guerra_ucrania_youtube\\.venv\\lib\\site-packages (2.15.1)\n",
      "Requirement already satisfied: tensorflow-intel==2.15.1 in c:\\users\\user\\desktop\\facu\\master_espana\\master_uemc\\tfm\\codigo\\analisis_guerra_ucrania_youtube\\.venv\\lib\\site-packages (from tensorflow) (2.15.1)\n",
      "Requirement already satisfied: absl-py>=1.0.0 in c:\\users\\user\\desktop\\facu\\master_espana\\master_uemc\\tfm\\codigo\\analisis_guerra_ucrania_youtube\\.venv\\lib\\site-packages (from tensorflow-intel==2.15.1->tensorflow) (2.3.1)\n",
      "Requirement already satisfied: astunparse>=1.6.0 in c:\\users\\user\\desktop\\facu\\master_espana\\master_uemc\\tfm\\codigo\\analisis_guerra_ucrania_youtube\\.venv\\lib\\site-packages (from tensorflow-intel==2.15.1->tensorflow) (1.6.3)\n",
      "Requirement already satisfied: flatbuffers>=23.5.26 in c:\\users\\user\\desktop\\facu\\master_espana\\master_uemc\\tfm\\codigo\\analisis_guerra_ucrania_youtube\\.venv\\lib\\site-packages (from tensorflow-intel==2.15.1->tensorflow) (25.9.23)\n",
      "Requirement already satisfied: gast!=0.5.0,!=0.5.1,!=0.5.2,>=0.2.1 in c:\\users\\user\\desktop\\facu\\master_espana\\master_uemc\\tfm\\codigo\\analisis_guerra_ucrania_youtube\\.venv\\lib\\site-packages (from tensorflow-intel==2.15.1->tensorflow) (0.6.0)\n",
      "Requirement already satisfied: google-pasta>=0.1.1 in c:\\users\\user\\desktop\\facu\\master_espana\\master_uemc\\tfm\\codigo\\analisis_guerra_ucrania_youtube\\.venv\\lib\\site-packages (from tensorflow-intel==2.15.1->tensorflow) (0.2.0)\n",
      "Requirement already satisfied: h5py>=2.9.0 in c:\\users\\user\\desktop\\facu\\master_espana\\master_uemc\\tfm\\codigo\\analisis_guerra_ucrania_youtube\\.venv\\lib\\site-packages (from tensorflow-intel==2.15.1->tensorflow) (3.14.0)\n",
      "Requirement already satisfied: libclang>=13.0.0 in c:\\users\\user\\desktop\\facu\\master_espana\\master_uemc\\tfm\\codigo\\analisis_guerra_ucrania_youtube\\.venv\\lib\\site-packages (from tensorflow-intel==2.15.1->tensorflow) (18.1.1)\n",
      "Collecting ml-dtypes~=0.3.1 (from tensorflow-intel==2.15.1->tensorflow)\n",
      "  Using cached ml_dtypes-0.3.2-cp311-cp311-win_amd64.whl.metadata (20 kB)\n",
      "Requirement already satisfied: numpy<2.0.0,>=1.23.5 in c:\\users\\user\\desktop\\facu\\master_espana\\master_uemc\\tfm\\codigo\\analisis_guerra_ucrania_youtube\\.venv\\lib\\site-packages (from tensorflow-intel==2.15.1->tensorflow) (1.26.4)\n",
      "Requirement already satisfied: opt-einsum>=2.3.2 in c:\\users\\user\\desktop\\facu\\master_espana\\master_uemc\\tfm\\codigo\\analisis_guerra_ucrania_youtube\\.venv\\lib\\site-packages (from tensorflow-intel==2.15.1->tensorflow) (3.4.0)\n",
      "Requirement already satisfied: packaging in c:\\users\\user\\desktop\\facu\\master_espana\\master_uemc\\tfm\\codigo\\analisis_guerra_ucrania_youtube\\.venv\\lib\\site-packages (from tensorflow-intel==2.15.1->tensorflow) (25.0)\n",
      "Collecting protobuf!=4.21.0,!=4.21.1,!=4.21.2,!=4.21.3,!=4.21.4,!=4.21.5,<5.0.0dev,>=3.20.3 (from tensorflow-intel==2.15.1->tensorflow)\n",
      "  Using cached protobuf-4.25.8-cp310-abi3-win_amd64.whl.metadata (541 bytes)\n",
      "Requirement already satisfied: setuptools in c:\\users\\user\\desktop\\facu\\master_espana\\master_uemc\\tfm\\codigo\\analisis_guerra_ucrania_youtube\\.venv\\lib\\site-packages (from tensorflow-intel==2.15.1->tensorflow) (80.9.0)\n",
      "Requirement already satisfied: six>=1.12.0 in c:\\users\\user\\desktop\\facu\\master_espana\\master_uemc\\tfm\\codigo\\analisis_guerra_ucrania_youtube\\.venv\\lib\\site-packages (from tensorflow-intel==2.15.1->tensorflow) (1.17.0)\n",
      "Requirement already satisfied: termcolor>=1.1.0 in c:\\users\\user\\desktop\\facu\\master_espana\\master_uemc\\tfm\\codigo\\analisis_guerra_ucrania_youtube\\.venv\\lib\\site-packages (from tensorflow-intel==2.15.1->tensorflow) (3.1.0)\n",
      "Requirement already satisfied: typing-extensions>=3.6.6 in c:\\users\\user\\desktop\\facu\\master_espana\\master_uemc\\tfm\\codigo\\analisis_guerra_ucrania_youtube\\.venv\\lib\\site-packages (from tensorflow-intel==2.15.1->tensorflow) (4.15.0)\n",
      "Requirement already satisfied: wrapt<1.15,>=1.11.0 in c:\\users\\user\\desktop\\facu\\master_espana\\master_uemc\\tfm\\codigo\\analisis_guerra_ucrania_youtube\\.venv\\lib\\site-packages (from tensorflow-intel==2.15.1->tensorflow) (1.14.2)\n",
      "Requirement already satisfied: tensorflow-io-gcs-filesystem>=0.23.1 in c:\\users\\user\\desktop\\facu\\master_espana\\master_uemc\\tfm\\codigo\\analisis_guerra_ucrania_youtube\\.venv\\lib\\site-packages (from tensorflow-intel==2.15.1->tensorflow) (0.31.0)\n",
      "Requirement already satisfied: grpcio<2.0,>=1.24.3 in c:\\users\\user\\desktop\\facu\\master_espana\\master_uemc\\tfm\\codigo\\analisis_guerra_ucrania_youtube\\.venv\\lib\\site-packages (from tensorflow-intel==2.15.1->tensorflow) (1.75.1)\n",
      "Collecting tensorboard<2.16,>=2.15 (from tensorflow-intel==2.15.1->tensorflow)\n",
      "  Using cached tensorboard-2.15.2-py3-none-any.whl.metadata (1.7 kB)\n",
      "Requirement already satisfied: tensorflow-estimator<2.16,>=2.15.0 in c:\\users\\user\\desktop\\facu\\master_espana\\master_uemc\\tfm\\codigo\\analisis_guerra_ucrania_youtube\\.venv\\lib\\site-packages (from tensorflow-intel==2.15.1->tensorflow) (2.15.0)\n",
      "Collecting keras<2.16,>=2.15.0 (from tensorflow-intel==2.15.1->tensorflow)\n",
      "  Using cached keras-2.15.0-py3-none-any.whl.metadata (2.4 kB)\n",
      "Requirement already satisfied: google-auth<3,>=1.6.3 in c:\\users\\user\\desktop\\facu\\master_espana\\master_uemc\\tfm\\codigo\\analisis_guerra_ucrania_youtube\\.venv\\lib\\site-packages (from tensorboard<2.16,>=2.15->tensorflow-intel==2.15.1->tensorflow) (2.41.1)\n",
      "Requirement already satisfied: google-auth-oauthlib<2,>=0.5 in c:\\users\\user\\desktop\\facu\\master_espana\\master_uemc\\tfm\\codigo\\analisis_guerra_ucrania_youtube\\.venv\\lib\\site-packages (from tensorboard<2.16,>=2.15->tensorflow-intel==2.15.1->tensorflow) (1.2.2)\n",
      "Requirement already satisfied: markdown>=2.6.8 in c:\\users\\user\\desktop\\facu\\master_espana\\master_uemc\\tfm\\codigo\\analisis_guerra_ucrania_youtube\\.venv\\lib\\site-packages (from tensorboard<2.16,>=2.15->tensorflow-intel==2.15.1->tensorflow) (3.9)\n",
      "Requirement already satisfied: requests<3,>=2.21.0 in c:\\users\\user\\desktop\\facu\\master_espana\\master_uemc\\tfm\\codigo\\analisis_guerra_ucrania_youtube\\.venv\\lib\\site-packages (from tensorboard<2.16,>=2.15->tensorflow-intel==2.15.1->tensorflow) (2.32.5)\n",
      "Requirement already satisfied: tensorboard-data-server<0.8.0,>=0.7.0 in c:\\users\\user\\desktop\\facu\\master_espana\\master_uemc\\tfm\\codigo\\analisis_guerra_ucrania_youtube\\.venv\\lib\\site-packages (from tensorboard<2.16,>=2.15->tensorflow-intel==2.15.1->tensorflow) (0.7.2)\n",
      "Requirement already satisfied: werkzeug>=1.0.1 in c:\\users\\user\\desktop\\facu\\master_espana\\master_uemc\\tfm\\codigo\\analisis_guerra_ucrania_youtube\\.venv\\lib\\site-packages (from tensorboard<2.16,>=2.15->tensorflow-intel==2.15.1->tensorflow) (3.1.3)\n",
      "Requirement already satisfied: cachetools<7.0,>=2.0.0 in c:\\users\\user\\desktop\\facu\\master_espana\\master_uemc\\tfm\\codigo\\analisis_guerra_ucrania_youtube\\.venv\\lib\\site-packages (from google-auth<3,>=1.6.3->tensorboard<2.16,>=2.15->tensorflow-intel==2.15.1->tensorflow) (6.2.0)\n",
      "Requirement already satisfied: pyasn1-modules>=0.2.1 in c:\\users\\user\\desktop\\facu\\master_espana\\master_uemc\\tfm\\codigo\\analisis_guerra_ucrania_youtube\\.venv\\lib\\site-packages (from google-auth<3,>=1.6.3->tensorboard<2.16,>=2.15->tensorflow-intel==2.15.1->tensorflow) (0.4.2)\n",
      "Requirement already satisfied: rsa<5,>=3.1.4 in c:\\users\\user\\desktop\\facu\\master_espana\\master_uemc\\tfm\\codigo\\analisis_guerra_ucrania_youtube\\.venv\\lib\\site-packages (from google-auth<3,>=1.6.3->tensorboard<2.16,>=2.15->tensorflow-intel==2.15.1->tensorflow) (4.9.1)\n",
      "Requirement already satisfied: requests-oauthlib>=0.7.0 in c:\\users\\user\\desktop\\facu\\master_espana\\master_uemc\\tfm\\codigo\\analisis_guerra_ucrania_youtube\\.venv\\lib\\site-packages (from google-auth-oauthlib<2,>=0.5->tensorboard<2.16,>=2.15->tensorflow-intel==2.15.1->tensorflow) (2.0.0)\n",
      "Requirement already satisfied: charset_normalizer<4,>=2 in c:\\users\\user\\desktop\\facu\\master_espana\\master_uemc\\tfm\\codigo\\analisis_guerra_ucrania_youtube\\.venv\\lib\\site-packages (from requests<3,>=2.21.0->tensorboard<2.16,>=2.15->tensorflow-intel==2.15.1->tensorflow) (3.4.3)\n",
      "Requirement already satisfied: idna<4,>=2.5 in c:\\users\\user\\desktop\\facu\\master_espana\\master_uemc\\tfm\\codigo\\analisis_guerra_ucrania_youtube\\.venv\\lib\\site-packages (from requests<3,>=2.21.0->tensorboard<2.16,>=2.15->tensorflow-intel==2.15.1->tensorflow) (3.10)\n",
      "Requirement already satisfied: urllib3<3,>=1.21.1 in c:\\users\\user\\desktop\\facu\\master_espana\\master_uemc\\tfm\\codigo\\analisis_guerra_ucrania_youtube\\.venv\\lib\\site-packages (from requests<3,>=2.21.0->tensorboard<2.16,>=2.15->tensorflow-intel==2.15.1->tensorflow) (2.5.0)\n",
      "Requirement already satisfied: certifi>=2017.4.17 in c:\\users\\user\\desktop\\facu\\master_espana\\master_uemc\\tfm\\codigo\\analisis_guerra_ucrania_youtube\\.venv\\lib\\site-packages (from requests<3,>=2.21.0->tensorboard<2.16,>=2.15->tensorflow-intel==2.15.1->tensorflow) (2025.10.5)\n",
      "Requirement already satisfied: pyasn1>=0.1.3 in c:\\users\\user\\desktop\\facu\\master_espana\\master_uemc\\tfm\\codigo\\analisis_guerra_ucrania_youtube\\.venv\\lib\\site-packages (from rsa<5,>=3.1.4->google-auth<3,>=1.6.3->tensorboard<2.16,>=2.15->tensorflow-intel==2.15.1->tensorflow) (0.6.1)\n",
      "Requirement already satisfied: wheel<1.0,>=0.23.0 in c:\\users\\user\\desktop\\facu\\master_espana\\master_uemc\\tfm\\codigo\\analisis_guerra_ucrania_youtube\\.venv\\lib\\site-packages (from astunparse>=1.6.0->tensorflow-intel==2.15.1->tensorflow) (0.45.1)\n",
      "Requirement already satisfied: oauthlib>=3.0.0 in c:\\users\\user\\desktop\\facu\\master_espana\\master_uemc\\tfm\\codigo\\analisis_guerra_ucrania_youtube\\.venv\\lib\\site-packages (from requests-oauthlib>=0.7.0->google-auth-oauthlib<2,>=0.5->tensorboard<2.16,>=2.15->tensorflow-intel==2.15.1->tensorflow) (3.3.1)\n",
      "Requirement already satisfied: MarkupSafe>=2.1.1 in c:\\users\\user\\desktop\\facu\\master_espana\\master_uemc\\tfm\\codigo\\analisis_guerra_ucrania_youtube\\.venv\\lib\\site-packages (from werkzeug>=1.0.1->tensorboard<2.16,>=2.15->tensorflow-intel==2.15.1->tensorflow) (3.0.3)\n",
      "Using cached keras-2.15.0-py3-none-any.whl (1.7 MB)\n",
      "Using cached ml_dtypes-0.3.2-cp311-cp311-win_amd64.whl (127 kB)\n",
      "Using cached protobuf-4.25.8-cp310-abi3-win_amd64.whl (413 kB)\n",
      "Using cached tensorboard-2.15.2-py3-none-any.whl (5.5 MB)\n",
      "Installing collected packages: protobuf, ml-dtypes, keras, tensorboard\n",
      "\n",
      "  Attempting uninstall: protobuf\n",
      "\n",
      "    Found existing installation: protobuf 6.32.1\n",
      "\n",
      "    Uninstalling protobuf-6.32.1:\n",
      "\n",
      "      Successfully uninstalled protobuf-6.32.1\n",
      "\n",
      "   ---------------------------------------- 0/4 [protobuf]\n",
      "   ---------------------------------------- 0/4 [protobuf]\n",
      "   ---------------------------------------- 0/4 [protobuf]\n",
      "   ---------------------------------------- 0/4 [protobuf]\n",
      "   ---------------------------------------- 0/4 [protobuf]\n",
      "   ---------------------------------------- 0/4 [protobuf]\n",
      "   ---------------------------------------- 0/4 [protobuf]\n",
      "   ---------------------------------------- 0/4 [protobuf]\n",
      "   ---------------------------------------- 0/4 [protobuf]\n",
      "   ---------------------------------------- 0/4 [protobuf]\n",
      "   ---------------------------------------- 0/4 [protobuf]\n",
      "   ---------------------------------------- 0/4 [protobuf]\n",
      "   ---------------------------------------- 0/4 [protobuf]\n",
      "   ---------------------------------------- 0/4 [protobuf]\n",
      "   ---------------------------------------- 0/4 [protobuf]\n",
      "   ---------------------------------------- 0/4 [protobuf]\n",
      "   ---------------------------------------- 0/4 [protobuf]\n",
      "   ---------------------------------------- 0/4 [protobuf]\n",
      "   ---------------------------------------- 0/4 [protobuf]\n",
      "   ---------------------------------------- 0/4 [protobuf]\n",
      "   ---------------------------------------- 0/4 [protobuf]\n",
      "   ---------------------------------------- 0/4 [protobuf]\n",
      "  Attempting uninstall: ml-dtypes\n",
      "   ---------------------------------------- 0/4 [protobuf]\n",
      "    Found existing installation: ml_dtypes 0.5.3\n",
      "   ---------------------------------------- 0/4 [protobuf]\n",
      "   ---------- ----------------------------- 1/4 [ml-dtypes]\n",
      "    Uninstalling ml_dtypes-0.5.3:\n",
      "   ---------- ----------------------------- 1/4 [ml-dtypes]\n",
      "      Successfully uninstalled ml_dtypes-0.5.3\n",
      "   ---------- ----------------------------- 1/4 [ml-dtypes]\n",
      "   ---------- ----------------------------- 1/4 [ml-dtypes]\n",
      "   ---------- ----------------------------- 1/4 [ml-dtypes]\n",
      "   ---------- ----------------------------- 1/4 [ml-dtypes]\n",
      "   ---------- ----------------------------- 1/4 [ml-dtypes]\n",
      "   ---------- ----------------------------- 1/4 [ml-dtypes]\n",
      "   ---------- ----------------------------- 1/4 [ml-dtypes]\n",
      "   ---------- ----------------------------- 1/4 [ml-dtypes]\n",
      "   ---------- ----------------------------- 1/4 [ml-dtypes]\n",
      "   ---------- ----------------------------- 1/4 [ml-dtypes]\n",
      "   ---------- ----------------------------- 1/4 [ml-dtypes]\n",
      "   ---------- ----------------------------- 1/4 [ml-dtypes]\n",
      "   ---------- ----------------------------- 1/4 [ml-dtypes]\n",
      "   ---------- ----------------------------- 1/4 [ml-dtypes]\n",
      "   ---------- ----------------------------- 1/4 [ml-dtypes]\n",
      "   ---------- ----------------------------- 1/4 [ml-dtypes]\n",
      "   ---------- ----------------------------- 1/4 [ml-dtypes]\n",
      "   ---------- ----------------------------- 1/4 [ml-dtypes]\n",
      "  Attempting uninstall: keras\n",
      "   ---------- ----------------------------- 1/4 [ml-dtypes]\n",
      "    Found existing installation: keras 3.11.3\n",
      "   ---------- ----------------------------- 1/4 [ml-dtypes]\n",
      "   -------------------- ------------------- 2/4 [keras]\n",
      "   -------------------- ------------------- 2/4 [keras]\n",
      "    Uninstalling keras-3.11.3:\n",
      "   -------------------- ------------------- 2/4 [keras]\n",
      "   -------------------- ------------------- 2/4 [keras]\n",
      "      Successfully uninstalled keras-3.11.3\n",
      "   -------------------- ------------------- 2/4 [keras]\n",
      "   -------------------- ------------------- 2/4 [keras]\n",
      "   -------------------- ------------------- 2/4 [keras]\n",
      "   -------------------- ------------------- 2/4 [keras]\n",
      "   -------------------- ------------------- 2/4 [keras]\n",
      "   -------------------- ------------------- 2/4 [keras]\n",
      "   -------------------- ------------------- 2/4 [keras]\n",
      "   -------------------- ------------------- 2/4 [keras]\n",
      "   -------------------- ------------------- 2/4 [keras]\n",
      "   -------------------- ------------------- 2/4 [keras]\n",
      "   -------------------- ------------------- 2/4 [keras]\n",
      "   -------------------- ------------------- 2/4 [keras]\n",
      "   -------------------- ------------------- 2/4 [keras]\n",
      "   -------------------- ------------------- 2/4 [keras]\n",
      "   -------------------- ------------------- 2/4 [keras]\n",
      "   -------------------- ------------------- 2/4 [keras]\n",
      "   -------------------- ------------------- 2/4 [keras]\n",
      "   -------------------- ------------------- 2/4 [keras]\n",
      "   -------------------- ------------------- 2/4 [keras]\n",
      "   -------------------- ------------------- 2/4 [keras]\n",
      "   -------------------- ------------------- 2/4 [keras]\n",
      "   -------------------- ------------------- 2/4 [keras]\n",
      "   -------------------- ------------------- 2/4 [keras]\n",
      "   -------------------- ------------------- 2/4 [keras]\n",
      "   -------------------- ------------------- 2/4 [keras]\n",
      "   -------------------- ------------------- 2/4 [keras]\n",
      "   -------------------- ------------------- 2/4 [keras]\n",
      "   -------------------- ------------------- 2/4 [keras]\n",
      "   -------------------- ------------------- 2/4 [keras]\n",
      "   -------------------- ------------------- 2/4 [keras]\n",
      "   -------------------- ------------------- 2/4 [keras]\n",
      "   -------------------- ------------------- 2/4 [keras]\n",
      "   -------------------- ------------------- 2/4 [keras]\n",
      "   -------------------- ------------------- 2/4 [keras]\n",
      "   -------------------- ------------------- 2/4 [keras]\n",
      "   -------------------- ------------------- 2/4 [keras]\n",
      "   -------------------- ------------------- 2/4 [keras]\n",
      "   -------------------- ------------------- 2/4 [keras]\n",
      "   -------------------- ------------------- 2/4 [keras]\n",
      "   -------------------- ------------------- 2/4 [keras]\n",
      "   -------------------- ------------------- 2/4 [keras]\n",
      "   -------------------- ------------------- 2/4 [keras]\n",
      "   -------------------- ------------------- 2/4 [keras]\n",
      "   -------------------- ------------------- 2/4 [keras]\n",
      "   -------------------- ------------------- 2/4 [keras]\n",
      "   -------------------- ------------------- 2/4 [keras]\n",
      "   -------------------- ------------------- 2/4 [keras]\n",
      "   -------------------- ------------------- 2/4 [keras]\n",
      "   -------------------- ------------------- 2/4 [keras]\n",
      "   -------------------- ------------------- 2/4 [keras]\n",
      "   -------------------- ------------------- 2/4 [keras]\n",
      "   -------------------- ------------------- 2/4 [keras]\n",
      "   -------------------- ------------------- 2/4 [keras]\n",
      "   -------------------- ------------------- 2/4 [keras]\n",
      "   -------------------- ------------------- 2/4 [keras]\n",
      "   -------------------- ------------------- 2/4 [keras]\n",
      "   -------------------- ------------------- 2/4 [keras]\n",
      "   -------------------- ------------------- 2/4 [keras]\n",
      "   -------------------- ------------------- 2/4 [keras]\n",
      "   -------------------- ------------------- 2/4 [keras]\n",
      "   -------------------- ------------------- 2/4 [keras]\n",
      "   -------------------- ------------------- 2/4 [keras]\n",
      "   -------------------- ------------------- 2/4 [keras]\n",
      "   -------------------- ------------------- 2/4 [keras]\n",
      "   -------------------- ------------------- 2/4 [keras]\n",
      "  Attempting uninstall: tensorboard\n",
      "   -------------------- ------------------- 2/4 [keras]\n",
      "    Found existing installation: tensorboard 2.20.0\n",
      "   -------------------- ------------------- 2/4 [keras]\n",
      "   ------------------------------ --------- 3/4 [tensorboard]\n",
      "    Uninstalling tensorboard-2.20.0:\n",
      "   ------------------------------ --------- 3/4 [tensorboard]\n",
      "   ------------------------------ --------- 3/4 [tensorboard]\n",
      "      Successfully uninstalled tensorboard-2.20.0\n",
      "   ------------------------------ --------- 3/4 [tensorboard]\n",
      "   ------------------------------ --------- 3/4 [tensorboard]\n",
      "   ------------------------------ --------- 3/4 [tensorboard]\n",
      "   ------------------------------ --------- 3/4 [tensorboard]\n",
      "   ------------------------------ --------- 3/4 [tensorboard]\n",
      "   ------------------------------ --------- 3/4 [tensorboard]\n",
      "   ------------------------------ --------- 3/4 [tensorboard]\n",
      "   ------------------------------ --------- 3/4 [tensorboard]\n",
      "   ------------------------------ --------- 3/4 [tensorboard]\n",
      "   ------------------------------ --------- 3/4 [tensorboard]\n",
      "   ------------------------------ --------- 3/4 [tensorboard]\n",
      "   ------------------------------ --------- 3/4 [tensorboard]\n",
      "   ------------------------------ --------- 3/4 [tensorboard]\n",
      "   ------------------------------ --------- 3/4 [tensorboard]\n",
      "   ------------------------------ --------- 3/4 [tensorboard]\n",
      "   ------------------------------ --------- 3/4 [tensorboard]\n",
      "   ------------------------------ --------- 3/4 [tensorboard]\n",
      "   ------------------------------ --------- 3/4 [tensorboard]\n",
      "   ------------------------------ --------- 3/4 [tensorboard]\n",
      "   ------------------------------ --------- 3/4 [tensorboard]\n",
      "   ------------------------------ --------- 3/4 [tensorboard]\n",
      "   ------------------------------ --------- 3/4 [tensorboard]\n",
      "   ------------------------------ --------- 3/4 [tensorboard]\n",
      "   ------------------------------ --------- 3/4 [tensorboard]\n",
      "   ------------------------------ --------- 3/4 [tensorboard]\n",
      "   ------------------------------ --------- 3/4 [tensorboard]\n",
      "   ------------------------------ --------- 3/4 [tensorboard]\n",
      "   ------------------------------ --------- 3/4 [tensorboard]\n",
      "   ------------------------------ --------- 3/4 [tensorboard]\n",
      "   ------------------------------ --------- 3/4 [tensorboard]\n",
      "   ------------------------------ --------- 3/4 [tensorboard]\n",
      "   ------------------------------ --------- 3/4 [tensorboard]\n",
      "   ------------------------------ --------- 3/4 [tensorboard]\n",
      "   ------------------------------ --------- 3/4 [tensorboard]\n",
      "   ------------------------------ --------- 3/4 [tensorboard]\n",
      "   ------------------------------ --------- 3/4 [tensorboard]\n",
      "   ---------------------------------------- 4/4 [tensorboard]\n",
      "\n",
      "Successfully installed keras-2.15.0 ml-dtypes-0.3.2 protobuf-4.25.8 tensorboard-2.15.2\n",
      "Note: you may need to restart the kernel to use updated packages.\n"
     ]
    },
    {
     "name": "stderr",
     "output_type": "stream",
     "text": [
      "  WARNING: Failed to remove contents in a temporary directory 'C:\\Users\\User\\Desktop\\Facu\\Master_Espana\\Master_UEMC\\TFM\\codigo\\analisis_guerra_ucrania_youtube\\.venv\\Lib\\site-packages\\google\\~-pb'.\n",
      "  You can safely remove it manually.\n",
      "  WARNING: Failed to remove contents in a temporary directory 'C:\\Users\\User\\Desktop\\Facu\\Master_Espana\\Master_UEMC\\TFM\\codigo\\analisis_guerra_ucrania_youtube\\.venv\\Lib\\site-packages\\~-_dtypes'.\n",
      "  You can safely remove it manually.\n"
     ]
    }
   ],
   "source": [
    "#%pip install --upgrade openpyxl\n",
    "%pip install tf_keras\n",
    "%pip install tensorflow"
   ]
  },
  {
   "cell_type": "code",
   "execution_count": null,
   "id": "7b141998",
   "metadata": {},
   "outputs": [],
   "source": [
    "# ============================================================\n",
    "# ENTRENAR (TF/Keras) con 9.000 y CLASIFICAR ~100k\n",
    "# Reglas + DistilBERT Multilingüe (TensorFlow) + Abstención\n",
    "# ============================================================\n"
   ]
  },
  {
   "cell_type": "code",
   "execution_count": null,
   "id": "7e139af6",
   "metadata": {},
   "outputs": [
    {
     "name": "stdout",
     "output_type": "stream",
     "text": [
      "WARNING:tensorflow:From c:\\Users\\User\\Desktop\\Facu\\Master_Espana\\Master_UEMC\\TFM\\codigo\\analisis_guerra_ucrania_youtube\\.venv\\Lib\\site-packages\\keras\\src\\losses.py:2976: The name tf.losses.sparse_softmax_cross_entropy is deprecated. Please use tf.compat.v1.losses.sparse_softmax_cross_entropy instead.\n",
      "\n"
     ]
    }
   ],
   "source": [
    "\n",
    "import re, math, json, logging\n",
    "import os\n",
    "import numpy as np\n",
    "import pandas as pd\n",
    "import matplotlib.pyplot as plt\n",
    "from dataclasses import dataclass\n",
    "from typing import List, Optional\n",
    "from tqdm.auto import tqdm\n",
    "\n",
    "import tensorflow as tf\n",
    "import keras\n",
    "from sklearn.model_selection import train_test_split\n",
    "from sklearn.utils.class_weight import compute_class_weight\n",
    "from sklearn.metrics import classification_report, confusion_matrix, f1_score, precision_recall_fscore_support, accuracy_score\n",
    "from scipy.special import softmax\n",
    "\n",
    "from transformers import (\n",
    "    AutoTokenizer, TFAutoModelForSequenceClassification\n",
    ")"
   ]
  },
  {
   "cell_type": "code",
   "execution_count": 20,
   "id": "202eb1d2",
   "metadata": {},
   "outputs": [],
   "source": [
    "os.environ[\"USE_TF\"] = \"1\"\n",
    "os.environ[\"TRANSFORMERS_NO_TORCH\"] = \"1\"\n",
    "os.environ[\"TOKENIZERS_PARALLELISM\"] = \"false\"\n",
    "os.environ[\"TF_CPP_MIN_LOG_LEVEL\"] = \"2\"  # optional: quieter logs\n",
    "# Optional: if you want to silence oneDNN note:\n",
    "# os.environ[\"TF_ENABLE_ONEDNN_OPTS\"] = \"0\""
   ]
  },
  {
   "cell_type": "code",
   "execution_count": 2,
   "id": "7ccdfb24",
   "metadata": {},
   "outputs": [],
   "source": [
    "# ----------------------------\n",
    "# Paths y configuración\n",
    "# ----------------------------\n",
    "RANDOM_SEED = 42\n",
    "np.random.seed(RANDOM_SEED)\n",
    "tf.random.set_seed(RANDOM_SEED)\n",
    "\n",
    "MODEL_NAME = \"distilbert-base-multilingual-cased\"  # TF-friendly, multilingüe\n",
    "OUTPUT_DIR = \"../models/tf_distilmbert_stance_v1\"\n",
    "LOG_DIR = \"../logs\"\n",
    "os.makedirs(OUTPUT_DIR, exist_ok=True)\n",
    "os.makedirs(LOG_DIR, exist_ok=True)"
   ]
  },
  {
   "cell_type": "code",
   "execution_count": 3,
   "id": "76a13624",
   "metadata": {},
   "outputs": [],
   "source": [
    "# Archivos\n",
    "PATH_9K  = \"../data/processed/comentarios_clasificados_9000_hibrido.xlsx\"   # tiene label_final, clasificacion_origen, ml_proba_max, ml_margen (opc.)\n",
    "PATH_FULL = \"../data/processed/3_comments_youtube_with_insults.csv\"          # 113.585 con 'insulto' y 'n_insultos'\n",
    "OUT_FULL = \"../data/final/comments_full_clasificados_tf.xlsx\"\n",
    "\n",
    "LABELS = [\"ruso\", \"ucraniano\", \"neutro\"]\n",
    "LABEL2ID = {l:i for i,l in enumerate(LABELS)}\n",
    "ID2LABEL = {i:l for l,i in LABEL2ID.items()}"
   ]
  },
  {
   "cell_type": "code",
   "execution_count": 15,
   "id": "d69da3ca",
   "metadata": {},
   "outputs": [
    {
     "name": "stderr",
     "output_type": "stream",
     "text": [
      "2025-10-12 21:57:35,537 [INFO] === Inicio TF DistilBERT stance ===\n"
     ]
    }
   ],
   "source": [
    "# ----------------------------\n",
    "# Logging a archivo + consola\n",
    "# ----------------------------\n",
    "logging.basicConfig(\n",
    "    filename=os.path.join(LOG_DIR, \"tf_training_inference.log\"),\n",
    "    level=logging.INFO,\n",
    "    format=\"%(asctime)s [%(levelname)s] %(message)s\"\n",
    ")\n",
    "console = logging.StreamHandler()\n",
    "console.setLevel(logging.INFO)\n",
    "console.setFormatter(logging.Formatter(\"%(asctime)s [%(levelname)s] %(message)s\"))\n",
    "logging.getLogger().addHandler(console)\n",
    "logging.info(\"=== Inicio TF DistilBERT stance ===\")"
   ]
  },
  {
   "cell_type": "code",
   "execution_count": 6,
   "id": "f322a199",
   "metadata": {},
   "outputs": [],
   "source": [
    "# ----------------------------\n",
    "# Utilidades de texto y reglas\n",
    "# ----------------------------\n",
    "def clean_text(s: str) -> str:\n",
    "    s = re.sub(r\"http\\S+\", \" \", s)\n",
    "    s = re.sub(r\"@[A-Za-z0-9_]+\", \" \", s)\n",
    "    s = re.sub(r\"[^A-Za-zÀ-ÿ0-9\\s]\", \" \", s)\n",
    "    s = re.sub(r\"\\s+\", \" \", s).strip().lower()\n",
    "    return s\n",
    "\n",
    "def contains_any(s: str, bag: List[str]) -> bool:\n",
    "    s = s.lower()\n",
    "    return any(k in s for k in bag)\n",
    "\n",
    "\n",
    "PRAISE = [\n",
    "    \"gran canal\",\"buen canal\",\"buen vídeo\",\"gran vídeo\",\"gracias por informar\",\"excelente análisis\", \n",
    "    \"buen canal\",\"buen análisis\",\"buen analisis\",\"me gusta el canal\",\"me encanta\", \"canal objetivo\", \n",
    "    \"muy claro\",\"te felicito\",\"gracias por el análisis\", \"buen resumen\" \n",
    "]\n",
    "RUS_POWER = [\n",
    "    \"sarmat\",\"misil\",\"misiles\",\"hipersónico\",\"hipersonico\",\"alcance nuclear\",\n",
    "    \"no se metan con rusia\",\"no se metan con los rusos\",\"poder ruso\",\"armamento ruso\",\"potencia rusa\",\n",
    "    \"khinzal\",\"kinzhal\",\"avangard\",\"poseidon\",\"tsirkon\",\"zircón\",\"isdm\",\"kalibr\", \"borrar kiev\"\n",
    "]\n",
    "PEACE = [\n",
    "    \"paz\",\"alto el fuego\",\"alto al fuego\",\"basta de guerra\",\"tragedia para ambos\",\n",
    "    \"muertes\",\"sufrimiento\",\"fin de la guerra\",\"paren la guerra\",\"que pare la guerra\",\n",
    "    \"humanitario\",\"ayuda humanitaria\",\"no más guerra\", \"no mas guerra\",\"acuerdo de paz\"\n",
    "]\n",
    "ANTI_OCC = [\n",
    "    \"otan\",\"cnn\",\"occidente\",\"eeuu\",\"estados unidos\",\"propaganda occidental\",\"mentira occidental\",\n",
    "    \"ue propaganda\",\"nato\", \"occidente decadente\",\"imperio yanqui\",\"globalistas\",\"agenda 2030\"\n",
    "]\n",
    "ANTI_RUS = [\n",
    "    \"putin asesino\",\"dictador\",\"rusia invasora\",\"invasión rusa\",\"invasion rusa\",\n",
    "    \"rusos mentirosos\",\"propaganda rusa\",\"kremlin miente\",\"criminal de guerra\",\n",
    "    \"rusia criminal\",\"imperio ruso\",\"genocidas rusos\",\"terrorismo ruso\",\"criminales rusos\", \n",
    "    \"bot ruso\"\n",
    "]"
   ]
  },
  {
   "cell_type": "code",
   "execution_count": 7,
   "id": "086c206c",
   "metadata": {},
   "outputs": [],
   "source": [
    "\n",
    "def rule_classifier(row):\n",
    "    text  = str(row[\"comment\"]).lower()\n",
    "    canal = str(row[\"condiciones_cuenta\"]).strip().lower()  # 'pro-ucraniano'/'pro-ruso'/'neutral'\n",
    "    insult = bool(row.get(\"insulto\", False))\n",
    "    fuera  = str(row.get(\"fuera_de_contexto\",\"\")).lower() in {\"sí\",\"si\",\"true\"}\n",
    "\n",
    "    if fuera:\n",
    "        return None, \"regla-fuera-contexto\"\n",
    "\n",
    "    if insult and canal in {\"pro-ucraniano\",\"pro-ruso\"}:\n",
    "        return (\"ruso\" if canal==\"pro-ucraniano\" else \"ucraniano\"), \"regla-insulto-inversion\"\n",
    "\n",
    "    if contains_any(text, PRAISE) and canal in {\"pro-ucraniano\",\"pro-ruso\"}:\n",
    "        return (\"ucraniano\" if canal==\"pro-ucraniano\" else \"ruso\"), \"regla-elogio-canal\"\n",
    "\n",
    "    if contains_any(text, RUS_POWER):\n",
    "        if any(w in text for w in [\"potente\",\"poderoso\",\"impresionante\",\"temible\",\"arras\",\"reventar\",\"alcance\",\"amenaza\",\"hongo\",\"nuclear\",\"golpear\"]):\n",
    "            return \"ruso\", \"regla-poder-ruso\"\n",
    "\n",
    "    if contains_any(text, PEACE) and not insult:\n",
    "        if not contains_any(text, ANTI_OCC) and not contains_any(text, ANTI_RUS):\n",
    "            return \"neutro\", \"regla-paz-humanitaria\"\n",
    "\n",
    "    if canal == \"pro-ucraniano\" and contains_any(text, ANTI_OCC):\n",
    "        return \"ruso\", \"regla-anti-occidente-en-canal-pro-ucr\"\n",
    "\n",
    "    if canal == \"pro-ruso\" and contains_any(text, ANTI_RUS):\n",
    "        return \"ucraniano\", \"regla-anti-rusia-en-canal-pro-ruso\"\n",
    "\n",
    "    if \"putin\" in text and any(w in text for w in [\"asesino\",\"dictador\",\"criminal\",\"títere\",\"titere\"]):\n",
    "        return \"ucraniano\", \"regla-putin-neg\"\n",
    "\n",
    "    if \"zelensky\" in text and any(w in text for w in [\"títere\",\"titere\",\"payaso\",\"corrupto\",\"actor\"]):\n",
    "        return \"ruso\", \"regla-zelensky-neg\"\n",
    "\n",
    "    if canal == \"neutral\" and contains_any(text, PRAISE):\n",
    "        return \"neutro\", \"regla-elogio-canal-neutral\"\n",
    "\n",
    "    return None, None"
   ]
  },
  {
   "cell_type": "code",
   "execution_count": 8,
   "id": "a78d9a49",
   "metadata": {},
   "outputs": [],
   "source": [
    "\n",
    "# ----------------------------\n",
    "# Cargar 9k y preparar train\n",
    "# ----------------------------\n",
    "df9k = pd.read_excel(PATH_9K)\n",
    "df9k[\"comment\"] = df9k[\"comment\"].astype(str)\n",
    "df9k[\"condiciones_cuenta\"] = df9k[\"condiciones_cuenta\"].astype(str).str.strip().str.lower()\n",
    "df9k[\"comment_clean\"] = df9k[\"comment\"].apply(clean_text)\n",
    "df9k[\"text_with_ctx\"] = ((\"[canal:\"+df9k[\"condiciones_cuenta\"]+\"] \") + df9k[\"comment_clean\"]).str.strip()\n",
    "\n",
    "valid_labels = set(LABELS)\n",
    "df9k[\"label_final\"] = df9k[\"label_final\"].astype(str).str.strip().str.lower()\n",
    "df9k[\"clasificacion_origen\"] = df9k[\"clasificacion_origen\"].astype(str).str.strip().str.lower()\n"
   ]
  },
  {
   "cell_type": "code",
   "execution_count": 9,
   "id": "2b619bac",
   "metadata": {},
   "outputs": [
    {
     "name": "stdout",
     "output_type": "stream",
     "text": [
      "Train por origen:\n",
      " clasificacion_origen\n",
      "automatica-ml    2462\n",
      "humano           1453\n",
      "Name: count, dtype: int64\n"
     ]
    }
   ],
   "source": [
    "# criterio de calidad para entrenar:\n",
    "mask_h = (df9k[\"clasificacion_origen\"] == \"humano\") & (df9k[\"label_final\"].isin(valid_labels))\n",
    "mask_r = (df9k[\"clasificacion_origen\"] == \"regla\") & (df9k[\"label_final\"].isin(valid_labels))\n",
    "if \"ml_proba_max\" in df9k.columns and \"ml_margen\" in df9k.columns:\n",
    "    mask_m = (df9k[\"clasificacion_origen\"] == \"automatica-ml\") & \\\n",
    "             (df9k[\"label_final\"].isin(valid_labels)) & \\\n",
    "             (df9k[\"ml_proba_max\"] >= 0.60) & (df9k[\"ml_margen\"] >= 0.20)\n",
    "else:\n",
    "    mask_m = (df9k[\"clasificacion_origen\"] == \"automatica-ml\") & (df9k[\"label_final\"].isin(valid_labels))\n",
    "\n",
    "df_train = df9k[mask_h | mask_r | mask_m].copy()\n",
    "print(\"Train por origen:\\n\", df_train[\"clasificacion_origen\"].value_counts())"
   ]
  },
  {
   "cell_type": "code",
   "execution_count": 12,
   "id": "2156d4ac",
   "metadata": {},
   "outputs": [],
   "source": [
    "# sample weights por origen\n",
    "WEIGHTS_ORIGEN = {\"humano\":1.0, \"regla\":0.85, \"automatica-ml\":0.7}\n",
    "df_train[\"sample_weight\"] = df_train[\"clasificacion_origen\"].map(WEIGHTS_ORIGEN).fillna(0.7)\n",
    "\n",
    "X_all = df_train[\"text_with_ctx\"].tolist()\n",
    "y_all = df_train[\"label_final\"].map(LABEL2ID).values\n",
    "w_all = df_train[\"sample_weight\"].values\n",
    "\n",
    "Xtr, Xva, ytr, yva, wtr, wva = train_test_split(\n",
    "    X_all, y_all, w_all, test_size=0.2, random_state=RANDOM_SEED, stratify=y_all\n",
    ")"
   ]
  },
  {
   "cell_type": "code",
   "execution_count": 13,
   "id": "691a4707",
   "metadata": {},
   "outputs": [
    {
     "name": "stderr",
     "output_type": "stream",
     "text": [
      "c:\\Users\\User\\Desktop\\Facu\\Master_Espana\\Master_UEMC\\TFM\\codigo\\analisis_guerra_ucrania_youtube\\.venv\\Lib\\site-packages\\transformers\\tokenization_utils_base.py:1601: FutureWarning: `clean_up_tokenization_spaces` was not set. It will be set to `True` by default. This behavior will be depracted in transformers v4.45, and will be then set to `False` by default. For more details check this issue: https://github.com/huggingface/transformers/issues/31884\n",
      "  warnings.warn(\n"
     ]
    }
   ],
   "source": [
    "# ----------------------------\n",
    "# Tokenizer y TF Datasets\n",
    "# ----------------------------\n",
    "tokenizer = AutoTokenizer.from_pretrained(MODEL_NAME, use_fast=True)\n",
    "MAX_LEN = 200\n",
    "BATCH_TRAIN = 16\n",
    "BATCH_VAL = 32\n",
    "\n",
    "def encode_batch(texts):\n",
    "    enc = tokenizer(texts, truncation=True, padding=\"max_length\", max_length=MAX_LEN)\n",
    "    return {k: np.array(v) for k,v in enc.items()}\n",
    "\n",
    "enc_tr = encode_batch(Xtr)\n",
    "enc_va = encode_batch(Xva)\n",
    "\n",
    "train_ds = tf.data.Dataset.from_tensor_slices((enc_tr, ytr, wtr)).shuffle(2048, seed=RANDOM_SEED).batch(BATCH_TRAIN).prefetch(tf.data.AUTOTUNE)\n",
    "val_ds   = tf.data.Dataset.from_tensor_slices((enc_va, yva, wva)).batch(BATCH_VAL).prefetch(tf.data.AUTOTUNE)\n"
   ]
  },
  {
   "cell_type": "code",
   "execution_count": 23,
   "id": "0b2452be",
   "metadata": {},
   "outputs": [
    {
     "name": "stderr",
     "output_type": "stream",
     "text": [
      "Some weights of the PyTorch model were not used when initializing the TF 2.0 model TFDistilBertForSequenceClassification: ['vocab_transform.weight', 'vocab_layer_norm.bias', 'vocab_layer_norm.weight', 'vocab_transform.bias', 'vocab_projector.bias']\n",
      "- This IS expected if you are initializing TFDistilBertForSequenceClassification from a PyTorch model trained on another task or with another architecture (e.g. initializing a TFBertForSequenceClassification model from a BertForPreTraining model).\n",
      "- This IS NOT expected if you are initializing TFDistilBertForSequenceClassification from a PyTorch model that you expect to be exactly identical (e.g. initializing a TFBertForSequenceClassification model from a BertForSequenceClassification model).\n",
      "Some weights or buffers of the TF 2.0 model TFDistilBertForSequenceClassification were not initialized from the PyTorch model and are newly initialized: ['pre_classifier.weight', 'pre_classifier.bias', 'classifier.weight', 'classifier.bias']\n",
      "You should probably TRAIN this model on a down-stream task to be able to use it for predictions and inference.\n"
     ]
    },
    {
     "name": "stdout",
     "output_type": "stream",
     "text": [
      "ℹ️ Modelo inicializado desde distilbert-base-multilingual-cased\n"
     ]
    }
   ],
   "source": [
    "# Tokenizer (carga desde checkpoint si existe, si no desde el modelo base)\n",
    "if \"tokenizer\" not in globals():\n",
    "    if os.path.isdir(OUTPUT_DIR):\n",
    "        try:\n",
    "            tokenizer = AutoTokenizer.from_pretrained(OUTPUT_DIR, use_fast=True)\n",
    "        except Exception:\n",
    "            tokenizer = AutoTokenizer.from_pretrained(MODEL_NAME, use_fast=True)\n",
    "    else:\n",
    "        tokenizer = AutoTokenizer.from_pretrained(MODEL_NAME, use_fast=True)\n",
    "\n",
    "# Modelo (primero intenta checkpoint ../models/.../best, si no usa el base)\n",
    "best_ckpt = os.path.join(OUTPUT_DIR, \"best\")\n",
    "try:\n",
    "    if os.path.isdir(best_ckpt):\n",
    "        model = TFAutoModelForSequenceClassification.from_pretrained(\n",
    "            best_ckpt,\n",
    "            num_labels=len(LABELS),\n",
    "            id2label=ID2LABEL,\n",
    "            label2id=LABEL2ID,\n",
    "        )\n",
    "        print(\"✅ Modelo cargado desde checkpoint:\", best_ckpt)\n",
    "    else:\n",
    "        raise FileNotFoundError\n",
    "except Exception as e:\n",
    "    model = TFAutoModelForSequenceClassification.from_pretrained(\n",
    "        MODEL_NAME,\n",
    "        num_labels=len(LABELS),\n",
    "        id2label=ID2LABEL,\n",
    "        label2id=LABEL2ID,\n",
    "    )\n",
    "    print(\"ℹ️ Modelo inicializado desde\", MODEL_NAME)"
   ]
  },
  {
   "cell_type": "code",
   "execution_count": 24,
   "id": "b5b1dba3",
   "metadata": {},
   "outputs": [],
   "source": [
    "# OPTIMIZER / LOSS / METRICS con Keras 3\n",
    "lr = 3e-5\n",
    "optimizer = keras.optimizers.Adam(learning_rate=lr)\n",
    "loss      = keras.losses.SparseCategoricalCrossentropy(from_logits=True)\n",
    "metrics   = [keras.metrics.SparseCategoricalAccuracy(name=\"acc\")]\n",
    "\n",
    "# Dataset ya emite (enc, y, sw). Asegura dtypes (opcional pero recomendable)\n",
    "train_ds = train_ds.map(lambda enc, y, sw: (enc, tf.cast(y, tf.int32), tf.cast(sw, tf.float32)))\n",
    "val_ds   = val_ds.map(lambda enc, y, sw: (enc, tf.cast(y, tf.int32), tf.cast(sw, tf.float32)))\n",
    "\n",
    "# Compilar el modelo HF (TFDistilBertForSequenceClassification) con Keras 3\n",
    "model.compile(optimizer=optimizer, loss=loss, metrics=metrics)\n",
    "\n"
   ]
  },
  {
   "cell_type": "code",
   "execution_count": 20,
   "id": "6a7a978f",
   "metadata": {},
   "outputs": [
    {
     "name": "stdout",
     "output_type": "stream",
     "text": [
      "Epoch 1/3\n",
      "WARNING:tensorflow:From c:\\Users\\User\\Desktop\\Facu\\Master_Espana\\Master_UEMC\\TFM\\codigo\\analisis_guerra_ucrania_youtube\\.venv\\Lib\\site-packages\\keras\\src\\utils\\tf_utils.py:492: The name tf.ragged.RaggedTensorValue is deprecated. Please use tf.compat.v1.ragged.RaggedTensorValue instead.\n",
      "\n"
     ]
    },
    {
     "name": "stderr",
     "output_type": "stream",
     "text": [
      "2025-10-10 19:44:10,902 [WARNING] From c:\\Users\\User\\Desktop\\Facu\\Master_Espana\\Master_UEMC\\TFM\\codigo\\analisis_guerra_ucrania_youtube\\.venv\\Lib\\site-packages\\keras\\src\\utils\\tf_utils.py:492: The name tf.ragged.RaggedTensorValue is deprecated. Please use tf.compat.v1.ragged.RaggedTensorValue instead.\n",
      "\n"
     ]
    },
    {
     "name": "stdout",
     "output_type": "stream",
     "text": [
      "259/259 [==============================] - ETA: 0s - loss: 0.5875 - acc: 0.7413WARNING:tensorflow:`evaluate()` received a value for `sample_weight`, but `weighted_metrics` were not provided.  Did you mean to pass metrics to `weighted_metrics` in `compile()`?  If this is intentional you can pass `weighted_metrics=[]` to `compile()` in order to silence this warning.\n"
     ]
    },
    {
     "name": "stderr",
     "output_type": "stream",
     "text": [
      "2025-10-10 20:08:18,035 [WARNING] `evaluate()` received a value for `sample_weight`, but `weighted_metrics` were not provided.  Did you mean to pass metrics to `weighted_metrics` in `compile()`?  If this is intentional you can pass `weighted_metrics=[]` to `compile()` in order to silence this warning.\n"
     ]
    },
    {
     "name": "stdout",
     "output_type": "stream",
     "text": [
      "WARNING:tensorflow:From c:\\Users\\User\\Desktop\\Facu\\Master_Espana\\Master_UEMC\\TFM\\codigo\\analisis_guerra_ucrania_youtube\\.venv\\Lib\\site-packages\\keras\\src\\saving\\legacy\\saved_model\\save_impl.py:66: The name tf.logging.warning is deprecated. Please use tf.compat.v1.logging.warning instead.\n",
      "\n"
     ]
    },
    {
     "name": "stderr",
     "output_type": "stream",
     "text": [
      "2025-10-10 20:09:59,601 [WARNING] From c:\\Users\\User\\Desktop\\Facu\\Master_Espana\\Master_UEMC\\TFM\\codigo\\analisis_guerra_ucrania_youtube\\.venv\\Lib\\site-packages\\keras\\src\\saving\\legacy\\saved_model\\save_impl.py:66: The name tf.logging.warning is deprecated. Please use tf.compat.v1.logging.warning instead.\n",
      "\n"
     ]
    },
    {
     "name": "stdout",
     "output_type": "stream",
     "text": [
      "WARNING:tensorflow:Skipping full serialization of Keras layer <keras.src.layers.regularization.dropout.Dropout object at 0x000001546E732290>, because it is not built.\n"
     ]
    },
    {
     "name": "stderr",
     "output_type": "stream",
     "text": [
      "2025-10-10 20:09:59,603 [WARNING] Skipping full serialization of Keras layer <keras.src.layers.regularization.dropout.Dropout object at 0x000001546E732290>, because it is not built.\n"
     ]
    },
    {
     "name": "stdout",
     "output_type": "stream",
     "text": [
      "WARNING:tensorflow:Skipping full serialization of Keras layer <keras.src.layers.regularization.dropout.Dropout object at 0x000001546E761110>, because it is not built.\n"
     ]
    },
    {
     "name": "stderr",
     "output_type": "stream",
     "text": [
      "2025-10-10 20:09:59,618 [WARNING] Skipping full serialization of Keras layer <keras.src.layers.regularization.dropout.Dropout object at 0x000001546E761110>, because it is not built.\n"
     ]
    },
    {
     "name": "stdout",
     "output_type": "stream",
     "text": [
      "WARNING:tensorflow:Skipping full serialization of Keras layer <keras.src.layers.regularization.dropout.Dropout object at 0x000001546E635310>, because it is not built.\n"
     ]
    },
    {
     "name": "stderr",
     "output_type": "stream",
     "text": [
      "2025-10-10 20:09:59,645 [WARNING] Skipping full serialization of Keras layer <keras.src.layers.regularization.dropout.Dropout object at 0x000001546E635310>, because it is not built.\n"
     ]
    },
    {
     "name": "stdout",
     "output_type": "stream",
     "text": [
      "WARNING:tensorflow:Skipping full serialization of Keras layer <keras.src.layers.regularization.dropout.Dropout object at 0x000001546E804190>, because it is not built.\n"
     ]
    },
    {
     "name": "stderr",
     "output_type": "stream",
     "text": [
      "2025-10-10 20:09:59,662 [WARNING] Skipping full serialization of Keras layer <keras.src.layers.regularization.dropout.Dropout object at 0x000001546E804190>, because it is not built.\n"
     ]
    },
    {
     "name": "stdout",
     "output_type": "stream",
     "text": [
      "WARNING:tensorflow:Skipping full serialization of Keras layer <keras.src.layers.regularization.dropout.Dropout object at 0x000001546E4FBB90>, because it is not built.\n"
     ]
    },
    {
     "name": "stderr",
     "output_type": "stream",
     "text": [
      "2025-10-10 20:09:59,680 [WARNING] Skipping full serialization of Keras layer <keras.src.layers.regularization.dropout.Dropout object at 0x000001546E4FBB90>, because it is not built.\n"
     ]
    },
    {
     "name": "stdout",
     "output_type": "stream",
     "text": [
      "WARNING:tensorflow:Skipping full serialization of Keras layer <keras.src.layers.regularization.dropout.Dropout object at 0x000001546DAD4210>, because it is not built.\n"
     ]
    },
    {
     "name": "stderr",
     "output_type": "stream",
     "text": [
      "2025-10-10 20:09:59,701 [WARNING] Skipping full serialization of Keras layer <keras.src.layers.regularization.dropout.Dropout object at 0x000001546DAD4210>, because it is not built.\n"
     ]
    },
    {
     "name": "stdout",
     "output_type": "stream",
     "text": [
      "INFO:tensorflow:Assets written to: ../models/tf_distilmbert_stance_v1\\best\\assets\n"
     ]
    },
    {
     "name": "stderr",
     "output_type": "stream",
     "text": [
      "2025-10-10 20:10:23,680 [INFO] Assets written to: ../models/tf_distilmbert_stance_v1\\best\\assets\n"
     ]
    },
    {
     "name": "stdout",
     "output_type": "stream",
     "text": [
      "259/259 [==============================] - 1580s 6s/step - loss: 0.5875 - acc: 0.7413 - val_loss: 0.4919 - val_acc: 0.7898\n",
      "Epoch 2/3\n",
      "259/259 [==============================] - ETA: 0s - loss: 0.3778 - acc: 0.8381WARNING:tensorflow:`evaluate()` received a value for `sample_weight`, but `weighted_metrics` were not provided.  Did you mean to pass metrics to `weighted_metrics` in `compile()`?  If this is intentional you can pass `weighted_metrics=[]` to `compile()` in order to silence this warning.\n"
     ]
    },
    {
     "name": "stderr",
     "output_type": "stream",
     "text": [
      "2025-10-10 20:33:11,684 [WARNING] `evaluate()` received a value for `sample_weight`, but `weighted_metrics` were not provided.  Did you mean to pass metrics to `weighted_metrics` in `compile()`?  If this is intentional you can pass `weighted_metrics=[]` to `compile()` in order to silence this warning.\n"
     ]
    },
    {
     "name": "stdout",
     "output_type": "stream",
     "text": [
      "WARNING:tensorflow:Skipping full serialization of Keras layer <keras.src.layers.regularization.dropout.Dropout object at 0x000001546E732290>, because it is not built.\n"
     ]
    },
    {
     "name": "stderr",
     "output_type": "stream",
     "text": [
      "2025-10-10 20:34:40,463 [WARNING] Skipping full serialization of Keras layer <keras.src.layers.regularization.dropout.Dropout object at 0x000001546E732290>, because it is not built.\n"
     ]
    },
    {
     "name": "stdout",
     "output_type": "stream",
     "text": [
      "WARNING:tensorflow:Skipping full serialization of Keras layer <keras.src.layers.regularization.dropout.Dropout object at 0x000001546E761110>, because it is not built.\n"
     ]
    },
    {
     "name": "stderr",
     "output_type": "stream",
     "text": [
      "2025-10-10 20:34:40,479 [WARNING] Skipping full serialization of Keras layer <keras.src.layers.regularization.dropout.Dropout object at 0x000001546E761110>, because it is not built.\n"
     ]
    },
    {
     "name": "stdout",
     "output_type": "stream",
     "text": [
      "WARNING:tensorflow:Skipping full serialization of Keras layer <keras.src.layers.regularization.dropout.Dropout object at 0x000001546E635310>, because it is not built.\n"
     ]
    },
    {
     "name": "stderr",
     "output_type": "stream",
     "text": [
      "2025-10-10 20:34:40,493 [WARNING] Skipping full serialization of Keras layer <keras.src.layers.regularization.dropout.Dropout object at 0x000001546E635310>, because it is not built.\n"
     ]
    },
    {
     "name": "stdout",
     "output_type": "stream",
     "text": [
      "WARNING:tensorflow:Skipping full serialization of Keras layer <keras.src.layers.regularization.dropout.Dropout object at 0x000001546E804190>, because it is not built.\n"
     ]
    },
    {
     "name": "stderr",
     "output_type": "stream",
     "text": [
      "2025-10-10 20:34:40,514 [WARNING] Skipping full serialization of Keras layer <keras.src.layers.regularization.dropout.Dropout object at 0x000001546E804190>, because it is not built.\n"
     ]
    },
    {
     "name": "stdout",
     "output_type": "stream",
     "text": [
      "WARNING:tensorflow:Skipping full serialization of Keras layer <keras.src.layers.regularization.dropout.Dropout object at 0x000001546E4FBB90>, because it is not built.\n"
     ]
    },
    {
     "name": "stderr",
     "output_type": "stream",
     "text": [
      "2025-10-10 20:34:40,532 [WARNING] Skipping full serialization of Keras layer <keras.src.layers.regularization.dropout.Dropout object at 0x000001546E4FBB90>, because it is not built.\n"
     ]
    },
    {
     "name": "stdout",
     "output_type": "stream",
     "text": [
      "WARNING:tensorflow:Skipping full serialization of Keras layer <keras.src.layers.regularization.dropout.Dropout object at 0x000001546DAD4210>, because it is not built.\n"
     ]
    },
    {
     "name": "stderr",
     "output_type": "stream",
     "text": [
      "2025-10-10 20:34:40,547 [WARNING] Skipping full serialization of Keras layer <keras.src.layers.regularization.dropout.Dropout object at 0x000001546DAD4210>, because it is not built.\n"
     ]
    },
    {
     "name": "stdout",
     "output_type": "stream",
     "text": [
      "INFO:tensorflow:Assets written to: ../models/tf_distilmbert_stance_v1\\best\\assets\n"
     ]
    },
    {
     "name": "stderr",
     "output_type": "stream",
     "text": [
      "2025-10-10 20:35:00,505 [INFO] Assets written to: ../models/tf_distilmbert_stance_v1\\best\\assets\n"
     ]
    },
    {
     "name": "stdout",
     "output_type": "stream",
     "text": [
      "259/259 [==============================] - 1476s 6s/step - loss: 0.3778 - acc: 0.8381 - val_loss: 0.4596 - val_acc: 0.7994\n",
      "Epoch 3/3\n",
      "259/259 [==============================] - ETA: 0s - loss: 0.2196 - acc: 0.9199WARNING:tensorflow:`evaluate()` received a value for `sample_weight`, but `weighted_metrics` were not provided.  Did you mean to pass metrics to `weighted_metrics` in `compile()`?  If this is intentional you can pass `weighted_metrics=[]` to `compile()` in order to silence this warning.\n"
     ]
    },
    {
     "name": "stderr",
     "output_type": "stream",
     "text": [
      "2025-10-10 20:58:15,494 [WARNING] `evaluate()` received a value for `sample_weight`, but `weighted_metrics` were not provided.  Did you mean to pass metrics to `weighted_metrics` in `compile()`?  If this is intentional you can pass `weighted_metrics=[]` to `compile()` in order to silence this warning.\n"
     ]
    },
    {
     "name": "stdout",
     "output_type": "stream",
     "text": [
      "WARNING:tensorflow:Skipping full serialization of Keras layer <keras.src.layers.regularization.dropout.Dropout object at 0x000001546E732290>, because it is not built.\n"
     ]
    },
    {
     "name": "stderr",
     "output_type": "stream",
     "text": [
      "2025-10-10 20:59:46,688 [WARNING] Skipping full serialization of Keras layer <keras.src.layers.regularization.dropout.Dropout object at 0x000001546E732290>, because it is not built.\n"
     ]
    },
    {
     "name": "stdout",
     "output_type": "stream",
     "text": [
      "WARNING:tensorflow:Skipping full serialization of Keras layer <keras.src.layers.regularization.dropout.Dropout object at 0x000001546E761110>, because it is not built.\n"
     ]
    },
    {
     "name": "stderr",
     "output_type": "stream",
     "text": [
      "2025-10-10 20:59:46,688 [WARNING] Skipping full serialization of Keras layer <keras.src.layers.regularization.dropout.Dropout object at 0x000001546E761110>, because it is not built.\n"
     ]
    },
    {
     "name": "stdout",
     "output_type": "stream",
     "text": [
      "WARNING:tensorflow:Skipping full serialization of Keras layer <keras.src.layers.regularization.dropout.Dropout object at 0x000001546E635310>, because it is not built.\n"
     ]
    },
    {
     "name": "stderr",
     "output_type": "stream",
     "text": [
      "2025-10-10 20:59:46,698 [WARNING] Skipping full serialization of Keras layer <keras.src.layers.regularization.dropout.Dropout object at 0x000001546E635310>, because it is not built.\n"
     ]
    },
    {
     "name": "stdout",
     "output_type": "stream",
     "text": [
      "WARNING:tensorflow:Skipping full serialization of Keras layer <keras.src.layers.regularization.dropout.Dropout object at 0x000001546E804190>, because it is not built.\n"
     ]
    },
    {
     "name": "stderr",
     "output_type": "stream",
     "text": [
      "2025-10-10 20:59:46,723 [WARNING] Skipping full serialization of Keras layer <keras.src.layers.regularization.dropout.Dropout object at 0x000001546E804190>, because it is not built.\n"
     ]
    },
    {
     "name": "stdout",
     "output_type": "stream",
     "text": [
      "WARNING:tensorflow:Skipping full serialization of Keras layer <keras.src.layers.regularization.dropout.Dropout object at 0x000001546E4FBB90>, because it is not built.\n"
     ]
    },
    {
     "name": "stderr",
     "output_type": "stream",
     "text": [
      "2025-10-10 20:59:46,735 [WARNING] Skipping full serialization of Keras layer <keras.src.layers.regularization.dropout.Dropout object at 0x000001546E4FBB90>, because it is not built.\n"
     ]
    },
    {
     "name": "stdout",
     "output_type": "stream",
     "text": [
      "WARNING:tensorflow:Skipping full serialization of Keras layer <keras.src.layers.regularization.dropout.Dropout object at 0x000001546DAD4210>, because it is not built.\n"
     ]
    },
    {
     "name": "stderr",
     "output_type": "stream",
     "text": [
      "2025-10-10 20:59:46,754 [WARNING] Skipping full serialization of Keras layer <keras.src.layers.regularization.dropout.Dropout object at 0x000001546DAD4210>, because it is not built.\n"
     ]
    },
    {
     "name": "stdout",
     "output_type": "stream",
     "text": [
      "INFO:tensorflow:Assets written to: ../models/tf_distilmbert_stance_v1\\best\\assets\n"
     ]
    },
    {
     "name": "stderr",
     "output_type": "stream",
     "text": [
      "2025-10-10 21:00:07,524 [INFO] Assets written to: ../models/tf_distilmbert_stance_v1\\best\\assets\n"
     ]
    },
    {
     "name": "stdout",
     "output_type": "stream",
     "text": [
      "259/259 [==============================] - 1507s 6s/step - loss: 0.2196 - acc: 0.9199 - val_loss: 0.4519 - val_acc: 0.8274\n"
     ]
    }
   ],
   "source": [
    "# CALLBACKS con Keras 3 (NO uses tf.keras.callbacks.*)\n",
    "callbacks = [\n",
    "    keras.callbacks.EarlyStopping(monitor=\"val_loss\", patience=2, restore_best_weights=True),\n",
    "    keras.callbacks.ModelCheckpoint(\n",
    "        \"../models/tf_distilmbert_stance_v1/best\",\n",
    "        save_weights_only=False,\n",
    "        save_best_only=True,\n",
    "        monitor=\"val_loss\"\n",
    "    ),\n",
    "    keras.callbacks.CSVLogger(\"../logs/tf_training_log.csv\"),\n",
    "]\n",
    "\n",
    "history = model.fit(\n",
    "    train_ds,\n",
    "    validation_data=val_ds,\n",
    "    epochs=3,\n",
    "    verbose=1,\n",
    "    callbacks=callbacks\n",
    ")"
   ]
  },
  {
   "cell_type": "code",
   "execution_count": null,
   "id": "efbf8e1c",
   "metadata": {},
   "outputs": [],
   "source": [
    "# ============================\n",
    "# POST-ENTRENAMIENTO COMPLETO\n",
    "# (Eval + F1 + Gráficos + Guardado + Inferencia con abstención)\n",
    "# ============================\n",
    "\n"
   ]
  },
  {
   "cell_type": "code",
   "execution_count": 28,
   "id": "9d30765f",
   "metadata": {},
   "outputs": [],
   "source": [
    "# ----------------------------\n",
    "# 0) Utilidades / defaults\n",
    "# ----------------------------\n",
    "# Si no existen, define umbrales por defecto para abstención\n",
    "try:\n",
    "    UMBRAL_PROBA\n",
    "except NameError:\n",
    "    UMBRAL_PROBA = 0.55\n",
    "try:\n",
    "    UMBRAL_MARGEN\n",
    "except NameError:\n",
    "    UMBRAL_MARGEN = 0.15\n",
    "\n",
    "# Asegura nombres de columnas en CSVLogger\n",
    "LOG_PATH = \"../logs/tf_training_log.csv\"\n",
    "OUTPUT_DIR = \"../models/tf_distilmbert_stance_export\"\n",
    "os.makedirs(OUTPUT_DIR, exist_ok=True)"
   ]
  },
  {
   "cell_type": "code",
   "execution_count": 24,
   "id": "2d2dbc7c",
   "metadata": {},
   "outputs": [
    {
     "name": "stdout",
     "output_type": "stream",
     "text": [
      "=== Eval TF DistilBERT (validación) ===\n"
     ]
    }
   ],
   "source": [
    "# ----------------------------\n",
    "# 1) Evaluación en validación\n",
    "# ----------------------------\n",
    "# Crea un dataset de validación SIN sample_weight para predecir sin warnings\n",
    "val_ds_no_sw = tf.data.Dataset.from_tensor_slices((enc_va, yva)) \\\n",
    "    .batch(BATCH_VAL).prefetch(tf.data.AUTOTUNE)\n",
    "\n",
    "# Predicción: obtiene logits y predicciones top-1\n",
    "out = model.predict(val_ds_no_sw.map(lambda enc, y: ({k: enc[k] for k in [\"input_ids\",\"attention_mask\"]}, y)),\n",
    "                    verbose=0)\n",
    "logits = out.logits if hasattr(out, \"logits\") else out  # por compatibilidad\n",
    "yhat = logits.argmax(axis=1)\n",
    "\n",
    "print(\"=== Eval TF DistilBERT (validación) ===\")"
   ]
  },
  {
   "cell_type": "code",
   "execution_count": 25,
   "id": "151be634",
   "metadata": {},
   "outputs": [
    {
     "name": "stdout",
     "output_type": "stream",
     "text": [
      "              precision    recall  f1-score   support\n",
      "\n",
      "        ruso      0.849     0.925     0.886 585.1999999999996\n",
      "   ucraniano      0.744     0.542     0.627 135.00000000000014\n",
      "      neutro      0.645     0.556     0.597 112.50000000000013\n",
      "\n",
      "    accuracy                          0.813 832.6999999999998\n",
      "   macro avg      0.746     0.675     0.703 832.6999999999998\n",
      "weighted avg      0.805     0.813     0.805 832.6999999999998\n",
      "\n",
      "F1 macro: 0.703 | F1 weighted: 0.805\n"
     ]
    }
   ],
   "source": [
    "# Reporte con yva/yhat. Si quieres ponderar por pesos, pasa sample_weight=wva\n",
    "try:\n",
    "    print(classification_report(yva, yhat, target_names=LABELS, digits=3, sample_weight=wva))\n",
    "    f1_macro = f1_score(yva, yhat, average=\"macro\", sample_weight=wva)\n",
    "    f1_weighted = f1_score(yva, yhat, average=\"weighted\", sample_weight=wva)\n",
    "except NameError:\n",
    "    print(classification_report(yva, yhat, target_names=LABELS, digits=3))\n",
    "    f1_macro = f1_score(yva, yhat, average=\"macro\")\n",
    "    f1_weighted = f1_score(yva, yhat, average=\"weighted\")\n",
    "\n",
    "print(f\"F1 macro: {f1_macro:.3f} | F1 weighted: {f1_weighted:.3f}\")\n"
   ]
  },
  {
   "cell_type": "code",
   "execution_count": 26,
   "id": "20cbf185",
   "metadata": {},
   "outputs": [
    {
     "name": "stdout",
     "output_type": "stream",
     "text": [
      "\n",
      "Matriz de confusión:\n",
      "                 pred_ruso  pred_ucraniano  pred_neutro\n",
      "true_ruso             691              19           33\n",
      "true_ucraniano         60              90            9\n",
      "true_neutro            50               8           77\n",
      "\n",
      "Métricas por clase:\n",
      "        label  precision    recall        f1  support\n",
      "0       ruso   0.849498  0.924983  0.885635    585.2\n",
      "1  ucraniano   0.743902  0.542222  0.627249    135.0\n",
      "2     neutro   0.644696  0.556444  0.597328    112.5\n"
     ]
    }
   ],
   "source": [
    "# Matriz de confusión\n",
    "cm = confusion_matrix(yva, yhat, labels=range(len(LABELS)))\n",
    "cm_df = pd.DataFrame(cm, index=[f\"true_{l}\" for l in LABELS], columns=[f\"pred_{l}\" for l in LABELS])\n",
    "print(\"\\nMatriz de confusión:\\n\", cm_df)\n",
    "\n",
    "# Métricas por clase (precision/recall/F1/support)\n",
    "try:\n",
    "    pr, rc, f1c, sup = precision_recall_fscore_support(yva, yhat, labels=range(len(LABELS)),\n",
    "                                                       sample_weight=wva, zero_division=0)\n",
    "except NameError:\n",
    "    pr, rc, f1c, sup = precision_recall_fscore_support(yva, yhat, labels=range(len(LABELS)),\n",
    "                                                       zero_division=0)\n",
    "per_class_df = pd.DataFrame({\"label\": LABELS, \"precision\": pr, \"recall\": rc, \"f1\": f1c, \"support\": sup})\n",
    "print(\"\\nMétricas por clase:\\n\", per_class_df)"
   ]
  },
  {
   "cell_type": "code",
   "execution_count": 27,
   "id": "6753b3f7",
   "metadata": {},
   "outputs": [
    {
     "data": {
      "image/png": "[encoded data removed]",
      "text/plain": [
       "<Figure size 640x480 with 1 Axes>"
      ]
     },
     "metadata": {},
     "output_type": "display_data"
    },
    {
     "data": {
      "image/png": "[encoded data removed]",
      "text/plain": [
       "<Figure size 640x480 with 1 Axes>"
      ]
     },
     "metadata": {},
     "output_type": "display_data"
    }
   ],
   "source": [
    "# ----------------------------\n",
    "# 2) Gráficos (loss/acc y F1 por clase)\n",
    "# ----------------------------\n",
    "if os.path.exists(LOG_PATH):\n",
    "    df_log = pd.read_csv(LOG_PATH)\n",
    "    ep = range(1, len(df_log)+1)\n",
    "\n",
    "    # Loss\n",
    "    plt.figure()\n",
    "    plt.plot(ep, df_log[\"loss\"], label=\"train\")\n",
    "    if \"val_loss\" in df_log.columns: plt.plot(ep, df_log[\"val_loss\"], label=\"val\")\n",
    "    plt.xlabel(\"Epoch\"); plt.ylabel(\"Loss\"); plt.title(\"Loss por epoch\"); plt.legend(); plt.show()\n",
    "\n",
    "    # Accuracy (según cómo lo compilaste, puede llamarse acc/accuracy)\n",
    "    acc_col = \"acc\" if \"acc\" in df_log.columns else (\"accuracy\" if \"accuracy\" in df_log.columns else None)\n",
    "    val_acc_col = \"val_acc\" if \"val_acc\" in df_log.columns else (\"val_accuracy\" if \"val_accuracy\" in df_log.columns else None)\n",
    "    if acc_col:\n",
    "        plt.figure()\n",
    "        plt.plot(ep, df_log[acc_col], label=\"train\")\n",
    "        if val_acc_col: plt.plot(ep, df_log[val_acc_col], label=\"val\")\n",
    "        plt.xlabel(\"Epoch\"); plt.ylabel(\"Accuracy\"); plt.title(\"Accuracy por epoch\"); plt.legend(); plt.show()\n",
    "else:\n",
    "    print(f\"Aviso: no se encontró el log en {LOG_PATH}. ¿CSVLogger se configuró correctamente?\")\n"
   ]
  },
  {
   "cell_type": "code",
   "execution_count": 28,
   "id": "dae9e01e",
   "metadata": {},
   "outputs": [
    {
     "data": {
      "image/png": "[encoded data removed]",
      "text/plain": [
       "<Figure size 640x480 with 1 Axes>"
      ]
     },
     "metadata": {},
     "output_type": "display_data"
    }
   ],
   "source": [
    "# F1 por clase (barras)\n",
    "ax = per_class_df.plot(x=\"label\", y=\"f1\", kind=\"bar\")\n",
    "plt.title(\"F1 por clase (validación)\")\n",
    "plt.ylabel(\"F1\")\n",
    "plt.tight_layout()\n",
    "plt.show()"
   ]
  },
  {
   "cell_type": "code",
   "execution_count": 29,
   "id": "4499b2fe",
   "metadata": {},
   "outputs": [
    {
     "name": "stdout",
     "output_type": "stream",
     "text": [
      "✅ Modelo y tokenizer guardados en ../models/tf_distilmbert_stance_export\n"
     ]
    }
   ],
   "source": [
    "# ----------------------------\n",
    "# 3) Guardado del modelo/tokenizer\n",
    "# ----------------------------\n",
    "# Si entrenaste con TF *AutoModelForSequenceClassification* (HF TF), esto guarda el modelo en formato HF:\n",
    "try:\n",
    "    model.save_pretrained(OUTPUT_DIR)\n",
    "    tokenizer.save_pretrained(OUTPUT_DIR)\n",
    "    print(\"✅ Modelo y tokenizer guardados en\", OUTPUT_DIR)\n",
    "except Exception as e:\n",
    "    print(\"⚠️ No se pudo guardar con save_pretrained. Detalle:\", repr(e))\n",
    "    # Fallback SavedModel\n",
    "    tf.saved_model.save(model, os.path.join(OUTPUT_DIR, \"savedmodel\"))\n",
    "    print(\"✅ Guardado en formato SavedModel:\", os.path.join(OUTPUT_DIR, \"savedmodel\"))"
   ]
  },
  {
   "cell_type": "code",
   "execution_count": null,
   "id": "dab71f23",
   "metadata": {},
   "outputs": [],
   "source": [
    "# ----------------------------\n",
    "# 4) Inferencia en ~100k con abstención\n",
    "# ----------------------------\n",
    "# Requiere: PATH_FULL, clean_text, rule_classifier, LABELS, tokenizer, MAX_LEN"
   ]
  },
  {
   "cell_type": "code",
   "execution_count": 26,
   "id": "141a00a1",
   "metadata": {},
   "outputs": [
    {
     "name": "stderr",
     "output_type": "stream",
     "text": [
      "All model checkpoint layers were used when initializing TFDistilBertForSequenceClassification.\n",
      "\n",
      "All the layers of TFDistilBertForSequenceClassification were initialized from the model checkpoint at ../models/tf_distilmbert_stance_export.\n",
      "If your task is similar to the task the model of the checkpoint was trained on, you can already use TFDistilBertForSequenceClassification for predictions without further training.\n"
     ]
    }
   ],
   "source": [
    "from transformers import AutoTokenizer, TFAutoModelForSequenceClassification\n",
    "tokenizer = AutoTokenizer.from_pretrained(r\"../models/tf_distilmbert_stance_export\", use_fast=True); model = TFAutoModelForSequenceClassification.from_pretrained(r\"../models/tf_distilmbert_stance_export\")\n"
   ]
  },
  {
   "cell_type": "code",
   "execution_count": 30,
   "id": "77d648c2",
   "metadata": {},
   "outputs": [
    {
     "name": "stdout",
     "output_type": "stream",
     "text": [
      "Salida CSV: ../data/processed/7_predicciones_full_new.csv\n"
     ]
    }
   ],
   "source": [
    "# === Setup salida CSV (Power BI) + validaciones ===\n",
    "OUT_CSV      = \"../data/processed/7_predicciones_full_new.csv\"\n",
    "CHUNK        = 50_000            # filas por chunk (RAM estable)\n",
    "BATCH_INFER  = 512               # tamaño de lote para el modelo\n",
    "MILESTONE    = 50_000            # aviso cada 50k procesadas\n",
    "\n",
    "# Validaciones (evita NameError a mitad de camino)\n",
    "required = [\"PATH_FULL\",\"clean_text\",\"rule_classifier\",\"LABELS\",\"MAX_LEN\",\"UMBRAL_PROBA\",\"UMBRAL_MARGEN\"]\n",
    "missing = [v for v in required if v not in globals()]\n",
    "assert not missing, f\"Faltan variables/funciones: {missing}\"\n",
    "assert \"tokenizer\" in globals(), \"Falta 'tokenizer' (cargalo desde ../models/tf_distilmbert_stance_export)\"\n",
    "assert \"model\" in globals(), \"Falta 'model' (cargalo desde ../models/tf_distilmbert_stance_export)\"\n",
    "\n",
    "# Si existe un CSV previo, lo borro para escribir encabezado una sola vez\n",
    "if os.path.exists(OUT_CSV):\n",
    "    os.remove(OUT_CSV)\n",
    "\n",
    "print(\"Salida CSV:\", OUT_CSV)\n"
   ]
  },
  {
   "cell_type": "code",
   "execution_count": 32,
   "id": "55f057fa",
   "metadata": {},
   "outputs": [
    {
     "name": "stdout",
     "output_type": "stream",
     "text": [
      "➡️ Progreso: 50,000 filas procesadas y guardadas en CSV\n",
      "➡️ Progreso: 100,000 filas procesadas y guardadas en CSV\n",
      "➡️ Progreso: 150,000 filas procesadas y guardadas en CSV\n",
      "➡️ Progreso: 200,000 filas procesadas y guardadas en CSV\n",
      "➡️ Progreso: 250,000 filas procesadas y guardadas en CSV\n",
      "➡️ Progreso: 300,000 filas procesadas y guardadas en CSV\n",
      "➡️ Progreso: 350,000 filas procesadas y guardadas en CSV\n",
      "✅ Inferencia terminada → ../data/processed/7_predicciones_full_new.csv\n"
     ]
    }
   ],
   "source": [
    "def batched(iterable, n):\n",
    "    for i in range(0, len(iterable), n):\n",
    "        yield iterable[i:i+n]\n",
    "\n",
    "def infer_chunk_to_df(df_chunk: pd.DataFrame) -> pd.DataFrame:\n",
    "    # Normalización\n",
    "    df_chunk[\"comment\"] = df_chunk[\"comment\"].astype(str)\n",
    "    df_chunk[\"condiciones_cuenta\"] = df_chunk[\"condiciones_cuenta\"].astype(str).str.strip().str.lower()\n",
    "    df_chunk[\"comment_clean\"] = df_chunk[\"comment\"].apply(clean_text)\n",
    "    df_chunk[\"text_with_ctx\"] = ((\"[canal:\"+df_chunk[\"condiciones_cuenta\"]+\"] \") + df_chunk[\"comment_clean\"]).str.strip()\n",
    "\n",
    "    # Reglas primero\n",
    "    df_chunk[\"label_rule\"] = None\n",
    "    df_chunk[\"regla_aplicada\"] = None\n",
    "    for i in range(len(df_chunk)):\n",
    "        lab, rname = rule_classifier(df_chunk.iloc[i])\n",
    "        df_chunk.iat[i, df_chunk.columns.get_loc(\"label_rule\")] = lab\n",
    "        df_chunk.iat[i, df_chunk.columns.get_loc(\"regla_aplicada\")] = rname\n",
    "\n",
    "    is_rule = df_chunk[\"label_rule\"].isin(LABELS)\n",
    "    to_pred_mask = ~is_rule\n",
    "\n",
    "    # Inferencia NN en lotes (solo filas sin regla)\n",
    "    idxs  = df_chunk.loc[to_pred_mask].index.tolist()\n",
    "    texts = df_chunk.loc[to_pred_mask, \"text_with_ctx\"].tolist()\n",
    "\n",
    "    top1_lab_all, pmax_all, marg_all, entr_all = [], [], [], []\n",
    "    for chunk_txt in batched(texts, BATCH_INFER):\n",
    "        enc = tokenizer(chunk_txt, truncation=True, padding=True, max_length=MAX_LEN, return_tensors=\"tf\")\n",
    "        out = model(enc, training=False)\n",
    "        logits_np = out.logits.numpy() if hasattr(out, \"logits\") else out.numpy()\n",
    "        probas = tf.nn.softmax(logits_np, axis=1).numpy()\n",
    "\n",
    "        top1_idx = probas.argmax(axis=1)\n",
    "        top1_lab = np.array(LABELS)[top1_idx]\n",
    "        top1_p   = probas[np.arange(probas.shape[0]), top1_idx]\n",
    "        sorted_p = -np.sort(-probas, axis=1)\n",
    "        marg     = sorted_p[:, 0] - sorted_p[:, 1]\n",
    "        entropy  = -(probas * (np.log(probas + 1e-12))).sum(axis=1)\n",
    "\n",
    "        top1_lab_all.append(top1_lab)\n",
    "        pmax_all.append(top1_p)\n",
    "        marg_all.append(marg)\n",
    "        entr_all.append(entropy)\n",
    "\n",
    "    if len(top1_lab_all):\n",
    "        df_chunk.loc[idxs, \"label_ml\"]     = np.concatenate(top1_lab_all)\n",
    "        df_chunk.loc[idxs, \"ml_proba_max\"] = np.concatenate(pmax_all)\n",
    "        df_chunk.loc[idxs, \"ml_margen\"]    = np.concatenate(marg_all)\n",
    "        df_chunk.loc[idxs, \"ml_entropia\"]  = np.concatenate(entr_all)\n",
    "    else:\n",
    "        df_chunk[\"label_ml\"]     = np.nan\n",
    "        df_chunk[\"ml_proba_max\"] = np.nan\n",
    "        df_chunk[\"ml_margen\"]    = np.nan\n",
    "        df_chunk[\"ml_entropia\"]  = np.nan\n",
    "\n",
    "    # Decisión final con abstención\n",
    "    dec_lab, dec_src = [], []\n",
    "    for lab, pmax, mg in zip(\n",
    "        df_chunk[\"label_ml\"].fillna(\"\"),\n",
    "        df_chunk[\"ml_proba_max\"].fillna(0.0),\n",
    "        df_chunk[\"ml_margen\"].fillna(0.0),\n",
    "    ):\n",
    "        if (pmax >= UMBRAL_PROBA) and (mg >= UMBRAL_MARGEN):\n",
    "            dec_lab.append(lab); dec_src.append(\"automatica-nn-tf\")\n",
    "        else:\n",
    "            dec_lab.append(\"\");  dec_src.append(\"sin-clasificar\")\n",
    "    df_chunk[\"label_final\"] = dec_lab\n",
    "    df_chunk[\"clasificacion_origen\"] = dec_src\n",
    "\n",
    "    # Reglas tienen prioridad\n",
    "    df_chunk.loc[is_rule, \"label_final\"] = df_chunk.loc[is_rule, \"label_rule\"]\n",
    "    df_chunk.loc[is_rule, \"clasificacion_origen\"] = \"regla\"\n",
    "\n",
    "    return df_chunk\n",
    "\n",
    "# --- Bucle por chunks a CSV con logs cada 50k ---\n",
    "first = True\n",
    "processed = 0\n",
    "next_milestone = MILESTONE\n",
    "\n",
    "for df_part in pd.read_csv(PATH_FULL, chunksize=CHUNK):\n",
    "    df_out = infer_chunk_to_df(df_part)\n",
    "\n",
    "    df_out.to_csv(\n",
    "        OUT_CSV,\n",
    "        mode=\"w\" if first else \"a\",\n",
    "        header=first,\n",
    "        index=False,\n",
    "        encoding=\"utf-8-sig\",\n",
    "        lineterminator=\"\\n\"\n",
    "    )\n",
    "    first = False\n",
    "\n",
    "    processed += len(df_part)\n",
    "    if processed >= next_milestone:\n",
    "        print(f\"➡️ Progreso: {processed:,} filas procesadas y guardadas en CSV\")\n",
    "        next_milestone += MILESTONE\n",
    "\n",
    "print(f\"✅ Inferencia terminada → {OUT_CSV}\")"
   ]
  },
  {
   "cell_type": "code",
   "execution_count": null,
   "id": "1f050772",
   "metadata": {},
   "outputs": [
    {
     "name": "stdout",
     "output_type": "stream",
     "text": [
      "\n",
      "== Inferencia en lote con reglas + NN + abstención ==\n"
     ]
    },
    {
     "ename": "KeyboardInterrupt",
     "evalue": "",
     "output_type": "error",
     "traceback": [
      "\u001b[31m---------------------------------------------------------------------------\u001b[39m",
      "\u001b[31mKeyboardInterrupt\u001b[39m                         Traceback (most recent call last)",
      "\u001b[32m~\\AppData\\Local\\Temp\\ipykernel_10780\\2287274525.py\u001b[39m in \u001b[36m?\u001b[39m\u001b[34m()\u001b[39m\n\u001b[32m     86\u001b[39m     OUT_FULL = \u001b[33m\"predicciones_full_new.xlsx\"\u001b[39m\n\u001b[32m     87\u001b[39m     df_full.to_excel(OUT_FULL, index=\u001b[38;5;28;01mFalse\u001b[39;00m)\n\u001b[32m     88\u001b[39m     print(\u001b[33mf\"\\n✅ Guardado: {OUT_FULL}\"\u001b[39m)\n\u001b[32m     89\u001b[39m \n\u001b[32m---> \u001b[39m\u001b[32m90\u001b[39m \u001b[38;5;28;01mexcept\u001b[39;00m NameError \u001b[38;5;28;01mas\u001b[39;00m e:\n\u001b[32m     91\u001b[39m     print(\u001b[33m\"\\nℹ️ Saltando inferencia en lote: falta una variable o función requerida.\"\u001b[39m, e)\n\u001b[32m     92\u001b[39m     print(\u001b[33m\"Requiere: PATH_FULL, clean_text, rule_classifier, LABELS, tokenizer, MAX_LEN.\"\u001b[39m)\n",
      "\u001b[32mc:\\Users\\User\\Desktop\\Facu\\Master_Espana\\Master_UEMC\\TFM\\codigo\\analisis_guerra_ucrania_youtube\\.venv\\Lib\\site-packages\\keras\\src\\utils\\traceback_utils.py\u001b[39m in \u001b[36m?\u001b[39m\u001b[34m(*args, **kwargs)\u001b[39m\n\u001b[32m     68\u001b[39m             \u001b[38;5;66;03m# To get the full stack trace, call:\u001b[39;00m\n\u001b[32m     69\u001b[39m             \u001b[38;5;66;03m# `tf.debugging.disable_traceback_filtering()`\u001b[39;00m\n\u001b[32m     70\u001b[39m             \u001b[38;5;28;01mraise\u001b[39;00m e.with_traceback(filtered_tb) \u001b[38;5;28;01mfrom\u001b[39;00m \u001b[38;5;28;01mNone\u001b[39;00m\n\u001b[32m     71\u001b[39m         \u001b[38;5;28;01mfinally\u001b[39;00m:\n\u001b[32m---> \u001b[39m\u001b[32m72\u001b[39m             \u001b[38;5;28;01mdel\u001b[39;00m filtered_tb\n",
      "\u001b[32mc:\\Users\\User\\Desktop\\Facu\\Master_Espana\\Master_UEMC\\TFM\\codigo\\analisis_guerra_ucrania_youtube\\.venv\\Lib\\site-packages\\keras\\src\\engine\\training.py\u001b[39m in \u001b[36m?\u001b[39m\u001b[34m(self, *args, **kwargs)\u001b[39m\n\u001b[32m    586\u001b[39m                 super().__call__(inputs, *copied_args, **copied_kwargs)\n\u001b[32m    587\u001b[39m \n\u001b[32m    588\u001b[39m             layout_map_lib._map_subclass_model_variable(self, self._layout_map)\n\u001b[32m    589\u001b[39m \n\u001b[32m--> \u001b[39m\u001b[32m590\u001b[39m         \u001b[38;5;28;01mreturn\u001b[39;00m super().__call__(*args, **kwargs)\n",
      "\u001b[32mc:\\Users\\User\\Desktop\\Facu\\Master_Espana\\Master_UEMC\\TFM\\codigo\\analisis_guerra_ucrania_youtube\\.venv\\Lib\\site-packages\\keras\\src\\utils\\traceback_utils.py\u001b[39m in \u001b[36m?\u001b[39m\u001b[34m(*args, **kwargs)\u001b[39m\n\u001b[32m     68\u001b[39m             \u001b[38;5;66;03m# To get the full stack trace, call:\u001b[39;00m\n\u001b[32m     69\u001b[39m             \u001b[38;5;66;03m# `tf.debugging.disable_traceback_filtering()`\u001b[39;00m\n\u001b[32m     70\u001b[39m             \u001b[38;5;28;01mraise\u001b[39;00m e.with_traceback(filtered_tb) \u001b[38;5;28;01mfrom\u001b[39;00m \u001b[38;5;28;01mNone\u001b[39;00m\n\u001b[32m     71\u001b[39m         \u001b[38;5;28;01mfinally\u001b[39;00m:\n\u001b[32m---> \u001b[39m\u001b[32m72\u001b[39m             \u001b[38;5;28;01mdel\u001b[39;00m filtered_tb\n",
      "\u001b[32mc:\\Users\\User\\Desktop\\Facu\\Master_Espana\\Master_UEMC\\TFM\\codigo\\analisis_guerra_ucrania_youtube\\.venv\\Lib\\site-packages\\keras\\src\\engine\\base_layer.py\u001b[39m in \u001b[36m?\u001b[39m\u001b[34m(self, *args, **kwargs)\u001b[39m\n\u001b[32m   1145\u001b[39m \n\u001b[32m   1146\u001b[39m                 with autocast_variable.enable_auto_cast_variables(\n\u001b[32m   1147\u001b[39m                     self._compute_dtype_object\n\u001b[32m   1148\u001b[39m                 ):\n\u001b[32m-> \u001b[39m\u001b[32m1149\u001b[39m                     outputs = call_fn(inputs, *args, **kwargs)\n\u001b[32m   1150\u001b[39m \n\u001b[32m   1151\u001b[39m                 \u001b[38;5;28;01mif\u001b[39;00m self._activity_regularizer:\n\u001b[32m   1152\u001b[39m                     self._handle_activity_regularization(inputs, outputs)\n",
      "\u001b[32mc:\\Users\\User\\Desktop\\Facu\\Master_Espana\\Master_UEMC\\TFM\\codigo\\analisis_guerra_ucrania_youtube\\.venv\\Lib\\site-packages\\keras\\src\\utils\\traceback_utils.py\u001b[39m in \u001b[36m?\u001b[39m\u001b[34m(*args, **kwargs)\u001b[39m\n\u001b[32m    154\u001b[39m                 new_e = e\n\u001b[32m    155\u001b[39m             \u001b[38;5;28;01mraise\u001b[39;00m new_e.with_traceback(e.__traceback__) \u001b[38;5;28;01mfrom\u001b[39;00m \u001b[38;5;28;01mNone\u001b[39;00m\n\u001b[32m    156\u001b[39m         \u001b[38;5;28;01mfinally\u001b[39;00m:\n\u001b[32m    157\u001b[39m             \u001b[38;5;28;01mdel\u001b[39;00m signature\n\u001b[32m--> \u001b[39m\u001b[32m158\u001b[39m             \u001b[38;5;28;01mdel\u001b[39;00m bound_signature\n",
      "\u001b[32mc:\\Users\\User\\Desktop\\Facu\\Master_Espana\\Master_UEMC\\TFM\\codigo\\analisis_guerra_ucrania_youtube\\.venv\\Lib\\site-packages\\transformers\\modeling_tf_utils.py\u001b[39m in \u001b[36m?\u001b[39m\u001b[34m(self, *args, **kwargs)\u001b[39m\n\u001b[32m    433\u001b[39m         \u001b[38;5;28;01melse\u001b[39;00m:\n\u001b[32m    434\u001b[39m             config = self.config\n\u001b[32m    435\u001b[39m \n\u001b[32m    436\u001b[39m         unpacked_inputs = input_processing(func, config, **fn_args_and_kwargs)\n\u001b[32m--> \u001b[39m\u001b[32m437\u001b[39m         \u001b[38;5;28;01mreturn\u001b[39;00m func(self, **unpacked_inputs)\n",
      "\u001b[32mc:\\Users\\User\\Desktop\\Facu\\Master_Espana\\Master_UEMC\\TFM\\codigo\\analisis_guerra_ucrania_youtube\\.venv\\Lib\\site-packages\\transformers\\models\\distilbert\\modeling_tf_distilbert.py\u001b[39m in \u001b[36m?\u001b[39m\u001b[34m(self, input_ids, attention_mask, head_mask, inputs_embeds, output_attentions, output_hidden_states, return_dict, labels, training)\u001b[39m\n\u001b[32m    805\u001b[39m             Labels for computing the sequence classification/regression loss. Indices should be in `[0, ...,\n\u001b[32m    806\u001b[39m             config.num_labels - 1]`. If `config.num_labels == 1` a regression loss is computed (Mean-Square loss), If\n\u001b[32m    807\u001b[39m             `config.num_labels > \u001b[32m1\u001b[39m` a classification loss \u001b[38;5;28;01mis\u001b[39;00m computed (Cross-Entropy).\n\u001b[32m    808\u001b[39m         \"\"\"\n\u001b[32m--> \u001b[39m\u001b[32m809\u001b[39m         distilbert_output = self.distilbert(\n\u001b[32m    810\u001b[39m             input_ids=input_ids,\n\u001b[32m    811\u001b[39m             attention_mask=attention_mask,\n\u001b[32m    812\u001b[39m             head_mask=head_mask,\n",
      "\u001b[32mc:\\Users\\User\\Desktop\\Facu\\Master_Espana\\Master_UEMC\\TFM\\codigo\\analisis_guerra_ucrania_youtube\\.venv\\Lib\\site-packages\\keras\\src\\utils\\traceback_utils.py\u001b[39m in \u001b[36m?\u001b[39m\u001b[34m(*args, **kwargs)\u001b[39m\n\u001b[32m     68\u001b[39m             \u001b[38;5;66;03m# To get the full stack trace, call:\u001b[39;00m\n\u001b[32m     69\u001b[39m             \u001b[38;5;66;03m# `tf.debugging.disable_traceback_filtering()`\u001b[39;00m\n\u001b[32m     70\u001b[39m             \u001b[38;5;28;01mraise\u001b[39;00m e.with_traceback(filtered_tb) \u001b[38;5;28;01mfrom\u001b[39;00m \u001b[38;5;28;01mNone\u001b[39;00m\n\u001b[32m     71\u001b[39m         \u001b[38;5;28;01mfinally\u001b[39;00m:\n\u001b[32m---> \u001b[39m\u001b[32m72\u001b[39m             \u001b[38;5;28;01mdel\u001b[39;00m filtered_tb\n",
      "\u001b[32mc:\\Users\\User\\Desktop\\Facu\\Master_Espana\\Master_UEMC\\TFM\\codigo\\analisis_guerra_ucrania_youtube\\.venv\\Lib\\site-packages\\keras\\src\\engine\\base_layer.py\u001b[39m in \u001b[36m?\u001b[39m\u001b[34m(self, *args, **kwargs)\u001b[39m\n\u001b[32m   1145\u001b[39m \n\u001b[32m   1146\u001b[39m                 with autocast_variable.enable_auto_cast_variables(\n\u001b[32m   1147\u001b[39m                     self._compute_dtype_object\n\u001b[32m   1148\u001b[39m                 ):\n\u001b[32m-> \u001b[39m\u001b[32m1149\u001b[39m                     outputs = call_fn(inputs, *args, **kwargs)\n\u001b[32m   1150\u001b[39m \n\u001b[32m   1151\u001b[39m                 \u001b[38;5;28;01mif\u001b[39;00m self._activity_regularizer:\n\u001b[32m   1152\u001b[39m                     self._handle_activity_regularization(inputs, outputs)\n",
      "\u001b[32mc:\\Users\\User\\Desktop\\Facu\\Master_Espana\\Master_UEMC\\TFM\\codigo\\analisis_guerra_ucrania_youtube\\.venv\\Lib\\site-packages\\keras\\src\\utils\\traceback_utils.py\u001b[39m in \u001b[36m?\u001b[39m\u001b[34m(*args, **kwargs)\u001b[39m\n\u001b[32m    154\u001b[39m                 new_e = e\n\u001b[32m    155\u001b[39m             \u001b[38;5;28;01mraise\u001b[39;00m new_e.with_traceback(e.__traceback__) \u001b[38;5;28;01mfrom\u001b[39;00m \u001b[38;5;28;01mNone\u001b[39;00m\n\u001b[32m    156\u001b[39m         \u001b[38;5;28;01mfinally\u001b[39;00m:\n\u001b[32m    157\u001b[39m             \u001b[38;5;28;01mdel\u001b[39;00m signature\n\u001b[32m--> \u001b[39m\u001b[32m158\u001b[39m             \u001b[38;5;28;01mdel\u001b[39;00m bound_signature\n",
      "\u001b[32mc:\\Users\\User\\Desktop\\Facu\\Master_Espana\\Master_UEMC\\TFM\\codigo\\analisis_guerra_ucrania_youtube\\.venv\\Lib\\site-packages\\transformers\\modeling_tf_utils.py\u001b[39m in \u001b[36m?\u001b[39m\u001b[34m(self, *args, **kwargs)\u001b[39m\n\u001b[32m    433\u001b[39m         \u001b[38;5;28;01melse\u001b[39;00m:\n\u001b[32m    434\u001b[39m             config = self.config\n\u001b[32m    435\u001b[39m \n\u001b[32m    436\u001b[39m         unpacked_inputs = input_processing(func, config, **fn_args_and_kwargs)\n\u001b[32m--> \u001b[39m\u001b[32m437\u001b[39m         \u001b[38;5;28;01mreturn\u001b[39;00m func(self, **unpacked_inputs)\n",
      "\u001b[32mc:\\Users\\User\\Desktop\\Facu\\Master_Espana\\Master_UEMC\\TFM\\codigo\\analisis_guerra_ucrania_youtube\\.venv\\Lib\\site-packages\\transformers\\models\\distilbert\\modeling_tf_distilbert.py\u001b[39m in \u001b[36m?\u001b[39m\u001b[34m(self, input_ids, attention_mask, head_mask, inputs_embeds, output_attentions, output_hidden_states, return_dict, training)\u001b[39m\n\u001b[32m    451\u001b[39m         \u001b[38;5;28;01melse\u001b[39;00m:\n\u001b[32m    452\u001b[39m             head_mask = [\u001b[38;5;28;01mNone\u001b[39;00m] * self.num_hidden_layers\n\u001b[32m    453\u001b[39m \n\u001b[32m    454\u001b[39m         embedding_output = self.embeddings(input_ids, inputs_embeds=inputs_embeds)  \u001b[38;5;66;03m# (bs, seq_length, dim)\u001b[39;00m\n\u001b[32m--> \u001b[39m\u001b[32m455\u001b[39m         tfmr_output = self.transformer(\n\u001b[32m    456\u001b[39m             embedding_output,\n\u001b[32m    457\u001b[39m             attention_mask,\n\u001b[32m    458\u001b[39m             head_mask,\n",
      "\u001b[32mc:\\Users\\User\\Desktop\\Facu\\Master_Espana\\Master_UEMC\\TFM\\codigo\\analisis_guerra_ucrania_youtube\\.venv\\Lib\\site-packages\\keras\\src\\utils\\traceback_utils.py\u001b[39m in \u001b[36m?\u001b[39m\u001b[34m(*args, **kwargs)\u001b[39m\n\u001b[32m     68\u001b[39m             \u001b[38;5;66;03m# To get the full stack trace, call:\u001b[39;00m\n\u001b[32m     69\u001b[39m             \u001b[38;5;66;03m# `tf.debugging.disable_traceback_filtering()`\u001b[39;00m\n\u001b[32m     70\u001b[39m             \u001b[38;5;28;01mraise\u001b[39;00m e.with_traceback(filtered_tb) \u001b[38;5;28;01mfrom\u001b[39;00m \u001b[38;5;28;01mNone\u001b[39;00m\n\u001b[32m     71\u001b[39m         \u001b[38;5;28;01mfinally\u001b[39;00m:\n\u001b[32m---> \u001b[39m\u001b[32m72\u001b[39m             \u001b[38;5;28;01mdel\u001b[39;00m filtered_tb\n",
      "\u001b[32mc:\\Users\\User\\Desktop\\Facu\\Master_Espana\\Master_UEMC\\TFM\\codigo\\analisis_guerra_ucrania_youtube\\.venv\\Lib\\site-packages\\keras\\src\\engine\\base_layer.py\u001b[39m in \u001b[36m?\u001b[39m\u001b[34m(self, *args, **kwargs)\u001b[39m\n\u001b[32m   1145\u001b[39m \n\u001b[32m   1146\u001b[39m                 with autocast_variable.enable_auto_cast_variables(\n\u001b[32m   1147\u001b[39m                     self._compute_dtype_object\n\u001b[32m   1148\u001b[39m                 ):\n\u001b[32m-> \u001b[39m\u001b[32m1149\u001b[39m                     outputs = call_fn(inputs, *args, **kwargs)\n\u001b[32m   1150\u001b[39m \n\u001b[32m   1151\u001b[39m                 \u001b[38;5;28;01mif\u001b[39;00m self._activity_regularizer:\n\u001b[32m   1152\u001b[39m                     self._handle_activity_regularization(inputs, outputs)\n",
      "\u001b[32mc:\\Users\\User\\Desktop\\Facu\\Master_Espana\\Master_UEMC\\TFM\\codigo\\analisis_guerra_ucrania_youtube\\.venv\\Lib\\site-packages\\keras\\src\\utils\\traceback_utils.py\u001b[39m in \u001b[36m?\u001b[39m\u001b[34m(*args, **kwargs)\u001b[39m\n\u001b[32m    154\u001b[39m                 new_e = e\n\u001b[32m    155\u001b[39m             \u001b[38;5;28;01mraise\u001b[39;00m new_e.with_traceback(e.__traceback__) \u001b[38;5;28;01mfrom\u001b[39;00m \u001b[38;5;28;01mNone\u001b[39;00m\n\u001b[32m    156\u001b[39m         \u001b[38;5;28;01mfinally\u001b[39;00m:\n\u001b[32m    157\u001b[39m             \u001b[38;5;28;01mdel\u001b[39;00m signature\n\u001b[32m--> \u001b[39m\u001b[32m158\u001b[39m             \u001b[38;5;28;01mdel\u001b[39;00m bound_signature\n",
      "\u001b[32mc:\\Users\\User\\Desktop\\Facu\\Master_Espana\\Master_UEMC\\TFM\\codigo\\analisis_guerra_ucrania_youtube\\.venv\\Lib\\site-packages\\transformers\\models\\distilbert\\modeling_tf_distilbert.py\u001b[39m in \u001b[36m?\u001b[39m\u001b[34m(self, x, attn_mask, head_mask, output_attentions, output_hidden_states, return_dict, training)\u001b[39m\n\u001b[32m    358\u001b[39m         \u001b[38;5;28;01mfor\u001b[39;00m i, layer_module \u001b[38;5;28;01min\u001b[39;00m enumerate(self.layer):\n\u001b[32m    359\u001b[39m             \u001b[38;5;28;01mif\u001b[39;00m output_hidden_states:\n\u001b[32m    360\u001b[39m                 all_hidden_states = all_hidden_states + (hidden_state,)\n\u001b[32m    361\u001b[39m \n\u001b[32m--> \u001b[39m\u001b[32m362\u001b[39m             layer_outputs = layer_module(hidden_state, attn_mask, head_mask[i], output_attentions, training=training)\n\u001b[32m    363\u001b[39m             hidden_state = layer_outputs[-\u001b[32m1\u001b[39m]\n\u001b[32m    364\u001b[39m \n\u001b[32m    365\u001b[39m             \u001b[38;5;28;01mif\u001b[39;00m output_attentions:\n",
      "\u001b[32mc:\\Users\\User\\Desktop\\Facu\\Master_Espana\\Master_UEMC\\TFM\\codigo\\analisis_guerra_ucrania_youtube\\.venv\\Lib\\site-packages\\keras\\src\\utils\\traceback_utils.py\u001b[39m in \u001b[36m?\u001b[39m\u001b[34m(*args, **kwargs)\u001b[39m\n\u001b[32m     68\u001b[39m             \u001b[38;5;66;03m# To get the full stack trace, call:\u001b[39;00m\n\u001b[32m     69\u001b[39m             \u001b[38;5;66;03m# `tf.debugging.disable_traceback_filtering()`\u001b[39;00m\n\u001b[32m     70\u001b[39m             \u001b[38;5;28;01mraise\u001b[39;00m e.with_traceback(filtered_tb) \u001b[38;5;28;01mfrom\u001b[39;00m \u001b[38;5;28;01mNone\u001b[39;00m\n\u001b[32m     71\u001b[39m         \u001b[38;5;28;01mfinally\u001b[39;00m:\n\u001b[32m---> \u001b[39m\u001b[32m72\u001b[39m             \u001b[38;5;28;01mdel\u001b[39;00m filtered_tb\n",
      "\u001b[32mc:\\Users\\User\\Desktop\\Facu\\Master_Espana\\Master_UEMC\\TFM\\codigo\\analisis_guerra_ucrania_youtube\\.venv\\Lib\\site-packages\\keras\\src\\engine\\base_layer.py\u001b[39m in \u001b[36m?\u001b[39m\u001b[34m(self, *args, **kwargs)\u001b[39m\n\u001b[32m   1145\u001b[39m \n\u001b[32m   1146\u001b[39m                 with autocast_variable.enable_auto_cast_variables(\n\u001b[32m   1147\u001b[39m                     self._compute_dtype_object\n\u001b[32m   1148\u001b[39m                 ):\n\u001b[32m-> \u001b[39m\u001b[32m1149\u001b[39m                     outputs = call_fn(inputs, *args, **kwargs)\n\u001b[32m   1150\u001b[39m \n\u001b[32m   1151\u001b[39m                 \u001b[38;5;28;01mif\u001b[39;00m self._activity_regularizer:\n\u001b[32m   1152\u001b[39m                     self._handle_activity_regularization(inputs, outputs)\n",
      "\u001b[32mc:\\Users\\User\\Desktop\\Facu\\Master_Espana\\Master_UEMC\\TFM\\codigo\\analisis_guerra_ucrania_youtube\\.venv\\Lib\\site-packages\\keras\\src\\utils\\traceback_utils.py\u001b[39m in \u001b[36m?\u001b[39m\u001b[34m(*args, **kwargs)\u001b[39m\n\u001b[32m    154\u001b[39m                 new_e = e\n\u001b[32m    155\u001b[39m             \u001b[38;5;28;01mraise\u001b[39;00m new_e.with_traceback(e.__traceback__) \u001b[38;5;28;01mfrom\u001b[39;00m \u001b[38;5;28;01mNone\u001b[39;00m\n\u001b[32m    156\u001b[39m         \u001b[38;5;28;01mfinally\u001b[39;00m:\n\u001b[32m    157\u001b[39m             \u001b[38;5;28;01mdel\u001b[39;00m signature\n\u001b[32m--> \u001b[39m\u001b[32m158\u001b[39m             \u001b[38;5;28;01mdel\u001b[39;00m bound_signature\n",
      "\u001b[32mc:\\Users\\User\\Desktop\\Facu\\Master_Espana\\Master_UEMC\\TFM\\codigo\\analisis_guerra_ucrania_youtube\\.venv\\Lib\\site-packages\\transformers\\models\\distilbert\\modeling_tf_distilbert.py\u001b[39m in \u001b[36m?\u001b[39m\u001b[34m(self, x, attn_mask, head_mask, output_attentions, training)\u001b[39m\n\u001b[32m    289\u001b[39m         Outputs: sa_weights: tf.Tensor(bs, n_heads, seq_length, seq_length) The attention weights ffn_output:\n\u001b[32m    290\u001b[39m         tf.Tensor(bs, seq_length, dim) The output of the transformer block contextualization.\n\u001b[32m    291\u001b[39m         \"\"\"\n\u001b[32m    292\u001b[39m         \u001b[38;5;66;03m# Self-Attention\u001b[39;00m\n\u001b[32m--> \u001b[39m\u001b[32m293\u001b[39m         sa_output = self.attention(x, x, x, attn_mask, head_mask, output_attentions, training=training)\n\u001b[32m    294\u001b[39m         \u001b[38;5;28;01mif\u001b[39;00m output_attentions:\n\u001b[32m    295\u001b[39m             sa_output, sa_weights = sa_output  \u001b[38;5;66;03m# (bs, seq_length, dim), (bs, n_heads, seq_length, seq_length)\u001b[39;00m\n\u001b[32m    296\u001b[39m         \u001b[38;5;28;01melse\u001b[39;00m:  \u001b[38;5;66;03m# To handle these `output_attentions` or `output_hidden_states` cases returning tuples\u001b[39;00m\n",
      "\u001b[32mc:\\Users\\User\\Desktop\\Facu\\Master_Espana\\Master_UEMC\\TFM\\codigo\\analisis_guerra_ucrania_youtube\\.venv\\Lib\\site-packages\\keras\\src\\utils\\traceback_utils.py\u001b[39m in \u001b[36m?\u001b[39m\u001b[34m(*args, **kwargs)\u001b[39m\n\u001b[32m     68\u001b[39m             \u001b[38;5;66;03m# To get the full stack trace, call:\u001b[39;00m\n\u001b[32m     69\u001b[39m             \u001b[38;5;66;03m# `tf.debugging.disable_traceback_filtering()`\u001b[39;00m\n\u001b[32m     70\u001b[39m             \u001b[38;5;28;01mraise\u001b[39;00m e.with_traceback(filtered_tb) \u001b[38;5;28;01mfrom\u001b[39;00m \u001b[38;5;28;01mNone\u001b[39;00m\n\u001b[32m     71\u001b[39m         \u001b[38;5;28;01mfinally\u001b[39;00m:\n\u001b[32m---> \u001b[39m\u001b[32m72\u001b[39m             \u001b[38;5;28;01mdel\u001b[39;00m filtered_tb\n",
      "\u001b[32mc:\\Users\\User\\Desktop\\Facu\\Master_Espana\\Master_UEMC\\TFM\\codigo\\analisis_guerra_ucrania_youtube\\.venv\\Lib\\site-packages\\keras\\src\\engine\\base_layer.py\u001b[39m in \u001b[36m?\u001b[39m\u001b[34m(self, *args, **kwargs)\u001b[39m\n\u001b[32m   1145\u001b[39m \n\u001b[32m   1146\u001b[39m                 with autocast_variable.enable_auto_cast_variables(\n\u001b[32m   1147\u001b[39m                     self._compute_dtype_object\n\u001b[32m   1148\u001b[39m                 ):\n\u001b[32m-> \u001b[39m\u001b[32m1149\u001b[39m                     outputs = call_fn(inputs, *args, **kwargs)\n\u001b[32m   1150\u001b[39m \n\u001b[32m   1151\u001b[39m                 \u001b[38;5;28;01mif\u001b[39;00m self._activity_regularizer:\n\u001b[32m   1152\u001b[39m                     self._handle_activity_regularization(inputs, outputs)\n",
      "\u001b[32mc:\\Users\\User\\Desktop\\Facu\\Master_Espana\\Master_UEMC\\TFM\\codigo\\analisis_guerra_ucrania_youtube\\.venv\\Lib\\site-packages\\keras\\src\\utils\\traceback_utils.py\u001b[39m in \u001b[36m?\u001b[39m\u001b[34m(*args, **kwargs)\u001b[39m\n\u001b[32m    154\u001b[39m                 new_e = e\n\u001b[32m    155\u001b[39m             \u001b[38;5;28;01mraise\u001b[39;00m new_e.with_traceback(e.__traceback__) \u001b[38;5;28;01mfrom\u001b[39;00m \u001b[38;5;28;01mNone\u001b[39;00m\n\u001b[32m    156\u001b[39m         \u001b[38;5;28;01mfinally\u001b[39;00m:\n\u001b[32m    157\u001b[39m             \u001b[38;5;28;01mdel\u001b[39;00m signature\n\u001b[32m--> \u001b[39m\u001b[32m158\u001b[39m             \u001b[38;5;28;01mdel\u001b[39;00m bound_signature\n",
      "\u001b[32mc:\\Users\\User\\Desktop\\Facu\\Master_Espana\\Master_UEMC\\TFM\\codigo\\analisis_guerra_ucrania_youtube\\.venv\\Lib\\site-packages\\transformers\\models\\distilbert\\modeling_tf_distilbert.py\u001b[39m in \u001b[36m?\u001b[39m\u001b[34m(self, query, key, value, mask, head_mask, output_attentions, training)\u001b[39m\n\u001b[32m    190\u001b[39m         mask = tf.reshape(mask, mask_reshape)  \u001b[38;5;66;03m# (bs, n_heads, qlen, klen)\u001b[39;00m\n\u001b[32m    191\u001b[39m         \u001b[38;5;66;03m# scores.masked_fill_(mask, -float('inf'))            # (bs, n_heads, q_length, k_length)\u001b[39;00m\n\u001b[32m    192\u001b[39m \n\u001b[32m    193\u001b[39m         mask = tf.cast(mask, dtype=scores.dtype)\n\u001b[32m--> \u001b[39m\u001b[32m194\u001b[39m         scores = scores - \u001b[32m1e30\u001b[39m * (\u001b[32m1.0\u001b[39m - mask)\n\u001b[32m    195\u001b[39m         weights = stable_softmax(scores, axis=-\u001b[32m1\u001b[39m)  \u001b[38;5;66;03m# (bs, n_heads, qlen, klen)\u001b[39;00m\n\u001b[32m    196\u001b[39m         weights = self.dropout(weights, training=training)  \u001b[38;5;66;03m# (bs, n_heads, qlen, klen)\u001b[39;00m\n\u001b[32m    197\u001b[39m \n",
      "\u001b[32mc:\\Users\\User\\Desktop\\Facu\\Master_Espana\\Master_UEMC\\TFM\\codigo\\analisis_guerra_ucrania_youtube\\.venv\\Lib\\site-packages\\tensorflow\\python\\util\\traceback_utils.py\u001b[39m in \u001b[36m?\u001b[39m\u001b[34m(*args, **kwargs)\u001b[39m\n\u001b[32m    151\u001b[39m     \u001b[38;5;28;01mexcept\u001b[39;00m Exception \u001b[38;5;28;01mas\u001b[39;00m e:\n\u001b[32m    152\u001b[39m       filtered_tb = _process_traceback_frames(e.__traceback__)\n\u001b[32m    153\u001b[39m       \u001b[38;5;28;01mraise\u001b[39;00m e.with_traceback(filtered_tb) \u001b[38;5;28;01mfrom\u001b[39;00m \u001b[38;5;28;01mNone\u001b[39;00m\n\u001b[32m    154\u001b[39m     \u001b[38;5;28;01mfinally\u001b[39;00m:\n\u001b[32m--> \u001b[39m\u001b[32m155\u001b[39m       \u001b[38;5;28;01mdel\u001b[39;00m filtered_tb\n",
      "\u001b[32mc:\\Users\\User\\Desktop\\Facu\\Master_Espana\\Master_UEMC\\TFM\\codigo\\analisis_guerra_ucrania_youtube\\.venv\\Lib\\site-packages\\tensorflow\\python\\ops\\math_ops.py\u001b[39m in \u001b[36m?\u001b[39m\u001b[34m(x, y)\u001b[39m\n\u001b[32m   1475\u001b[39m         \u001b[38;5;66;03m# TODO(b/178860388): Figure out why binary_op_wrapper and\u001b[39;00m\n\u001b[32m   1476\u001b[39m         \u001b[38;5;66;03m#   r_binary_op_wrapper use different force_same_dtype values.\u001b[39;00m\n\u001b[32m   1477\u001b[39m         x, y = maybe_promote_tensors(x, y)\n\u001b[32m   1478\u001b[39m         \u001b[38;5;28;01mreturn\u001b[39;00m func(x, y, name=name)\n\u001b[32m-> \u001b[39m\u001b[32m1479\u001b[39m       \u001b[38;5;28;01mexcept\u001b[39;00m (TypeError, ValueError) \u001b[38;5;28;01mas\u001b[39;00m e:\n\u001b[32m   1480\u001b[39m         \u001b[38;5;66;03m# Even if dispatching the op failed, the RHS may be a tensor aware\u001b[39;00m\n\u001b[32m   1481\u001b[39m         \u001b[38;5;66;03m# object that can implement the operator with knowledge of itself\u001b[39;00m\n\u001b[32m   1482\u001b[39m         \u001b[38;5;66;03m# and the tensor.\u001b[39;00m\n",
      "\u001b[32mc:\\Users\\User\\Desktop\\Facu\\Master_Espana\\Master_UEMC\\TFM\\codigo\\analisis_guerra_ucrania_youtube\\.venv\\Lib\\site-packages\\tensorflow\\python\\util\\traceback_utils.py\u001b[39m in \u001b[36m?\u001b[39m\u001b[34m(*args, **kwargs)\u001b[39m\n\u001b[32m    151\u001b[39m     \u001b[38;5;28;01mexcept\u001b[39;00m Exception \u001b[38;5;28;01mas\u001b[39;00m e:\n\u001b[32m    152\u001b[39m       filtered_tb = _process_traceback_frames(e.__traceback__)\n\u001b[32m    153\u001b[39m       \u001b[38;5;28;01mraise\u001b[39;00m e.with_traceback(filtered_tb) \u001b[38;5;28;01mfrom\u001b[39;00m \u001b[38;5;28;01mNone\u001b[39;00m\n\u001b[32m    154\u001b[39m     \u001b[38;5;28;01mfinally\u001b[39;00m:\n\u001b[32m--> \u001b[39m\u001b[32m155\u001b[39m       \u001b[38;5;28;01mdel\u001b[39;00m filtered_tb\n",
      "\u001b[32mc:\\Users\\User\\Desktop\\Facu\\Master_Espana\\Master_UEMC\\TFM\\codigo\\analisis_guerra_ucrania_youtube\\.venv\\Lib\\site-packages\\tensorflow\\python\\util\\dispatch.py\u001b[39m in \u001b[36m?\u001b[39m\u001b[34m(*args, **kwargs)\u001b[39m\n\u001b[32m   1257\u001b[39m \n\u001b[32m   1258\u001b[39m       \u001b[38;5;66;03m# Fallback dispatch system (dispatch v1):\u001b[39;00m\n\u001b[32m   1259\u001b[39m       \u001b[38;5;28;01mtry\u001b[39;00m:\n\u001b[32m   1260\u001b[39m         \u001b[38;5;28;01mreturn\u001b[39;00m dispatch_target(*args, **kwargs)\n\u001b[32m-> \u001b[39m\u001b[32m1261\u001b[39m       \u001b[38;5;28;01mexcept\u001b[39;00m (TypeError, ValueError):\n\u001b[32m   1262\u001b[39m         \u001b[38;5;66;03m# Note: convert_to_eager_tensor currently raises a ValueError, not a\u001b[39;00m\n\u001b[32m   1263\u001b[39m         \u001b[38;5;66;03m# TypeError, when given unexpected types.  So we need to catch both.\u001b[39;00m\n\u001b[32m   1264\u001b[39m         result = dispatch(op_dispatch_handler, args, kwargs)\n",
      "\u001b[32mc:\\Users\\User\\Desktop\\Facu\\Master_Espana\\Master_UEMC\\TFM\\codigo\\analisis_guerra_ucrania_youtube\\.venv\\Lib\\site-packages\\tensorflow\\python\\ops\\math_ops.py\u001b[39m in \u001b[36m?\u001b[39m\u001b[34m(x, y, name)\u001b[39m\n\u001b[32m    545\u001b[39m @tf_export(\u001b[33m\"math.subtract\"\u001b[39m, \u001b[33m\"subtract\"\u001b[39m)\n\u001b[32m    546\u001b[39m @dispatch.register_binary_elementwise_api\n\u001b[32m    547\u001b[39m @dispatch.add_dispatch_support\n\u001b[32m    548\u001b[39m \u001b[38;5;28;01mdef\u001b[39;00m subtract(x, y, name=\u001b[38;5;28;01mNone\u001b[39;00m):\n\u001b[32m--> \u001b[39m\u001b[32m549\u001b[39m   \u001b[38;5;28;01mreturn\u001b[39;00m gen_math_ops.sub(x, y, name)\n",
      "\u001b[32mc:\\Users\\User\\Desktop\\Facu\\Master_Espana\\Master_UEMC\\TFM\\codigo\\analisis_guerra_ucrania_youtube\\.venv\\Lib\\site-packages\\tensorflow\\python\\ops\\weak_tensor_ops.py\u001b[39m in \u001b[36m?\u001b[39m\u001b[34m(*args, **kwargs)\u001b[39m\n\u001b[32m    140\u001b[39m   \u001b[38;5;28;01mdef\u001b[39;00m wrapper(*args, **kwargs):\n\u001b[32m    141\u001b[39m     \u001b[38;5;28;01mif\u001b[39;00m \u001b[38;5;28;01mnot\u001b[39;00m ops.is_auto_dtype_conversion_enabled():\n\u001b[32m--> \u001b[39m\u001b[32m142\u001b[39m       \u001b[38;5;28;01mreturn\u001b[39;00m op(*args, **kwargs)\n\u001b[32m    143\u001b[39m     bound_arguments = signature.bind(*args, **kwargs)\n\u001b[32m    144\u001b[39m     bound_arguments.apply_defaults()\n\u001b[32m    145\u001b[39m     bound_kwargs = bound_arguments.arguments\n",
      "\u001b[32mc:\\Users\\User\\Desktop\\Facu\\Master_Espana\\Master_UEMC\\TFM\\codigo\\analisis_guerra_ucrania_youtube\\.venv\\Lib\\site-packages\\tensorflow\\python\\ops\\gen_math_ops.py\u001b[39m in \u001b[36m?\u001b[39m\u001b[34m(x, y, name)\u001b[39m\n\u001b[32m  12231\u001b[39m         _ctx, \"Sub\", name, x, y)\n\u001b[32m  12232\u001b[39m       \u001b[38;5;28;01mreturn\u001b[39;00m _result\n\u001b[32m  12233\u001b[39m     \u001b[38;5;28;01mexcept\u001b[39;00m _core._NotOkStatusException \u001b[38;5;28;01mas\u001b[39;00m e:\n\u001b[32m  12234\u001b[39m       _ops.raise_from_not_ok_status(e, name)\n\u001b[32m> \u001b[39m\u001b[32m12235\u001b[39m     \u001b[38;5;28;01mexcept\u001b[39;00m _core._FallbackException:\n\u001b[32m  12236\u001b[39m       \u001b[38;5;28;01mpass\u001b[39;00m\n\u001b[32m  12237\u001b[39m     \u001b[38;5;28;01mtry\u001b[39;00m:\n\u001b[32m  12238\u001b[39m       return sub_eager_fallback(\n",
      "\u001b[31mKeyboardInterrupt\u001b[39m: "
     ]
    }
   ],
   "source": [
    "# #Deprectado: inferencia en un solo paso (carga todo en RAM)\n",
    "# try:\n",
    "#     print(\"\\n== Inferencia en lote con reglas + NN + abstención ==\")\n",
    "#     df_full = pd.read_csv(PATH_FULL)\n",
    "#     df_full[\"comment\"] = df_full[\"comment\"].astype(str)\n",
    "#     df_full[\"condiciones_cuenta\"] = df_full[\"condiciones_cuenta\"].astype(str).str.strip().str.lower()\n",
    "\n",
    "#     # Limpieza + contexto (ajusta clean_text si lo deseas más agresivo)\n",
    "#     df_full[\"comment_clean\"] = df_full[\"comment\"].apply(clean_text)\n",
    "#     df_full[\"text_with_ctx\"] = ((\"[canal:\"+df_full[\"condiciones_cuenta\"]+\"] \") + df_full[\"comment_clean\"]).str.strip()\n",
    "\n",
    "#     # 4.1 Reglas primero\n",
    "#     df_full[\"label_rule\"] = None\n",
    "#     df_full[\"regla_aplicada\"] = None\n",
    "#     for i in range(len(df_full)):\n",
    "#         lab, rname = rule_classifier(df_full.iloc[i])\n",
    "#         df_full.iat[i, df_full.columns.get_loc(\"label_rule\")] = lab\n",
    "#         df_full.iat[i, df_full.columns.get_loc(\"regla_aplicada\")] = rname\n",
    "\n",
    "#     is_rule = df_full[\"label_rule\"].isin(LABELS)\n",
    "#     to_pred_mask = ~is_rule\n",
    "\n",
    "#     # 4.2 Inferencia por lotes con TF\n",
    "#     BATCH_INFER = 512\n",
    "#     texts = df_full.loc[to_pred_mask, \"text_with_ctx\"].tolist()\n",
    "#     idxs  = df_full.loc[to_pred_mask].index.tolist()\n",
    "\n",
    "#     top1_lab_all, pmax_all, marg_all, entr_all = [], [], [], []\n",
    "\n",
    "#     def batched(iterable, n):\n",
    "#         for i in range(0, len(iterable), n):\n",
    "#             yield iterable[i:i+n]\n",
    "\n",
    "#     for chunk in batched(texts, BATCH_INFER):\n",
    "#         enc = tokenizer(chunk, truncation=True, padding=True, max_length=MAX_LEN, return_tensors=\"tf\")\n",
    "#         out = model(enc, training=False)\n",
    "#         logits_np = out.logits.numpy() if hasattr(out, \"logits\") else out.numpy()\n",
    "#         probas = tf.nn.softmax(logits_np, axis=1).numpy()\n",
    "\n",
    "#         top1_idx = probas.argmax(axis=1)\n",
    "#         top1_lab = np.array(LABELS)[top1_idx]\n",
    "#         top1_p = probas[np.arange(probas.shape[0]), top1_idx]\n",
    "\n",
    "#         sorted_p = -np.sort(-probas, axis=1)\n",
    "#         marg = sorted_p[:,0] - sorted_p[:,1]\n",
    "#         entropy = -(probas * (np.log(probas + 1e-12))).sum(axis=1)  # opcional para análisis\n",
    "\n",
    "#         top1_lab_all.append(top1_lab)\n",
    "#         pmax_all.append(top1_p)\n",
    "#         marg_all.append(marg)\n",
    "#         entr_all.append(entropy)\n",
    "\n",
    "#     if len(top1_lab_all) > 0:\n",
    "#         top1_lab_all = np.concatenate(top1_lab_all)\n",
    "#         pmax_all     = np.concatenate(pmax_all)\n",
    "#         marg_all     = np.concatenate(marg_all)\n",
    "#         entr_all     = np.concatenate(entr_all)\n",
    "#     else:\n",
    "#         top1_lab_all = np.array([]); pmax_all = np.array([]); marg_all = np.array([]); entr_all = np.array([])\n",
    "\n",
    "#     df_full.loc[idxs, \"label_ml\"] = top1_lab_all\n",
    "#     df_full.loc[idxs, \"ml_proba_max\"] = pmax_all\n",
    "#     df_full.loc[idxs, \"ml_margen\"] = marg_all\n",
    "#     df_full.loc[idxs, \"ml_entropia\"] = entr_all\n",
    "\n",
    "#     # 4.3 Decisión final con abstención (NN)\n",
    "#     dec_lab = []\n",
    "#     dec_src = []\n",
    "#     for lab, pmax, mg in zip(top1_lab_all, pmax_all, marg_all):\n",
    "#         if (pmax >= UMBRAL_PROBA) and (mg >= UMBRAL_MARGEN):\n",
    "#             dec_lab.append(lab); dec_src.append(\"automatica-nn-tf\")\n",
    "#         else:\n",
    "#             dec_lab.append(\"\");  dec_src.append(\"sin-clasificar\")\n",
    "#     df_full.loc[idxs, \"label_final\"] = dec_lab\n",
    "#     df_full.loc[idxs, \"clasificacion_origen\"] = dec_src\n",
    "\n",
    "#     # 4.4 Reglas tienen prioridad\n",
    "#     df_full.loc[is_rule, \"label_final\"] = df_full.loc[is_rule, \"label_rule\"]\n",
    "#     df_full.loc[is_rule, \"clasificacion_origen\"] = \"regla\"\n",
    "\n",
    "#     print(\"\\n== Origen de clasificación (full) ==\")\n",
    "#     print(df_full[\"clasificacion_origen\"].value_counts(dropna=False))\n",
    "#     print(\"\\n== Distribución label_final (full, incluye vacíos) ==\")\n",
    "#     print(df_full[\"label_final\"].value_counts(dropna=False))\n",
    "\n",
    "#     # 4.5 Export\n",
    "#     OUT_FULL = \"../data/processed/predicciones_full_new.xlsx\"\n",
    "#     df_full.to_excel(OUT_FULL, index=False)\n",
    "#     print(f\"\\n✅ Guardado: {OUT_FULL}\")\n",
    "\n",
    "# except NameError as e:\n",
    "#     print(\"\\nℹ️ Saltando inferencia en lote: falta una variable o función requerida.\", e)\n",
    "#     print(\"Requiere: PATH_FULL, clean_text, rule_classifier, LABELS, tokenizer, MAX_LEN.\")"
   ]
  },
  {
   "cell_type": "markdown",
   "id": "4aa56b6c",
   "metadata": {},
   "source": [
    "## Verificacion"
   ]
  },
  {
   "cell_type": "code",
   "execution_count": 33,
   "id": "2d4e8c94",
   "metadata": {},
   "outputs": [],
   "source": [
    "# 1) Asegura logits de validación\n",
    "try:\n",
    "    _ = logits.shape  # ¿ya existen los logits de validación?\n",
    "    # Si existen, seguimos\n",
    "except:\n",
    "    # Recalcula logits en validación (sin sample_weight para predecir)\n",
    "    val_ds_no_sw = tf.data.Dataset.from_tensor_slices((enc_va, yva)) \\\n",
    "        .batch(BATCH_VAL).prefetch(tf.data.AUTOTUNE)\n",
    "    out = model.predict(\n",
    "        val_ds_no_sw.map(lambda enc, y: ({k: enc[k] for k in [\"input_ids\",\"attention_mask\"]}, y)),\n",
    "        verbose=0\n",
    "    )\n",
    "    logits = out.logits if hasattr(out, \"logits\") else out  # compat\n"
   ]
  },
  {
   "cell_type": "code",
   "execution_count": 34,
   "id": "be9f9d54",
   "metadata": {},
   "outputs": [],
   "source": [
    "\n",
    "# 2) Probabilidades y predicciones base\n",
    "probas = softmax(logits, axis=1)\n",
    "pmax = probas.max(axis=1)\n",
    "# margen = p_top1 - p_top2\n",
    "sorted_p = -np.sort(-probas, axis=1)\n",
    "marg = sorted_p[:, 0] - sorted_p[:, 1]\n",
    "y_pred = probas.argmax(axis=1)\n"
   ]
  },
  {
   "cell_type": "code",
   "execution_count": 35,
   "id": "2b36881b",
   "metadata": {},
   "outputs": [
    {
     "name": "stdout",
     "output_type": "stream",
     "text": [
      "\n",
      "=== Sweep de umbrales (top-10 por F1_macro) ===\n",
      " th_p  th_m  coverage  f1_macro      acc   n\n",
      " 0.50  0.25  0.892720  0.365365 0.553648 699\n",
      " 0.50  0.20  0.911877  0.365118 0.551821 714\n",
      " 0.50  0.15  0.928480  0.363705 0.547455 727\n",
      " 0.50  0.10  0.939974  0.361916 0.546196 736\n",
      " 0.60  0.25  0.869732  0.348082 0.553598 681\n",
      " 0.60  0.10  0.872286  0.347016 0.551977 683\n",
      " 0.60  0.15  0.872286  0.347016 0.551977 683\n",
      " 0.60  0.20  0.872286  0.347016 0.551977 683\n",
      " 0.55  0.25  0.881226  0.344095 0.547826 690\n",
      " 0.70  0.10  0.799489  0.342696 0.567093 626\n",
      "\n",
      "Sugerencia de umbral (equilibrado): {'th_p': 0.5, 'th_m': 0.25, 'coverage': 0.89272030651341, 'f1_macro': 0.36536485868975593, 'acc': 0.5536480686695279, 'n': 699.0}\n"
     ]
    }
   ],
   "source": [
    "\n",
    "# 3) Sweep de umbrales (probabilidad y margen)\n",
    "def sweep(th_p=(0.50,0.55,0.60,0.65,0.70), th_m=(0.10,0.15,0.20,0.25)):\n",
    "    rows=[]\n",
    "    for tp in th_p:\n",
    "        for tm in th_m:\n",
    "            mask = (pmax >= tp) & (marg >= tm)\n",
    "            cov = float(mask.mean())\n",
    "            if mask.sum() > 0:\n",
    "                f1m = f1_score(yva[mask], y_pred[mask], average=\"macro\")\n",
    "                acc = accuracy_score(yva[mask], y_pred[mask])\n",
    "            else:\n",
    "                f1m, acc = np.nan, np.nan\n",
    "            rows.append({\"th_p\": tp, \"th_m\": tm, \"coverage\": cov, \"f1_macro\": f1m, \"acc\": acc, \"n\": int(mask.sum())})\n",
    "    return pd.DataFrame(rows).sort_values([\"f1_macro\",\"coverage\"], ascending=[False,False])\n",
    "\n",
    "df_sweep = sweep()\n",
    "print(\"\\n=== Sweep de umbrales (top-10 por F1_macro) ===\")\n",
    "print(df_sweep.head(10).to_string(index=False))\n",
    "\n",
    "# (Opcional) sugerencia automática de umbral “equilibrado”\n",
    "candidatos = df_sweep.query(\"coverage >= 0.6\")  # exige cubrir ≥60% como ejemplo\n",
    "if len(candidatos):\n",
    "    sugerido = candidatos.iloc[0].to_dict()\n",
    "else:\n",
    "    sugerido = df_sweep.iloc[0].to_dict()\n",
    "print(\"\\nSugerencia de umbral (equilibrado):\", sugerido)"
   ]
  },
  {
   "cell_type": "markdown",
   "id": "5eef14bb",
   "metadata": {},
   "source": [
    "## Post-analisis"
   ]
  },
  {
   "cell_type": "code",
   "execution_count": 37,
   "id": "f122f6eb",
   "metadata": {},
   "outputs": [
    {
     "name": "stdout",
     "output_type": "stream",
     "text": [
      "label_final           neutro    ruso  ucraniano    NaN\n",
      "clasificacion_origen                                  \n",
      "automatica-nn-tf       41911  214671      31443      0\n",
      "regla                   6781   27702      14014      0\n",
      "sin-clasificar             0       0          0  35287\n"
     ]
    }
   ],
   "source": [
    "df = pd.read_csv(\"../data/processed/7_predicciones_full_new.csv\")\n",
    "print(pd.crosstab(df[\"clasificacion_origen\"], df[\"label_final\"], dropna=False))\n"
   ]
  },
  {
   "cell_type": "code",
   "execution_count": 38,
   "id": "c81c1952",
   "metadata": {},
   "outputs": [
    {
     "name": "stdout",
     "output_type": "stream",
     "text": [
      "<class 'pandas.core.frame.DataFrame'>\n",
      "RangeIndex: 371809 entries, 0 to 371808\n",
      "Data columns (total 34 columns):\n",
      " #   Column                       Non-Null Count   Dtype  \n",
      "---  ------                       --------------   -----  \n",
      " 0   comment_id                   371809 non-null  object \n",
      " 1   comment                      371809 non-null  object \n",
      " 2   comment_text_length          371809 non-null  int64  \n",
      " 3   user_id                      371809 non-null  object \n",
      " 4   user_name                    371809 non-null  object \n",
      " 5   comment_time                 371809 non-null  object \n",
      " 6   comment_likes                371809 non-null  int64  \n",
      " 7   total_reply_count            371809 non-null  int64  \n",
      " 8   is_top_level_comment         371809 non-null  bool   \n",
      " 9   video_title                  371809 non-null  object \n",
      " 10  channel_title                371809 non-null  object \n",
      " 11  video_published_at           371809 non-null  object \n",
      " 12  video_views                  371809 non-null  int64  \n",
      " 13  video_likes                  371809 non-null  int64  \n",
      " 14  video_duration               371809 non-null  float64\n",
      " 15  video_tags                   361307 non-null  object \n",
      " 16  video_category_id            371809 non-null  int64  \n",
      " 17  condiciones_cuenta           371809 non-null  object \n",
      " 18  account_created_at           163746 non-null  object \n",
      " 19  channel_id                   371809 non-null  object \n",
      " 20  subscriber_count             371809 non-null  int64  \n",
      " 21  days_since_account_creation  163746 non-null  float64\n",
      " 22  insulto                      371809 non-null  bool   \n",
      " 23  n_insultos                   371809 non-null  int64  \n",
      " 24  comment_clean                360486 non-null  object \n",
      " 25  text_with_ctx                371809 non-null  object \n",
      " 26  label_rule                   48497 non-null   object \n",
      " 27  regla_aplicada               48497 non-null   object \n",
      " 28  label_ml                     323312 non-null  object \n",
      " 29  ml_proba_max                 323312 non-null  float64\n",
      " 30  ml_margen                    323312 non-null  float64\n",
      " 31  ml_entropia                  323312 non-null  float64\n",
      " 32  label_final                  336522 non-null  object \n",
      " 33  clasificacion_origen         371809 non-null  object \n",
      "dtypes: bool(2), float64(5), int64(8), object(19)\n",
      "memory usage: 91.5+ MB\n"
     ]
    }
   ],
   "source": [
    "df.info()"
   ]
  },
  {
   "cell_type": "code",
   "execution_count": 39,
   "id": "6cc8fb5e",
   "metadata": {},
   "outputs": [
    {
     "name": "stderr",
     "output_type": "stream",
     "text": [
      "C:\\Users\\User\\AppData\\Local\\Temp\\ipykernel_10780\\1875951498.py:3: UserWarning: Converting to PeriodArray/Index representation will drop timezone information.\n",
      "  tab_mes = pd.crosstab(df[\"fecha\"].dt.to_period(\"M\"), df[\"label_final\"], normalize=\"index\")\n"
     ]
    }
   ],
   "source": [
    "df[\"fecha\"] = pd.to_datetime(df[\"comment_time\"])  # ajusta nombre de columna\n",
    "tab_canal = pd.crosstab(df[\"channel_title\"], df[\"label_final\"], normalize=\"index\")\n",
    "tab_mes = pd.crosstab(df[\"fecha\"].dt.to_period(\"M\"), df[\"label_final\"], normalize=\"index\")\n"
   ]
  },
  {
   "cell_type": "code",
   "execution_count": 40,
   "id": "56487ade",
   "metadata": {},
   "outputs": [
    {
     "name": "stdout",
     "output_type": "stream",
     "text": [
      "label_final        neutro      ruso  ucraniano\n",
      "channel_title                                 \n",
      "EL PAÍS          0.267293  0.568171   0.164536\n",
      "El Mundo         0.152074  0.684332   0.163594\n",
      "La Vanguardia    0.138943  0.655577   0.205479\n",
      "Liu Sivaya       0.137990  0.716250   0.145759\n",
      "Memorias de Pez  0.141358  0.752915   0.105727\n",
      "RTVE Noticias    0.159864  0.682701   0.157435\n",
      "VisualPolitik    0.149957  0.737337   0.112706\n"
     ]
    }
   ],
   "source": [
    "print(tab_canal)"
   ]
  },
  {
   "cell_type": "code",
   "execution_count": 41,
   "id": "f341c0e2",
   "metadata": {},
   "outputs": [
    {
     "name": "stdout",
     "output_type": "stream",
     "text": [
      "Origen (%):\n",
      "clasificacion_origen\n",
      "automatica-nn-tf    0.775\n",
      "regla               0.130\n",
      "sin-clasificar      0.095\n",
      "Name: count, dtype: float64\n",
      "\n",
      "Clase (% sobre total, incluye vacíos):\n",
      "label_final\n",
      "ruso         0.652\n",
      "neutro       0.131\n",
      "ucraniano    0.122\n",
      "NaN          0.095\n",
      "Name: count, dtype: float64\n"
     ]
    }
   ],
   "source": [
    "tot = len(df)\n",
    "print(\"Origen (%):\")\n",
    "print((df[\"clasificacion_origen\"].value_counts(dropna=False)/tot).round(3))\n",
    "\n",
    "print(\"\\nClase (% sobre total, incluye vacíos):\")\n",
    "print((df[\"label_final\"].value_counts(dropna=False)/tot).round(3))\n"
   ]
  },
  {
   "cell_type": "code",
   "execution_count": 42,
   "id": "e691b79b",
   "metadata": {},
   "outputs": [
    {
     "data": {
      "text/plain": [
       "Text(0.5, 1.0, 'Distribución de clase (full)')"
      ]
     },
     "execution_count": 42,
     "metadata": {},
     "output_type": "execute_result"
    },
    {
     "data": {
      "image/png": "[encoded data removed]",
      "text/plain": [
       "<Figure size 640x480 with 1 Axes>"
      ]
     },
     "metadata": {},
     "output_type": "display_data"
    }
   ],
   "source": [
    "ax = (df[\"label_final\"].fillna(\"\")).value_counts(normalize=True).mul(100).plot(kind=\"bar\")\n",
    "ax.set_ylabel(\"% del total\"); ax.set_title(\"Distribución de clase (full)\")\n"
   ]
  },
  {
   "cell_type": "code",
   "execution_count": 43,
   "id": "a10fa87b",
   "metadata": {},
   "outputs": [
    {
     "name": "stdout",
     "output_type": "stream",
     "text": [
      "Cobertura aceptados: 0.7994891443167306\n",
      "              precision    recall  f1-score   support\n",
      "\n",
      "        ruso      0.715     0.726     0.721       453\n",
      "   ucraniano      0.191     0.119     0.147       109\n",
      "      neutro      0.133     0.203     0.160        64\n",
      "\n",
      "    accuracy                          0.567       626\n",
      "   macro avg      0.346     0.350     0.343       626\n",
      "weighted avg      0.564     0.567     0.564       626\n",
      "\n"
     ]
    }
   ],
   "source": [
    "from sklearn.metrics import classification_report\n",
    "mask = (pmax>=0.70) & (marg>=0.10)\n",
    "print(\"Cobertura aceptados:\", mask.mean())\n",
    "print(classification_report(yva[mask], y_pred[mask], target_names=LABELS, digits=3))\n"
   ]
  },
  {
   "cell_type": "code",
   "execution_count": 47,
   "id": "d5bcf278",
   "metadata": {},
   "outputs": [
    {
     "name": "stdout",
     "output_type": "stream",
     "text": [
      "<class 'pandas.core.frame.DataFrame'>\n",
      "RangeIndex: 113585 entries, 0 to 113584\n",
      "Data columns (total 34 columns):\n",
      " #   Column                Non-Null Count   Dtype              \n",
      "---  ------                --------------   -----              \n",
      " 0   comment_id            113585 non-null  object             \n",
      " 1   comment               113584 non-null  object             \n",
      " 2   comment_text_length   113585 non-null  int64              \n",
      " 3   user_id               113585 non-null  object             \n",
      " 4   user_name             113585 non-null  object             \n",
      " 5   comment_time          113585 non-null  object             \n",
      " 6   comment_likes         113585 non-null  int64              \n",
      " 7   total_reply_count     113585 non-null  int64              \n",
      " 8   is_top_level_comment  113585 non-null  bool               \n",
      " 9   video_title           113585 non-null  object             \n",
      " 10  channel_title         113585 non-null  object             \n",
      " 11  video_published_at    113585 non-null  object             \n",
      " 12  video_views           113585 non-null  int64              \n",
      " 13  video_likes           113585 non-null  int64              \n",
      " 14  video_duration        113585 non-null  int64              \n",
      " 15  video_tags            113585 non-null  object             \n",
      " 16  video_category_id     113585 non-null  int64              \n",
      " 17  relacion_evento       113585 non-null  object             \n",
      " 18  evento                113585 non-null  object             \n",
      " 19  tipo_evento           113585 non-null  object             \n",
      " 20  condiciones_cuenta    113585 non-null  object             \n",
      " 21  insulto               113585 non-null  bool               \n",
      " 22  n_insultos            113585 non-null  int64              \n",
      " 23  comment_clean         111039 non-null  object             \n",
      " 24  text_with_ctx         113585 non-null  object             \n",
      " 25  label_rule            13475 non-null   object             \n",
      " 26  regla_aplicada        13475 non-null   object             \n",
      " 27  label_ml              100110 non-null  object             \n",
      " 28  ml_proba_max          100110 non-null  float64            \n",
      " 29  ml_margen             100110 non-null  float64            \n",
      " 30  ml_entropia           100110 non-null  float64            \n",
      " 31  label_final           105027 non-null  object             \n",
      " 32  clasificacion_origen  113585 non-null  object             \n",
      " 33  fecha                 113585 non-null  datetime64[ns, UTC]\n",
      "dtypes: bool(2), datetime64[ns, UTC](1), float64(3), int64(8), object(20)\n",
      "memory usage: 27.9+ MB\n"
     ]
    }
   ],
   "source": [
    "df.info()"
   ]
  },
  {
   "cell_type": "code",
   "execution_count": 44,
   "id": "7ecc892f",
   "metadata": {},
   "outputs": [
    {
     "data": {
      "image/png": "[encoded data removed]",
      "text/plain": [
       "<Figure size 1000x600 with 1 Axes>"
      ]
     },
     "metadata": {},
     "output_type": "display_data"
    }
   ],
   "source": [
    "# Agrupar por semana y por tipo de cuenta\n",
    "import matplotlib.dates as mdates\n",
    "colors = {\"ruso\":\"red\", \"ucraniano\":\"blue\", \"neutro\":\"gray\"}\n",
    "\n",
    "timeline = (\n",
    "    df\n",
    "    .groupby([pd.Grouper(key='fecha', freq='W'), 'label_final'])\n",
    "    .size()\n",
    "    .unstack(fill_value=0)\n",
    ")\n",
    "\n",
    "# Graficar líneas por categoría\n",
    "plt.figure(figsize=(10, 6))\n",
    "timeline.plot(\n",
    "    ax=plt.gca(),\n",
    "    color=[colors[c] for c in timeline.columns],\n",
    "    linewidth=2\n",
    ")\n",
    "plt.title(\"Comentarios por semana y tipo de cuenta\")\n",
    "plt.ylabel(\"Cantidad de comentarios\")\n",
    "plt.xlabel(\"Semana\")\n",
    "plt.legend(title=\"Tipo de cuenta\")\n",
    "plt.tight_layout()\n",
    "plt.show()\n"
   ]
  }
 ],
 "metadata": {
  "kernelspec": {
   "display_name": ".venv",
   "language": "python",
   "name": "python3"
  },
  "language_info": {
   "codemirror_mode": {
    "name": "ipython",
    "version": 3
   },
   "file_extension": ".py",
   "mimetype": "text/x-python",
   "name": "python",
   "nbconvert_exporter": "python",
   "pygments_lexer": "ipython3",
   "version": "3.11.0"
  }
 },
 "nbformat": 4,
 "nbformat_minor": 5
}
