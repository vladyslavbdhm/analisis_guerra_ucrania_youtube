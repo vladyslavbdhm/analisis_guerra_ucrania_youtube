{
 "cells": [
  {
   "cell_type": "markdown",
   "id": "422d2ff8",
   "metadata": {},
   "source": [
    "# ============================================================\n",
    "# NN Stance Classifier (XLM-R base) + Reglas + Abstención\n",
    "# Entrena con ~9k y clasifica ~100k con logging y progreso.\n",
    "# ============================================================"
   ]
  },
  {
   "cell_type": "code",
   "execution_count": null,
   "id": "28410d40",
   "metadata": {},
   "outputs": [],
   "source": [
    "#%pip install --upgrade openpyxl\n",
    "%pip install tf_keras\n",
    "%pip install tensorflow"
   ]
  },
  {
   "cell_type": "markdown",
   "id": "fdbcca17",
   "metadata": {},
   "source": [
    "##### 1) ENTRENA (TF/Keras) con 9.000 y CLASIFICAR ~100k\n",
    "#####    Reglas + DistilBERT Multilingüe (TensorFlow) + Abstención"
   ]
  },
  {
   "cell_type": "code",
   "execution_count": 1,
   "id": "7e139af6",
   "metadata": {},
   "outputs": [
    {
     "ename": "AttributeError",
     "evalue": "'MessageFactory' object has no attribute 'GetPrototype'",
     "output_type": "error",
     "traceback": [
      "\u001b[31m---------------------------------------------------------------------------\u001b[39m",
      "\u001b[31mAttributeError\u001b[39m                            Traceback (most recent call last)",
      "\u001b[31mAttributeError\u001b[39m: 'MessageFactory' object has no attribute 'GetPrototype'"
     ]
    },
    {
     "ename": "AttributeError",
     "evalue": "'MessageFactory' object has no attribute 'GetPrototype'",
     "output_type": "error",
     "traceback": [
      "\u001b[31m---------------------------------------------------------------------------\u001b[39m",
      "\u001b[31mAttributeError\u001b[39m                            Traceback (most recent call last)",
      "\u001b[31mAttributeError\u001b[39m: 'MessageFactory' object has no attribute 'GetPrototype'"
     ]
    },
    {
     "ename": "AttributeError",
     "evalue": "'MessageFactory' object has no attribute 'GetPrototype'",
     "output_type": "error",
     "traceback": [
      "\u001b[31m---------------------------------------------------------------------------\u001b[39m",
      "\u001b[31mAttributeError\u001b[39m                            Traceback (most recent call last)",
      "\u001b[31mAttributeError\u001b[39m: 'MessageFactory' object has no attribute 'GetPrototype'"
     ]
    },
    {
     "ename": "AttributeError",
     "evalue": "'MessageFactory' object has no attribute 'GetPrototype'",
     "output_type": "error",
     "traceback": [
      "\u001b[31m---------------------------------------------------------------------------\u001b[39m",
      "\u001b[31mAttributeError\u001b[39m                            Traceback (most recent call last)",
      "\u001b[31mAttributeError\u001b[39m: 'MessageFactory' object has no attribute 'GetPrototype'"
     ]
    },
    {
     "ename": "AttributeError",
     "evalue": "'MessageFactory' object has no attribute 'GetPrototype'",
     "output_type": "error",
     "traceback": [
      "\u001b[31m---------------------------------------------------------------------------\u001b[39m",
      "\u001b[31mAttributeError\u001b[39m                            Traceback (most recent call last)",
      "\u001b[31mAttributeError\u001b[39m: 'MessageFactory' object has no attribute 'GetPrototype'"
     ]
    },
    {
     "name": "stdout",
     "output_type": "stream",
     "text": [
      "WARNING:tensorflow:From c:\\Users\\User\\Desktop\\Facu\\Master_Espana\\Master_UEMC\\TFM\\codigo\\analisis_guerra_ucrania_youtube\\.venv\\Lib\\site-packages\\keras\\src\\losses.py:2976: The name tf.losses.sparse_softmax_cross_entropy is deprecated. Please use tf.compat.v1.losses.sparse_softmax_cross_entropy instead.\n",
      "\n"
     ]
    }
   ],
   "source": [
    "\n",
    "import re, math, json, logging\n",
    "import os\n",
    "import numpy as np\n",
    "import pandas as pd\n",
    "import matplotlib.pyplot as plt\n",
    "from dataclasses import dataclass\n",
    "from typing import List, Optional\n",
    "\n",
    "import tensorflow as tf\n",
    "import keras\n",
    "from sklearn.model_selection import train_test_split\n",
    "from sklearn.utils.class_weight import compute_class_weight\n",
    "from sklearn.metrics import classification_report, confusion_matrix, f1_score, precision_recall_fscore_support, accuracy_score\n",
    "from scipy.special import softmax\n",
    "\n",
    "from transformers import (\n",
    "    AutoTokenizer, TFAutoModelForSequenceClassification\n",
    ")"
   ]
  },
  {
   "cell_type": "code",
   "execution_count": null,
   "id": "202eb1d2",
   "metadata": {},
   "outputs": [],
   "source": [
    "os.environ[\"USE_TF\"] = \"1\"\n",
    "os.environ[\"TRANSFORMERS_NO_TORCH\"] = \"1\"\n",
    "os.environ[\"TOKENIZERS_PARALLELISM\"] = \"false\"\n",
    "os.environ[\"TF_CPP_MIN_LOG_LEVEL\"] = \"2\"  # Reduce TensorFlow logging (1: errors, 2: warnings, 3: info)\n"
   ]
  },
  {
   "cell_type": "code",
   "execution_count": 2,
   "id": "7ccdfb24",
   "metadata": {},
   "outputs": [],
   "source": [
    "# ----------------------------\n",
    "# Paths y configuración\n",
    "# ----------------------------\n",
    "RANDOM_SEED = 42\n",
    "np.random.seed(RANDOM_SEED)\n",
    "tf.random.set_seed(RANDOM_SEED)\n",
    "\n",
    "MODEL_NAME = \"distilbert-base-multilingual-cased\"  # TF-friendly, multilingüe\n",
    "OUTPUT_DIR = \"../models/tf_distilmbert_stance_v1\"\n",
    "LOG_DIR = \"../logs\"\n",
    "os.makedirs(OUTPUT_DIR, exist_ok=True)\n",
    "os.makedirs(LOG_DIR, exist_ok=True)"
   ]
  },
  {
   "cell_type": "code",
   "execution_count": null,
   "id": "76a13624",
   "metadata": {},
   "outputs": [],
   "source": [
    "# Archivos\n",
    "PATH_9K  = \"../data/processed/6_9000_comments_hibrid_class.xlsx\"   # tiene label_final, clasificacion_origen, ml_proba_max, ml_margen (opc.)\n",
    "PATH_FULL = \"../data/processed/3_comments_youtube_with_insults.csv\"          # 113.585 con 'insulto' y 'n_insultos'\n",
    "OUT_FULL = \"../data/processed/7_final_label.csv\"                      # salida final con predicciones\n",
    "\n",
    "LABELS = [\"ruso\", \"ucraniano\", \"neutro\"]\n",
    "LABEL2ID = {l:i for i,l in enumerate(LABELS)}\n",
    "ID2LABEL = {i:l for l,i in LABEL2ID.items()}"
   ]
  },
  {
   "cell_type": "code",
   "execution_count": 5,
   "id": "d69da3ca",
   "metadata": {},
   "outputs": [
    {
     "name": "stderr",
     "output_type": "stream",
     "text": [
      "2025-10-14 01:18:56,903 [INFO] === Inicio TF DistilBERT stance ===\n"
     ]
    }
   ],
   "source": [
    "# ----------------------------\n",
    "# Logging a archivo + consola\n",
    "# ----------------------------\n",
    "logging.basicConfig(\n",
    "    filename=os.path.join(LOG_DIR, \"tf_training_inference.log\"),\n",
    "    level=logging.INFO,\n",
    "    format=\"%(asctime)s [%(levelname)s] %(message)s\"\n",
    ")\n",
    "console = logging.StreamHandler()\n",
    "console.setLevel(logging.INFO)\n",
    "console.setFormatter(logging.Formatter(\"%(asctime)s [%(levelname)s] %(message)s\"))\n",
    "logging.getLogger().addHandler(console)\n",
    "logging.info(\"=== Inicio TF DistilBERT stance ===\")"
   ]
  },
  {
   "cell_type": "code",
   "execution_count": 4,
   "id": "f322a199",
   "metadata": {},
   "outputs": [],
   "source": [
    "# ----------------------------\n",
    "# Utilidades de texto y reglas\n",
    "# ----------------------------\n",
    "def clean_text(s: str) -> str:\n",
    "    s = re.sub(r\"http\\S+\", \" \", s)\n",
    "    s = re.sub(r\"@[A-Za-z0-9_]+\", \" \", s)\n",
    "    s = re.sub(r\"[^A-Za-zÀ-ÿ0-9\\s]\", \" \", s)\n",
    "    s = re.sub(r\"\\s+\", \" \", s).strip().lower()\n",
    "    return s\n",
    "\n",
    "def contains_any(s: str, bag: List[str]) -> bool:\n",
    "    s = s.lower()\n",
    "    return any(k in s for k in bag)\n",
    "\n",
    "\n",
    "PRAISE = [\n",
    "    \"gran canal\",\"buen canal\",\"buen vídeo\",\"gran vídeo\",\"gracias por informar\",\"excelente análisis\", \n",
    "    \"buen canal\",\"buen análisis\",\"buen analisis\",\"me gusta el canal\",\"me encanta\", \"canal objetivo\", \n",
    "    \"muy claro\",\"te felicito\",\"gracias por el análisis\", \"buen resumen\" \n",
    "]\n",
    "RUS_POWER = [\n",
    "    \"sarmat\",\"misil\",\"misiles\",\"hipersónico\",\"hipersonico\",\"alcance nuclear\",\n",
    "    \"no se metan con rusia\",\"no se metan con los rusos\",\"poder ruso\",\"armamento ruso\",\"potencia rusa\",\n",
    "    \"khinzal\",\"kinzhal\",\"avangard\",\"poseidon\",\"tsirkon\",\"zircón\",\"isdm\",\"kalibr\", \"borrar kiev\"\n",
    "]\n",
    "PEACE = [\n",
    "    \"paz\",\"alto el fuego\",\"alto al fuego\",\"basta de guerra\",\"tragedia para ambos\",\n",
    "    \"muertes\",\"sufrimiento\",\"fin de la guerra\",\"paren la guerra\",\"que pare la guerra\",\n",
    "    \"humanitario\",\"ayuda humanitaria\",\"no más guerra\", \"no mas guerra\",\"acuerdo de paz\"\n",
    "]\n",
    "ANTI_OCC = [\n",
    "    \"otan\",\"cnn\",\"occidente\",\"eeuu\",\"estados unidos\",\"propaganda occidental\",\"mentira occidental\",\n",
    "    \"ue propaganda\",\"nato\", \"occidente decadente\",\"imperio yanqui\",\"globalistas\",\"agenda 2030\"\n",
    "]\n",
    "ANTI_RUS = [\n",
    "    \"putin asesino\",\"dictador\",\"rusia invasora\",\"invasión rusa\",\"invasion rusa\",\n",
    "    \"rusos mentirosos\",\"propaganda rusa\",\"kremlin miente\",\"criminal de guerra\",\n",
    "    \"rusia criminal\",\"imperio ruso\",\"genocidas rusos\",\"terrorismo ruso\",\"criminales rusos\", \n",
    "    \"bot ruso\"\n",
    "]"
   ]
  },
  {
   "cell_type": "code",
   "execution_count": 6,
   "id": "086c206c",
   "metadata": {},
   "outputs": [],
   "source": [
    "def rule_classifier(row):\n",
    "    text  = str(row[\"comment\"]).lower()\n",
    "    canal = str(row[\"condiciones_cuenta\"]).strip().lower()  # 'pro-ucraniano'/'pro-ruso'/'neutral'\n",
    "    insult = bool(row.get(\"insulto\", False))\n",
    "    fuera  = str(row.get(\"fuera_de_contexto\",\"\")).lower() in {\"sí\",\"si\",\"true\"}\n",
    "\n",
    "    if fuera:\n",
    "        return None, \"regla-fuera-contexto\"\n",
    "\n",
    "    if insult and canal in {\"pro-ucraniano\",\"pro-ruso\"}:\n",
    "        return (\"ruso\" if canal==\"pro-ucraniano\" else \"ucraniano\"), \"regla-insulto-inversion\"\n",
    "\n",
    "    if contains_any(text, PRAISE) and canal in {\"pro-ucraniano\",\"pro-ruso\"}:\n",
    "        return (\"ucraniano\" if canal==\"pro-ucraniano\" else \"ruso\"), \"regla-elogio-canal\"\n",
    "\n",
    "    if contains_any(text, RUS_POWER):\n",
    "        if any(w in text for w in [\"potente\",\"poderoso\",\"impresionante\",\"temible\",\"arras\",\"reventar\",\"alcance\",\"amenaza\",\"hongo\",\"nuclear\",\"golpear\"]):\n",
    "            return \"ruso\", \"regla-poder-ruso\"\n",
    "\n",
    "    if contains_any(text, PEACE) and not insult:\n",
    "        if not contains_any(text, ANTI_OCC) and not contains_any(text, ANTI_RUS):\n",
    "            return \"neutro\", \"regla-paz-humanitaria\"\n",
    "\n",
    "    if canal == \"pro-ucraniano\" and contains_any(text, ANTI_OCC):\n",
    "        return \"ruso\", \"regla-anti-occidente-en-canal-pro-ucr\"\n",
    "\n",
    "    if contains_any(text, ANTI_RUS):\n",
    "        return \"ucraniano\", \"regla-anti-rusia\"\n",
    "\n",
    "    if \"putin\" in text and any(w in text for w in [\"asesino\",\"dictador\",\"criminal\",\"títere\",\"titere\"]):\n",
    "        return \"ucraniano\", \"regla-putin-neg\"\n",
    "\n",
    "    if \"zelensky\" in text and any(w in text for w in [\"títere\",\"titere\",\"payaso\",\"corrupto\",\"actor\"]):\n",
    "        return \"ruso\", \"regla-zelensky-neg\"\n",
    "\n",
    "    if canal == \"neutral\" and contains_any(text, PRAISE):\n",
    "        return \"neutro\", \"regla-elogio-canal-neutral\"\n",
    "\n",
    "    return None, None"
   ]
  },
  {
   "cell_type": "code",
   "execution_count": 7,
   "id": "a78d9a49",
   "metadata": {},
   "outputs": [],
   "source": [
    "# ----------------------------\n",
    "# Cargamos los 9k y preparar train\n",
    "# ----------------------------\n",
    "df9k = pd.read_excel(PATH_9K)\n",
    "df9k[\"comment\"] = df9k[\"comment\"].astype(str)\n",
    "df9k[\"condiciones_cuenta\"] = df9k[\"condiciones_cuenta\"].astype(str).str.strip().str.lower()\n",
    "df9k[\"comment_clean\"] = df9k[\"comment\"].apply(clean_text)\n",
    "df9k[\"text_with_ctx\"] = ((\"[canal:\"+df9k[\"condiciones_cuenta\"]+\"] \") + df9k[\"comment_clean\"]).str.strip()\n",
    "\n",
    "valid_labels = set(LABELS)\n",
    "df9k[\"label_final\"] = df9k[\"label_final\"].astype(str).str.strip().str.lower()\n",
    "df9k[\"clasificacion_origen\"] = df9k[\"clasificacion_origen\"].astype(str).str.strip().str.lower()\n"
   ]
  },
  {
   "cell_type": "code",
   "execution_count": 8,
   "id": "2b619bac",
   "metadata": {},
   "outputs": [
    {
     "name": "stdout",
     "output_type": "stream",
     "text": [
      "Train por origen:\n",
      " clasificacion_origen\n",
      "automatica-ml    3304\n",
      "humano           1877\n",
      "Name: count, dtype: int64\n"
     ]
    }
   ],
   "source": [
    "# criterio de calidad para entrenar:\n",
    "mask_h = (df9k[\"clasificacion_origen\"] == \"humano\") & (df9k[\"label_final\"].isin(valid_labels))\n",
    "mask_r = (df9k[\"clasificacion_origen\"] == \"regla\") & (df9k[\"label_final\"].isin(valid_labels))\n",
    "if \"ml_proba_max\" in df9k.columns and \"ml_margen\" in df9k.columns:\n",
    "    mask_m = (df9k[\"clasificacion_origen\"] == \"automatica-ml\") & \\\n",
    "             (df9k[\"label_final\"].isin(valid_labels)) & \\\n",
    "             (df9k[\"ml_proba_max\"] >= 0.60) & (df9k[\"ml_margen\"] >= 0.20)\n",
    "else:\n",
    "    mask_m = (df9k[\"clasificacion_origen\"] == \"automatica-ml\") & (df9k[\"label_final\"].isin(valid_labels))\n",
    "\n",
    "df_train = df9k[mask_h | mask_r | mask_m].copy()\n",
    "print(\"Train por origen:\\n\", df_train[\"clasificacion_origen\"].value_counts())"
   ]
  },
  {
   "cell_type": "code",
   "execution_count": 9,
   "id": "2156d4ac",
   "metadata": {},
   "outputs": [],
   "source": [
    "# sample weights por origen\n",
    "WEIGHTS_ORIGEN = {\"humano\":1.0, \"regla\":0.85, \"automatica-ml\":0.7}\n",
    "df_train[\"sample_weight\"] = df_train[\"clasificacion_origen\"].map(WEIGHTS_ORIGEN).fillna(0.7)\n",
    "\n",
    "X_all = df_train[\"text_with_ctx\"].tolist()\n",
    "y_all = df_train[\"label_final\"].map(LABEL2ID).values\n",
    "w_all = df_train[\"sample_weight\"].values\n",
    "\n",
    "Xtr, Xva, ytr, yva, wtr, wva = train_test_split(\n",
    "    X_all, y_all, w_all, test_size=0.2, random_state=RANDOM_SEED, stratify=y_all\n",
    ")"
   ]
  },
  {
   "cell_type": "code",
   "execution_count": 10,
   "id": "691a4707",
   "metadata": {},
   "outputs": [
    {
     "name": "stderr",
     "output_type": "stream",
     "text": [
      "c:\\Users\\User\\Desktop\\Facu\\Master_Espana\\Master_UEMC\\TFM\\codigo\\analisis_guerra_ucrania_youtube\\.venv\\Lib\\site-packages\\transformers\\tokenization_utils_base.py:1601: FutureWarning: `clean_up_tokenization_spaces` was not set. It will be set to `True` by default. This behavior will be depracted in transformers v4.45, and will be then set to `False` by default. For more details check this issue: https://github.com/huggingface/transformers/issues/31884\n",
      "  warnings.warn(\n"
     ]
    }
   ],
   "source": [
    "# ----------------------------\n",
    "# Tokenizer y TF Datasets\n",
    "# ----------------------------\n",
    "tokenizer = AutoTokenizer.from_pretrained(MODEL_NAME, use_fast=True)\n",
    "MAX_LEN = 200\n",
    "BATCH_TRAIN = 16\n",
    "BATCH_VAL = 32\n",
    "\n",
    "def encode_batch(texts):\n",
    "    enc = tokenizer(texts, truncation=True, padding=\"max_length\", max_length=MAX_LEN)\n",
    "    return {k: np.array(v) for k,v in enc.items()}\n",
    "\n",
    "enc_tr = encode_batch(Xtr)\n",
    "enc_va = encode_batch(Xva)\n",
    "\n",
    "train_ds = tf.data.Dataset.from_tensor_slices((enc_tr, ytr, wtr)).shuffle(2048, seed=RANDOM_SEED).batch(BATCH_TRAIN).prefetch(tf.data.AUTOTUNE)\n",
    "val_ds   = tf.data.Dataset.from_tensor_slices((enc_va, yva, wva)).batch(BATCH_VAL).prefetch(tf.data.AUTOTUNE)\n"
   ]
  },
  {
   "cell_type": "code",
   "execution_count": 11,
   "id": "0b2452be",
   "metadata": {},
   "outputs": [
    {
     "name": "stdout",
     "output_type": "stream",
     "text": [
      "WARNING:tensorflow:From c:\\Users\\User\\Desktop\\Facu\\Master_Espana\\Master_UEMC\\TFM\\codigo\\analisis_guerra_ucrania_youtube\\.venv\\Lib\\site-packages\\keras\\src\\backend.py:873: The name tf.get_default_graph is deprecated. Please use tf.compat.v1.get_default_graph instead.\n",
      "\n"
     ]
    },
    {
     "name": "stderr",
     "output_type": "stream",
     "text": [
      "2025-10-14 01:20:24,825 [WARNING] From c:\\Users\\User\\Desktop\\Facu\\Master_Espana\\Master_UEMC\\TFM\\codigo\\analisis_guerra_ucrania_youtube\\.venv\\Lib\\site-packages\\keras\\src\\backend.py:873: The name tf.get_default_graph is deprecated. Please use tf.compat.v1.get_default_graph instead.\n",
      "\n",
      "Some weights of the PyTorch model were not used when initializing the TF 2.0 model TFDistilBertForSequenceClassification: ['vocab_layer_norm.bias', 'vocab_layer_norm.weight', 'vocab_projector.bias', 'vocab_transform.weight', 'vocab_transform.bias']\n",
      "- This IS expected if you are initializing TFDistilBertForSequenceClassification from a PyTorch model trained on another task or with another architecture (e.g. initializing a TFBertForSequenceClassification model from a BertForPreTraining model).\n",
      "- This IS NOT expected if you are initializing TFDistilBertForSequenceClassification from a PyTorch model that you expect to be exactly identical (e.g. initializing a TFBertForSequenceClassification model from a BertForSequenceClassification model).\n",
      "Some weights or buffers of the TF 2.0 model TFDistilBertForSequenceClassification were not initialized from the PyTorch model and are newly initialized: ['pre_classifier.weight', 'pre_classifier.bias', 'classifier.weight', 'classifier.bias']\n",
      "You should probably TRAIN this model on a down-stream task to be able to use it for predictions and inference.\n"
     ]
    },
    {
     "name": "stdout",
     "output_type": "stream",
     "text": [
      "Modelo inicializado desde distilbert-base-multilingual-cased\n"
     ]
    }
   ],
   "source": [
    "# Tokenizer (carga desde checkpoint si existe, si no desde el modelo base)\n",
    "if \"tokenizer\" not in globals():\n",
    "    if os.path.isdir(OUTPUT_DIR):\n",
    "        try:\n",
    "            tokenizer = AutoTokenizer.from_pretrained(OUTPUT_DIR, use_fast=True)\n",
    "        except Exception:\n",
    "            tokenizer = AutoTokenizer.from_pretrained(MODEL_NAME, use_fast=True)\n",
    "    else:\n",
    "        tokenizer = AutoTokenizer.from_pretrained(MODEL_NAME, use_fast=True)\n",
    "\n",
    "# Modelo (primero intenta checkpoint ../models/.../best, si no usa el base)\n",
    "best_ckpt = os.path.join(OUTPUT_DIR, \"best\")\n",
    "try:\n",
    "    if os.path.isdir(best_ckpt):\n",
    "        model = TFAutoModelForSequenceClassification.from_pretrained(\n",
    "            best_ckpt,\n",
    "            num_labels=len(LABELS),\n",
    "            id2label=ID2LABEL,\n",
    "            label2id=LABEL2ID,\n",
    "        )\n",
    "        print(\"Modelo cargado desde checkpoint:\", best_ckpt)\n",
    "    else:\n",
    "        raise FileNotFoundError\n",
    "except Exception as e:\n",
    "    model = TFAutoModelForSequenceClassification.from_pretrained(\n",
    "        MODEL_NAME,\n",
    "        num_labels=len(LABELS),\n",
    "        id2label=ID2LABEL,\n",
    "        label2id=LABEL2ID,\n",
    "    )\n",
    "    print(\"Modelo inicializado desde\", MODEL_NAME)"
   ]
  },
  {
   "cell_type": "code",
   "execution_count": 42,
   "id": "b5b1dba3",
   "metadata": {},
   "outputs": [],
   "source": [
    "# OPTIMIZER / LOSS / METRICS con Keras 3\n",
    "lr = 3e-5\n",
    "optimizer = keras.optimizers.Adam(learning_rate=lr)\n",
    "loss      = keras.losses.SparseCategoricalCrossentropy(from_logits=True)\n",
    "metrics   = [keras.metrics.SparseCategoricalAccuracy(name=\"acc\")]\n",
    "\n",
    "# Dataset ya emite (enc, y, sw). Asegura dtypes (opcional pero recomendable)\n",
    "train_ds = train_ds.map(lambda enc, y, sw: (enc, tf.cast(y, tf.int32), tf.cast(sw, tf.float32)))\n",
    "val_ds   = val_ds.map(lambda enc, y, sw: (enc, tf.cast(y, tf.int32), tf.cast(sw, tf.float32)))\n",
    "\n",
    "# Compilar el modelo HF (TFDistilBertForSequenceClassification) con Keras 3\n",
    "model.compile(optimizer=optimizer, loss=loss, metrics=metrics)\n",
    "\n"
   ]
  },
  {
   "cell_type": "code",
   "execution_count": 20,
   "id": "6a7a978f",
   "metadata": {},
   "outputs": [
    {
     "name": "stdout",
     "output_type": "stream",
     "text": [
      "Epoch 1/3\n",
      "WARNING:tensorflow:From c:\\Users\\User\\Desktop\\Facu\\Master_Espana\\Master_UEMC\\TFM\\codigo\\analisis_guerra_ucrania_youtube\\.venv\\Lib\\site-packages\\keras\\src\\utils\\tf_utils.py:492: The name tf.ragged.RaggedTensorValue is deprecated. Please use tf.compat.v1.ragged.RaggedTensorValue instead.\n",
      "\n"
     ]
    },
    {
     "name": "stderr",
     "output_type": "stream",
     "text": [
      "2025-10-10 19:44:10,902 [WARNING] From c:\\Users\\User\\Desktop\\Facu\\Master_Espana\\Master_UEMC\\TFM\\codigo\\analisis_guerra_ucrania_youtube\\.venv\\Lib\\site-packages\\keras\\src\\utils\\tf_utils.py:492: The name tf.ragged.RaggedTensorValue is deprecated. Please use tf.compat.v1.ragged.RaggedTensorValue instead.\n",
      "\n"
     ]
    },
    {
     "name": "stdout",
     "output_type": "stream",
     "text": [
      "259/259 [==============================] - ETA: 0s - loss: 0.5875 - acc: 0.7413WARNING:tensorflow:`evaluate()` received a value for `sample_weight`, but `weighted_metrics` were not provided.  Did you mean to pass metrics to `weighted_metrics` in `compile()`?  If this is intentional you can pass `weighted_metrics=[]` to `compile()` in order to silence this warning.\n"
     ]
    },
    {
     "name": "stderr",
     "output_type": "stream",
     "text": [
      "2025-10-10 20:08:18,035 [WARNING] `evaluate()` received a value for `sample_weight`, but `weighted_metrics` were not provided.  Did you mean to pass metrics to `weighted_metrics` in `compile()`?  If this is intentional you can pass `weighted_metrics=[]` to `compile()` in order to silence this warning.\n"
     ]
    },
    {
     "name": "stdout",
     "output_type": "stream",
     "text": [
      "WARNING:tensorflow:From c:\\Users\\User\\Desktop\\Facu\\Master_Espana\\Master_UEMC\\TFM\\codigo\\analisis_guerra_ucrania_youtube\\.venv\\Lib\\site-packages\\keras\\src\\saving\\legacy\\saved_model\\save_impl.py:66: The name tf.logging.warning is deprecated. Please use tf.compat.v1.logging.warning instead.\n",
      "\n"
     ]
    },
    {
     "name": "stderr",
     "output_type": "stream",
     "text": [
      "2025-10-10 20:09:59,601 [WARNING] From c:\\Users\\User\\Desktop\\Facu\\Master_Espana\\Master_UEMC\\TFM\\codigo\\analisis_guerra_ucrania_youtube\\.venv\\Lib\\site-packages\\keras\\src\\saving\\legacy\\saved_model\\save_impl.py:66: The name tf.logging.warning is deprecated. Please use tf.compat.v1.logging.warning instead.\n",
      "\n"
     ]
    },
    {
     "name": "stdout",
     "output_type": "stream",
     "text": [
      "WARNING:tensorflow:Skipping full serialization of Keras layer <keras.src.layers.regularization.dropout.Dropout object at 0x000001546E732290>, because it is not built.\n"
     ]
    },
    {
     "name": "stderr",
     "output_type": "stream",
     "text": [
      "2025-10-10 20:09:59,603 [WARNING] Skipping full serialization of Keras layer <keras.src.layers.regularization.dropout.Dropout object at 0x000001546E732290>, because it is not built.\n"
     ]
    },
    {
     "name": "stdout",
     "output_type": "stream",
     "text": [
      "WARNING:tensorflow:Skipping full serialization of Keras layer <keras.src.layers.regularization.dropout.Dropout object at 0x000001546E761110>, because it is not built.\n"
     ]
    },
    {
     "name": "stderr",
     "output_type": "stream",
     "text": [
      "2025-10-10 20:09:59,618 [WARNING] Skipping full serialization of Keras layer <keras.src.layers.regularization.dropout.Dropout object at 0x000001546E761110>, because it is not built.\n"
     ]
    },
    {
     "name": "stdout",
     "output_type": "stream",
     "text": [
      "WARNING:tensorflow:Skipping full serialization of Keras layer <keras.src.layers.regularization.dropout.Dropout object at 0x000001546E635310>, because it is not built.\n"
     ]
    },
    {
     "name": "stderr",
     "output_type": "stream",
     "text": [
      "2025-10-10 20:09:59,645 [WARNING] Skipping full serialization of Keras layer <keras.src.layers.regularization.dropout.Dropout object at 0x000001546E635310>, because it is not built.\n"
     ]
    },
    {
     "name": "stdout",
     "output_type": "stream",
     "text": [
      "WARNING:tensorflow:Skipping full serialization of Keras layer <keras.src.layers.regularization.dropout.Dropout object at 0x000001546E804190>, because it is not built.\n"
     ]
    },
    {
     "name": "stderr",
     "output_type": "stream",
     "text": [
      "2025-10-10 20:09:59,662 [WARNING] Skipping full serialization of Keras layer <keras.src.layers.regularization.dropout.Dropout object at 0x000001546E804190>, because it is not built.\n"
     ]
    },
    {
     "name": "stdout",
     "output_type": "stream",
     "text": [
      "WARNING:tensorflow:Skipping full serialization of Keras layer <keras.src.layers.regularization.dropout.Dropout object at 0x000001546E4FBB90>, because it is not built.\n"
     ]
    },
    {
     "name": "stderr",
     "output_type": "stream",
     "text": [
      "2025-10-10 20:09:59,680 [WARNING] Skipping full serialization of Keras layer <keras.src.layers.regularization.dropout.Dropout object at 0x000001546E4FBB90>, because it is not built.\n"
     ]
    },
    {
     "name": "stdout",
     "output_type": "stream",
     "text": [
      "WARNING:tensorflow:Skipping full serialization of Keras layer <keras.src.layers.regularization.dropout.Dropout object at 0x000001546DAD4210>, because it is not built.\n"
     ]
    },
    {
     "name": "stderr",
     "output_type": "stream",
     "text": [
      "2025-10-10 20:09:59,701 [WARNING] Skipping full serialization of Keras layer <keras.src.layers.regularization.dropout.Dropout object at 0x000001546DAD4210>, because it is not built.\n"
     ]
    },
    {
     "name": "stdout",
     "output_type": "stream",
     "text": [
      "INFO:tensorflow:Assets written to: ../models/tf_distilmbert_stance_v1\\best\\assets\n"
     ]
    },
    {
     "name": "stderr",
     "output_type": "stream",
     "text": [
      "2025-10-10 20:10:23,680 [INFO] Assets written to: ../models/tf_distilmbert_stance_v1\\best\\assets\n"
     ]
    },
    {
     "name": "stdout",
     "output_type": "stream",
     "text": [
      "259/259 [==============================] - 1580s 6s/step - loss: 0.5875 - acc: 0.7413 - val_loss: 0.4919 - val_acc: 0.7898\n",
      "Epoch 2/3\n",
      "259/259 [==============================] - ETA: 0s - loss: 0.3778 - acc: 0.8381WARNING:tensorflow:`evaluate()` received a value for `sample_weight`, but `weighted_metrics` were not provided.  Did you mean to pass metrics to `weighted_metrics` in `compile()`?  If this is intentional you can pass `weighted_metrics=[]` to `compile()` in order to silence this warning.\n"
     ]
    },
    {
     "name": "stderr",
     "output_type": "stream",
     "text": [
      "2025-10-10 20:33:11,684 [WARNING] `evaluate()` received a value for `sample_weight`, but `weighted_metrics` were not provided.  Did you mean to pass metrics to `weighted_metrics` in `compile()`?  If this is intentional you can pass `weighted_metrics=[]` to `compile()` in order to silence this warning.\n"
     ]
    },
    {
     "name": "stdout",
     "output_type": "stream",
     "text": [
      "WARNING:tensorflow:Skipping full serialization of Keras layer <keras.src.layers.regularization.dropout.Dropout object at 0x000001546E732290>, because it is not built.\n"
     ]
    },
    {
     "name": "stderr",
     "output_type": "stream",
     "text": [
      "2025-10-10 20:34:40,463 [WARNING] Skipping full serialization of Keras layer <keras.src.layers.regularization.dropout.Dropout object at 0x000001546E732290>, because it is not built.\n"
     ]
    },
    {
     "name": "stdout",
     "output_type": "stream",
     "text": [
      "WARNING:tensorflow:Skipping full serialization of Keras layer <keras.src.layers.regularization.dropout.Dropout object at 0x000001546E761110>, because it is not built.\n"
     ]
    },
    {
     "name": "stderr",
     "output_type": "stream",
     "text": [
      "2025-10-10 20:34:40,479 [WARNING] Skipping full serialization of Keras layer <keras.src.layers.regularization.dropout.Dropout object at 0x000001546E761110>, because it is not built.\n"
     ]
    },
    {
     "name": "stdout",
     "output_type": "stream",
     "text": [
      "WARNING:tensorflow:Skipping full serialization of Keras layer <keras.src.layers.regularization.dropout.Dropout object at 0x000001546E635310>, because it is not built.\n"
     ]
    },
    {
     "name": "stderr",
     "output_type": "stream",
     "text": [
      "2025-10-10 20:34:40,493 [WARNING] Skipping full serialization of Keras layer <keras.src.layers.regularization.dropout.Dropout object at 0x000001546E635310>, because it is not built.\n"
     ]
    },
    {
     "name": "stdout",
     "output_type": "stream",
     "text": [
      "WARNING:tensorflow:Skipping full serialization of Keras layer <keras.src.layers.regularization.dropout.Dropout object at 0x000001546E804190>, because it is not built.\n"
     ]
    },
    {
     "name": "stderr",
     "output_type": "stream",
     "text": [
      "2025-10-10 20:34:40,514 [WARNING] Skipping full serialization of Keras layer <keras.src.layers.regularization.dropout.Dropout object at 0x000001546E804190>, because it is not built.\n"
     ]
    },
    {
     "name": "stdout",
     "output_type": "stream",
     "text": [
      "WARNING:tensorflow:Skipping full serialization of Keras layer <keras.src.layers.regularization.dropout.Dropout object at 0x000001546E4FBB90>, because it is not built.\n"
     ]
    },
    {
     "name": "stderr",
     "output_type": "stream",
     "text": [
      "2025-10-10 20:34:40,532 [WARNING] Skipping full serialization of Keras layer <keras.src.layers.regularization.dropout.Dropout object at 0x000001546E4FBB90>, because it is not built.\n"
     ]
    },
    {
     "name": "stdout",
     "output_type": "stream",
     "text": [
      "WARNING:tensorflow:Skipping full serialization of Keras layer <keras.src.layers.regularization.dropout.Dropout object at 0x000001546DAD4210>, because it is not built.\n"
     ]
    },
    {
     "name": "stderr",
     "output_type": "stream",
     "text": [
      "2025-10-10 20:34:40,547 [WARNING] Skipping full serialization of Keras layer <keras.src.layers.regularization.dropout.Dropout object at 0x000001546DAD4210>, because it is not built.\n"
     ]
    },
    {
     "name": "stdout",
     "output_type": "stream",
     "text": [
      "INFO:tensorflow:Assets written to: ../models/tf_distilmbert_stance_v1\\best\\assets\n"
     ]
    },
    {
     "name": "stderr",
     "output_type": "stream",
     "text": [
      "2025-10-10 20:35:00,505 [INFO] Assets written to: ../models/tf_distilmbert_stance_v1\\best\\assets\n"
     ]
    },
    {
     "name": "stdout",
     "output_type": "stream",
     "text": [
      "259/259 [==============================] - 1476s 6s/step - loss: 0.3778 - acc: 0.8381 - val_loss: 0.4596 - val_acc: 0.7994\n",
      "Epoch 3/3\n",
      "259/259 [==============================] - ETA: 0s - loss: 0.2196 - acc: 0.9199WARNING:tensorflow:`evaluate()` received a value for `sample_weight`, but `weighted_metrics` were not provided.  Did you mean to pass metrics to `weighted_metrics` in `compile()`?  If this is intentional you can pass `weighted_metrics=[]` to `compile()` in order to silence this warning.\n"
     ]
    },
    {
     "name": "stderr",
     "output_type": "stream",
     "text": [
      "2025-10-10 20:58:15,494 [WARNING] `evaluate()` received a value for `sample_weight`, but `weighted_metrics` were not provided.  Did you mean to pass metrics to `weighted_metrics` in `compile()`?  If this is intentional you can pass `weighted_metrics=[]` to `compile()` in order to silence this warning.\n"
     ]
    },
    {
     "name": "stdout",
     "output_type": "stream",
     "text": [
      "WARNING:tensorflow:Skipping full serialization of Keras layer <keras.src.layers.regularization.dropout.Dropout object at 0x000001546E732290>, because it is not built.\n"
     ]
    },
    {
     "name": "stderr",
     "output_type": "stream",
     "text": [
      "2025-10-10 20:59:46,688 [WARNING] Skipping full serialization of Keras layer <keras.src.layers.regularization.dropout.Dropout object at 0x000001546E732290>, because it is not built.\n"
     ]
    },
    {
     "name": "stdout",
     "output_type": "stream",
     "text": [
      "WARNING:tensorflow:Skipping full serialization of Keras layer <keras.src.layers.regularization.dropout.Dropout object at 0x000001546E761110>, because it is not built.\n"
     ]
    },
    {
     "name": "stderr",
     "output_type": "stream",
     "text": [
      "2025-10-10 20:59:46,688 [WARNING] Skipping full serialization of Keras layer <keras.src.layers.regularization.dropout.Dropout object at 0x000001546E761110>, because it is not built.\n"
     ]
    },
    {
     "name": "stdout",
     "output_type": "stream",
     "text": [
      "WARNING:tensorflow:Skipping full serialization of Keras layer <keras.src.layers.regularization.dropout.Dropout object at 0x000001546E635310>, because it is not built.\n"
     ]
    },
    {
     "name": "stderr",
     "output_type": "stream",
     "text": [
      "2025-10-10 20:59:46,698 [WARNING] Skipping full serialization of Keras layer <keras.src.layers.regularization.dropout.Dropout object at 0x000001546E635310>, because it is not built.\n"
     ]
    },
    {
     "name": "stdout",
     "output_type": "stream",
     "text": [
      "WARNING:tensorflow:Skipping full serialization of Keras layer <keras.src.layers.regularization.dropout.Dropout object at 0x000001546E804190>, because it is not built.\n"
     ]
    },
    {
     "name": "stderr",
     "output_type": "stream",
     "text": [
      "2025-10-10 20:59:46,723 [WARNING] Skipping full serialization of Keras layer <keras.src.layers.regularization.dropout.Dropout object at 0x000001546E804190>, because it is not built.\n"
     ]
    },
    {
     "name": "stdout",
     "output_type": "stream",
     "text": [
      "WARNING:tensorflow:Skipping full serialization of Keras layer <keras.src.layers.regularization.dropout.Dropout object at 0x000001546E4FBB90>, because it is not built.\n"
     ]
    },
    {
     "name": "stderr",
     "output_type": "stream",
     "text": [
      "2025-10-10 20:59:46,735 [WARNING] Skipping full serialization of Keras layer <keras.src.layers.regularization.dropout.Dropout object at 0x000001546E4FBB90>, because it is not built.\n"
     ]
    },
    {
     "name": "stdout",
     "output_type": "stream",
     "text": [
      "WARNING:tensorflow:Skipping full serialization of Keras layer <keras.src.layers.regularization.dropout.Dropout object at 0x000001546DAD4210>, because it is not built.\n"
     ]
    },
    {
     "name": "stderr",
     "output_type": "stream",
     "text": [
      "2025-10-10 20:59:46,754 [WARNING] Skipping full serialization of Keras layer <keras.src.layers.regularization.dropout.Dropout object at 0x000001546DAD4210>, because it is not built.\n"
     ]
    },
    {
     "name": "stdout",
     "output_type": "stream",
     "text": [
      "INFO:tensorflow:Assets written to: ../models/tf_distilmbert_stance_v1\\best\\assets\n"
     ]
    },
    {
     "name": "stderr",
     "output_type": "stream",
     "text": [
      "2025-10-10 21:00:07,524 [INFO] Assets written to: ../models/tf_distilmbert_stance_v1\\best\\assets\n"
     ]
    },
    {
     "name": "stdout",
     "output_type": "stream",
     "text": [
      "259/259 [==============================] - 1507s 6s/step - loss: 0.2196 - acc: 0.9199 - val_loss: 0.4519 - val_acc: 0.8274\n"
     ]
    }
   ],
   "source": [
    "# CALLBACKS con Keras 3 (NO uses tf.keras.callbacks.*)\n",
    "callbacks = [\n",
    "    keras.callbacks.EarlyStopping(monitor=\"val_loss\", patience=2, restore_best_weights=True),\n",
    "    keras.callbacks.ModelCheckpoint(\n",
    "        \"../models/tf_distilmbert_stance_v1/best\",\n",
    "        save_weights_only=False,\n",
    "        save_best_only=True,\n",
    "        monitor=\"val_loss\"\n",
    "    ),\n",
    "    keras.callbacks.CSVLogger(\"../logs/tf_training_log.csv\"),\n",
    "]\n",
    "\n",
    "history = model.fit(\n",
    "    train_ds,\n",
    "    validation_data=val_ds,\n",
    "    epochs=3,\n",
    "    verbose=1,\n",
    "    callbacks=callbacks\n",
    ")"
   ]
  },
  {
   "cell_type": "code",
   "execution_count": null,
   "id": "efbf8e1c",
   "metadata": {},
   "outputs": [],
   "source": [
    "# ============================\n",
    "# POST-ENTRENAMIENTO COMPLETO\n",
    "# (Eval + F1 + Gráficos + Guardado + Inferencia con abstención)\n",
    "# ============================\n",
    "\n"
   ]
  },
  {
   "cell_type": "code",
   "execution_count": 14,
   "id": "9d30765f",
   "metadata": {},
   "outputs": [],
   "source": [
    "# ----------------------------\n",
    "# 0) Utilidades / defaults\n",
    "# ----------------------------\n",
    "# Define umbrales por defecto para abstención\n",
    "UMBRAL_PROBA = 0.55\n",
    "UMBRAL_MARGEN = 0.15\n",
    "\n",
    "# Asegura nombres de columnas en CSVLogger\n",
    "LOG_PATH = \"../logs/tf_training_log.csv\"\n",
    "OUTPUT_DIR = \"../models/tf_distilmbert_stance_export\"\n",
    "os.makedirs(OUTPUT_DIR, exist_ok=True)"
   ]
  },
  {
   "cell_type": "code",
   "execution_count": 43,
   "id": "2d2dbc7c",
   "metadata": {},
   "outputs": [
    {
     "name": "stdout",
     "output_type": "stream",
     "text": [
      "=== Eval TF DistilBERT (validación) ===\n"
     ]
    }
   ],
   "source": [
    "# ----------------------------\n",
    "# 1) Evaluación en validación\n",
    "# ----------------------------\n",
    "# Crea un dataset de validación SIN sample_weight para predecir sin warnings\n",
    "val_ds_no_sw = tf.data.Dataset.from_tensor_slices((enc_va, yva)) \\\n",
    "    .batch(BATCH_VAL).prefetch(tf.data.AUTOTUNE)\n",
    "\n",
    "# Predicción: obtiene logits y predicciones top-1\n",
    "out = model.predict(val_ds_no_sw.map(lambda enc, y: ({k: enc[k] for k in [\"input_ids\",\"attention_mask\"]}, y)),\n",
    "                    verbose=0)\n",
    "logits = out.logits if hasattr(out, \"logits\") else out  # por compatibilidad\n",
    "yhat = logits.argmax(axis=1)\n",
    "\n",
    "print(\"=== Eval TF DistilBERT (validación) ===\")"
   ]
  },
  {
   "cell_type": "code",
   "execution_count": 44,
   "id": "151be634",
   "metadata": {},
   "outputs": [
    {
     "name": "stdout",
     "output_type": "stream",
     "text": [
      "              precision    recall  f1-score   support\n",
      "\n",
      "        ruso      0.849     0.925     0.886 585.1999999999996\n",
      "   ucraniano      0.744     0.542     0.627 135.00000000000014\n",
      "      neutro      0.645     0.556     0.597 112.50000000000013\n",
      "\n",
      "    accuracy                          0.813 832.6999999999998\n",
      "   macro avg      0.746     0.675     0.703 832.6999999999998\n",
      "weighted avg      0.805     0.813     0.805 832.6999999999998\n",
      "\n",
      "F1 macro: 0.703 | F1 weighted: 0.805\n"
     ]
    }
   ],
   "source": [
    "# Reporte con yva/yhat. Si quieres ponderar por pesos, pasa sample_weight=wva\n",
    "try:\n",
    "    print(classification_report(yva, yhat, target_names=LABELS, digits=3, sample_weight=wva))\n",
    "    f1_macro = f1_score(yva, yhat, average=\"macro\", sample_weight=wva)\n",
    "    f1_weighted = f1_score(yva, yhat, average=\"weighted\", sample_weight=wva)\n",
    "except NameError:\n",
    "    print(classification_report(yva, yhat, target_names=LABELS, digits=3))\n",
    "    f1_macro = f1_score(yva, yhat, average=\"macro\")\n",
    "    f1_weighted = f1_score(yva, yhat, average=\"weighted\")\n",
    "\n",
    "print(f\"F1 macro: {f1_macro:.3f} | F1 weighted: {f1_weighted:.3f}\")\n"
   ]
  },
  {
   "cell_type": "code",
   "execution_count": 45,
   "id": "20cbf185",
   "metadata": {},
   "outputs": [
    {
     "name": "stdout",
     "output_type": "stream",
     "text": [
      "\n",
      "Matriz de confusión:\n",
      "                 pred_ruso  pred_ucraniano  pred_neutro\n",
      "true_ruso             691              19           33\n",
      "true_ucraniano         60              90            9\n",
      "true_neutro            50               8           77\n",
      "\n",
      "Métricas por clase:\n",
      "        label  precision    recall        f1  support\n",
      "0       ruso   0.849498  0.924983  0.885635    585.2\n",
      "1  ucraniano   0.743902  0.542222  0.627249    135.0\n",
      "2     neutro   0.644696  0.556444  0.597328    112.5\n"
     ]
    }
   ],
   "source": [
    "# Matriz de confusión\n",
    "cm = confusion_matrix(yva, yhat, labels=range(len(LABELS)))\n",
    "cm_df = pd.DataFrame(cm, index=[f\"true_{l}\" for l in LABELS], columns=[f\"pred_{l}\" for l in LABELS])\n",
    "print(\"\\nMatriz de confusión:\\n\", cm_df)\n",
    "\n",
    "# Métricas por clase (precision/recall/F1/support)\n",
    "try:\n",
    "    pr, rc, f1c, sup = precision_recall_fscore_support(yva, yhat, labels=range(len(LABELS)),\n",
    "                                                       sample_weight=wva, zero_division=0)\n",
    "except NameError:\n",
    "    pr, rc, f1c, sup = precision_recall_fscore_support(yva, yhat, labels=range(len(LABELS)),\n",
    "                                                       zero_division=0)\n",
    "per_class_df = pd.DataFrame({\"label\": LABELS, \"precision\": pr, \"recall\": rc, \"f1\": f1c, \"support\": sup})\n",
    "print(\"\\nMétricas por clase:\\n\", per_class_df)"
   ]
  },
  {
   "cell_type": "code",
   "execution_count": 27,
   "id": "6753b3f7",
   "metadata": {},
   "outputs": [
    {
     "data": {
      "image/png": "[encoded data removed]",
      "text/plain": [
       "<Figure size 640x480 with 1 Axes>"
      ]
     },
     "metadata": {},
     "output_type": "display_data"
    },
    {
     "data": {
      "image/png": "[encoded data removed]",
      "text/plain": [
       "<Figure size 640x480 with 1 Axes>"
      ]
     },
     "metadata": {},
     "output_type": "display_data"
    }
   ],
   "source": [
    "# ----------------------------\n",
    "# 2) Gráficos (loss/acc y F1 por clase)\n",
    "# ----------------------------\n",
    "if os.path.exists(LOG_PATH):\n",
    "    df_log = pd.read_csv(LOG_PATH)\n",
    "    ep = range(1, len(df_log)+1)\n",
    "\n",
    "    # Loss\n",
    "    plt.figure()\n",
    "    plt.plot(ep, df_log[\"loss\"], label=\"train\")\n",
    "    if \"val_loss\" in df_log.columns: plt.plot(ep, df_log[\"val_loss\"], label=\"val\")\n",
    "    plt.xlabel(\"Epoch\"); plt.ylabel(\"Loss\"); plt.title(\"Loss por epoch\"); plt.legend(); plt.show()\n",
    "\n",
    "    # Accuracy (según cómo lo compilaste, puede llamarse acc/accuracy)\n",
    "    acc_col = \"acc\" if \"acc\" in df_log.columns else (\"accuracy\" if \"accuracy\" in df_log.columns else None)\n",
    "    val_acc_col = \"val_acc\" if \"val_acc\" in df_log.columns else (\"val_accuracy\" if \"val_accuracy\" in df_log.columns else None)\n",
    "    if acc_col:\n",
    "        plt.figure()\n",
    "        plt.plot(ep, df_log[acc_col], label=\"train\")\n",
    "        if val_acc_col: plt.plot(ep, df_log[val_acc_col], label=\"val\")\n",
    "        plt.xlabel(\"Epoch\"); plt.ylabel(\"Accuracy\"); plt.title(\"Accuracy por epoch\"); plt.legend(); plt.show()\n",
    "else:\n",
    "    print(f\"Aviso: no se encontró el log en {LOG_PATH}. ¿CSVLogger se configuró correctamente?\")\n"
   ]
  },
  {
   "cell_type": "code",
   "execution_count": 28,
   "id": "dae9e01e",
   "metadata": {},
   "outputs": [
    {
     "data": {
      "image/png": "[encoded data removed]",
      "text/plain": [
       "<Figure size 640x480 with 1 Axes>"
      ]
     },
     "metadata": {},
     "output_type": "display_data"
    }
   ],
   "source": [
    "# F1 por clase (barras)\n",
    "ax = per_class_df.plot(x=\"label\", y=\"f1\", kind=\"bar\")\n",
    "plt.title(\"F1 por clase (validación)\")\n",
    "plt.ylabel(\"F1\")\n",
    "plt.tight_layout()\n",
    "plt.show()"
   ]
  },
  {
   "cell_type": "code",
   "execution_count": null,
   "id": "4499b2fe",
   "metadata": {},
   "outputs": [
    {
     "name": "stdout",
     "output_type": "stream",
     "text": [
      "✅ Modelo y tokenizer guardados en ../models/tf_distilmbert_stance_export\n"
     ]
    }
   ],
   "source": [
    "# ----------------------------\n",
    "# 3) Guardado del modelo/tokenizer\n",
    "# ----------------------------\n",
    "# Si entrenaste con TF *AutoModelForSequenceClassification* (HF TF), esto guarda el modelo en formato HF:\n",
    "try:\n",
    "    model.save_pretrained(OUTPUT_DIR)\n",
    "    tokenizer.save_pretrained(OUTPUT_DIR)\n",
    "    print(\"Modelo y tokenizer guardados en\", OUTPUT_DIR)\n",
    "except Exception as e:\n",
    "    print(\"No se pudo guardar con save_pretrained. Detalle:\", repr(e))\n",
    "    # Fallback SavedModel\n",
    "    tf.saved_model.save(model, os.path.join(OUTPUT_DIR, \"savedmodel\"))\n",
    "    print(\"Guardado en formato SavedModel:\", os.path.join(OUTPUT_DIR, \"savedmodel\"))"
   ]
  },
  {
   "cell_type": "code",
   "execution_count": null,
   "id": "dab71f23",
   "metadata": {},
   "outputs": [],
   "source": [
    "# ----------------------------\n",
    "# 4) Inferencia en ~100k con abstención con el modelo ya creado\n",
    "# ----------------------------\n",
    "# Requiere: PATH_FULL, clean_text, rule_classifier, LABELS, tokenizer, MAX_LEN"
   ]
  },
  {
   "cell_type": "code",
   "execution_count": 28,
   "id": "141a00a1",
   "metadata": {},
   "outputs": [
    {
     "name": "stderr",
     "output_type": "stream",
     "text": [
      "All model checkpoint layers were used when initializing TFDistilBertForSequenceClassification.\n",
      "\n",
      "All the layers of TFDistilBertForSequenceClassification were initialized from the model checkpoint at ../models/tf_distilmbert_stance_export.\n",
      "If your task is similar to the task the model of the checkpoint was trained on, you can already use TFDistilBertForSequenceClassification for predictions without further training.\n"
     ]
    }
   ],
   "source": [
    "#Import del modelo ya creado\n",
    "from transformers import AutoTokenizer, TFAutoModelForSequenceClassification\n",
    "tokenizer = AutoTokenizer.from_pretrained(r\"../models/tf_distilmbert_stance_export\", use_fast=True); model = TFAutoModelForSequenceClassification.from_pretrained(r\"../models/tf_distilmbert_stance_export\")\n"
   ]
  },
  {
   "cell_type": "code",
   "execution_count": 31,
   "id": "77d648c2",
   "metadata": {},
   "outputs": [
    {
     "name": "stdout",
     "output_type": "stream",
     "text": [
      "Salida CSV: ../data/processed/7_predicciones_full_small_v2_testing.csv\n"
     ]
    }
   ],
   "source": [
    "# === Setup salida CSV + validaciones ===\n",
    "CHUNK        = 30_000            # filas por chunk (RAM estable)\n",
    "BATCH_INFER  = 512               # tamaño de lote para el modelo\n",
    "MILESTONE    = 30_000            # aviso cada 30k procesadas\n",
    "\n",
    "# Validaciones (evita NameError a mitad de camino)\n",
    "required = [\"PATH_FULL\",\"clean_text\",\"rule_classifier\",\"LABELS\",\"MAX_LEN\",\"UMBRAL_PROBA\",\"UMBRAL_MARGEN\"]\n",
    "missing = [v for v in required if v not in globals()]\n",
    "assert not missing, f\"Faltan variables/funciones: {missing}\"\n",
    "assert \"tokenizer\" in globals(), \"Falta 'tokenizer' (cargalo desde ../models/tf_distilmbert_stance_export)\"\n",
    "assert \"model\" in globals(), \"Falta 'model' (cargalo desde ../models/tf_distilmbert_stance_export)\"\n",
    "\n",
    "# Si existe un CSV previo, lo borro para escribir encabezado una sola vez\n",
    "if os.path.exists(OUT_FULL):\n",
    "    os.remove(OUT_FULL)\n",
    "\n",
    "print(\"Salida CSV:\", OUT_FULL)\n"
   ]
  },
  {
   "cell_type": "code",
   "execution_count": null,
   "id": "55f057fa",
   "metadata": {},
   "outputs": [],
   "source": [
    "\n",
    "# #Version 1, ahorrando ram\n",
    "# def batched(iterable, n):\n",
    "#     for i in range(0, len(iterable), n):\n",
    "#         yield iterable[i:i+n]\n",
    "\n",
    "# def infer_chunk_to_df(df_chunk: pd.DataFrame) -> pd.DataFrame:\n",
    "#     # Normalización\n",
    "#     df_chunk[\"comment\"] = df_chunk[\"comment\"].astype(str)\n",
    "#     df_chunk[\"condiciones_cuenta\"] = df_chunk[\"condiciones_cuenta\"].astype(str).str.strip().str.lower()\n",
    "#     df_chunk[\"comment_clean\"] = df_chunk[\"comment\"].apply(clean_text)\n",
    "#     df_chunk[\"text_with_ctx\"] = ((\"[canal:\"+df_chunk[\"condiciones_cuenta\"]+\"] \") + df_chunk[\"comment_clean\"]).str.strip()\n",
    "\n",
    "#     # Reglas primero\n",
    "#     df_chunk[\"label_rule\"] = None\n",
    "#     df_chunk[\"regla_aplicada\"] = None\n",
    "#     for i in range(len(df_chunk)):\n",
    "#         lab, rname = rule_classifier(df_chunk.iloc[i])\n",
    "#         df_chunk.iat[i, df_chunk.columns.get_loc(\"label_rule\")] = lab\n",
    "#         df_chunk.iat[i, df_chunk.columns.get_loc(\"regla_aplicada\")] = rname\n",
    "\n",
    "#     is_rule = df_chunk[\"label_rule\"].isin(LABELS)\n",
    "#     to_pred_mask = ~is_rule\n",
    "\n",
    "#     # Inferencia NN en lotes (solo filas sin regla)\n",
    "#     idxs  = df_chunk.loc[to_pred_mask].index.tolist()\n",
    "#     texts = df_chunk.loc[to_pred_mask, \"text_with_ctx\"].tolist()\n",
    "\n",
    "#     top1_lab_all, pmax_all, marg_all, entr_all = [], [], [], []\n",
    "#     for chunk_txt in batched(texts, BATCH_INFER):\n",
    "#         enc = tokenizer(chunk_txt, truncation=True, padding=True, max_length=MAX_LEN, return_tensors=\"tf\")\n",
    "#         out = model(enc, training=False)\n",
    "#         logits_np = out.logits.numpy() if hasattr(out, \"logits\") else out.numpy()\n",
    "#         probas = tf.nn.softmax(logits_np, axis=1).numpy()\n",
    "\n",
    "#         top1_idx = probas.argmax(axis=1)\n",
    "#         top1_lab = np.array(LABELS)[top1_idx]\n",
    "#         top1_p   = probas[np.arange(probas.shape[0]), top1_idx]\n",
    "#         sorted_p = -np.sort(-probas, axis=1)\n",
    "#         marg     = sorted_p[:, 0] - sorted_p[:, 1]\n",
    "#         entropy  = -(probas * (np.log(probas + 1e-12))).sum(axis=1)\n",
    "\n",
    "#         top1_lab_all.append(top1_lab)\n",
    "#         pmax_all.append(top1_p)\n",
    "#         marg_all.append(marg)\n",
    "#         entr_all.append(entropy)\n",
    "\n",
    "#     if len(top1_lab_all):\n",
    "#         df_chunk.loc[idxs, \"label_ml\"]     = np.concatenate(top1_lab_all)\n",
    "#         df_chunk.loc[idxs, \"ml_proba_max\"] = np.concatenate(pmax_all)\n",
    "#         df_chunk.loc[idxs, \"ml_margen\"]    = np.concatenate(marg_all)\n",
    "#         df_chunk.loc[idxs, \"ml_entropia\"]  = np.concatenate(entr_all)\n",
    "#     else:\n",
    "#         df_chunk[\"label_ml\"]     = np.nan\n",
    "#         df_chunk[\"ml_proba_max\"] = np.nan\n",
    "#         df_chunk[\"ml_margen\"]    = np.nan\n",
    "#         df_chunk[\"ml_entropia\"]  = np.nan\n",
    "\n",
    "#     # Decisión final con abstención\n",
    "#     dec_lab, dec_src = [], []\n",
    "#     for lab, pmax, mg in zip(\n",
    "#         df_chunk[\"label_ml\"].fillna(\"\"),\n",
    "#         df_chunk[\"ml_proba_max\"].fillna(0.0),\n",
    "#         df_chunk[\"ml_margen\"].fillna(0.0),\n",
    "#     ):\n",
    "#         if (pmax >= UMBRAL_PROBA) and (mg >= UMBRAL_MARGEN):\n",
    "#             dec_lab.append(lab); dec_src.append(\"automatica-nn-tf\")\n",
    "#         else:\n",
    "#             dec_lab.append(\"\");  dec_src.append(\"sin-clasificar\")\n",
    "#     df_chunk[\"label_final\"] = dec_lab\n",
    "#     df_chunk[\"clasificacion_origen\"] = dec_src\n",
    "\n",
    "#     # Reglas tienen prioridad\n",
    "#     df_chunk.loc[is_rule, \"label_final\"] = df_chunk.loc[is_rule, \"label_rule\"]\n",
    "#     df_chunk.loc[is_rule, \"clasificacion_origen\"] = \"regla\"\n",
    "\n",
    "#     return df_chunk\n",
    "\n",
    "# # --- Bucle por chunks a CSV con logs cada 30k ---\n",
    "# first = True\n",
    "# processed = 0\n",
    "# next_milestone = MILESTONE\n",
    "\n",
    "# for df_part in pd.read_csv(PATH_FULL, chunksize=CHUNK):\n",
    "#     df_out = infer_chunk_to_df(df_part)\n",
    "\n",
    "#     df_out.to_csv(\n",
    "#         OUT_FULL,\n",
    "#         mode=\"w\" if first else \"a\",\n",
    "#         header=first,\n",
    "#         index=False,\n",
    "#         encoding=\"utf-8-sig\",\n",
    "#         lineterminator=\"\\n\"\n",
    "#     )\n",
    "#     first = False\n",
    "\n",
    "#     processed += len(df_part)\n",
    "#     if processed >= next_milestone:\n",
    "#         print(f\"Progreso: {processed:,} filas procesadas y guardadas en CSV\")\n",
    "#         next_milestone += MILESTONE\n",
    "\n",
    "# print(f\"Inferencia terminada → {OUT_FULL}\")"
   ]
  },
  {
   "cell_type": "code",
   "execution_count": 33,
   "id": "1f050772",
   "metadata": {},
   "outputs": [
    {
     "name": "stdout",
     "output_type": "stream",
     "text": [
      "\n",
      "== Inferencia en lote con reglas + NN + abstención ==\n",
      "\n",
      "== Origen de clasificación (full) ==\n",
      "clasificacion_origen\n",
      "automatica-nn-tf    91067\n",
      "regla               14016\n",
      "sin-clasificar       8500\n",
      "Name: count, dtype: int64\n",
      "\n",
      "== Distribución label_final (full, incluye vacíos) ==\n",
      "label_final\n",
      "ruso         76350\n",
      "neutro       14559\n",
      "ucraniano    14174\n",
      "              8500\n",
      "Name: count, dtype: int64\n"
     ]
    },
    {
     "ename": "ValueError",
     "evalue": "No engine for filetype: 'csv'",
     "output_type": "error",
     "traceback": [
      "\u001b[31m---------------------------------------------------------------------------\u001b[39m",
      "\u001b[31mOptionError\u001b[39m                               Traceback (most recent call last)",
      "\u001b[36mFile \u001b[39m\u001b[32mc:\\Users\\User\\Desktop\\Facu\\Master_Espana\\Master_UEMC\\TFM\\codigo\\analisis_guerra_ucrania_youtube\\.venv\\Lib\\site-packages\\pandas\\io\\excel\\_base.py:1136\u001b[39m, in \u001b[36mExcelWriter.__new__\u001b[39m\u001b[34m(cls, path, engine, date_format, datetime_format, mode, storage_options, if_sheet_exists, engine_kwargs)\u001b[39m\n\u001b[32m   1135\u001b[39m \u001b[38;5;28;01mtry\u001b[39;00m:\n\u001b[32m-> \u001b[39m\u001b[32m1136\u001b[39m     engine = \u001b[43mconfig\u001b[49m\u001b[43m.\u001b[49m\u001b[43mget_option\u001b[49m\u001b[43m(\u001b[49m\u001b[33;43mf\u001b[39;49m\u001b[33;43m\"\u001b[39;49m\u001b[33;43mio.excel.\u001b[39;49m\u001b[38;5;132;43;01m{\u001b[39;49;00m\u001b[43mext\u001b[49m\u001b[38;5;132;43;01m}\u001b[39;49;00m\u001b[33;43m.writer\u001b[39;49m\u001b[33;43m\"\u001b[39;49m\u001b[43m,\u001b[49m\u001b[43m \u001b[49m\u001b[43msilent\u001b[49m\u001b[43m=\u001b[49m\u001b[38;5;28;43;01mTrue\u001b[39;49;00m\u001b[43m)\u001b[49m\n\u001b[32m   1137\u001b[39m     \u001b[38;5;28;01mif\u001b[39;00m engine == \u001b[33m\"\u001b[39m\u001b[33mauto\u001b[39m\u001b[33m\"\u001b[39m:\n",
      "\u001b[36mFile \u001b[39m\u001b[32mc:\\Users\\User\\Desktop\\Facu\\Master_Espana\\Master_UEMC\\TFM\\codigo\\analisis_guerra_ucrania_youtube\\.venv\\Lib\\site-packages\\pandas\\_config\\config.py:274\u001b[39m, in \u001b[36mCallableDynamicDoc.__call__\u001b[39m\u001b[34m(self, *args, **kwds)\u001b[39m\n\u001b[32m    273\u001b[39m \u001b[38;5;28;01mdef\u001b[39;00m\u001b[38;5;250m \u001b[39m\u001b[34m__call__\u001b[39m(\u001b[38;5;28mself\u001b[39m, *args, **kwds) -> T:\n\u001b[32m--> \u001b[39m\u001b[32m274\u001b[39m     \u001b[38;5;28;01mreturn\u001b[39;00m \u001b[38;5;28;43mself\u001b[39;49m\u001b[43m.\u001b[49m\u001b[34;43m__func__\u001b[39;49m\u001b[43m(\u001b[49m\u001b[43m*\u001b[49m\u001b[43margs\u001b[49m\u001b[43m,\u001b[49m\u001b[43m \u001b[49m\u001b[43m*\u001b[49m\u001b[43m*\u001b[49m\u001b[43mkwds\u001b[49m\u001b[43m)\u001b[49m\n",
      "\u001b[36mFile \u001b[39m\u001b[32mc:\\Users\\User\\Desktop\\Facu\\Master_Espana\\Master_UEMC\\TFM\\codigo\\analisis_guerra_ucrania_youtube\\.venv\\Lib\\site-packages\\pandas\\_config\\config.py:146\u001b[39m, in \u001b[36m_get_option\u001b[39m\u001b[34m(pat, silent)\u001b[39m\n\u001b[32m    145\u001b[39m \u001b[38;5;28;01mdef\u001b[39;00m\u001b[38;5;250m \u001b[39m\u001b[34m_get_option\u001b[39m(pat: \u001b[38;5;28mstr\u001b[39m, silent: \u001b[38;5;28mbool\u001b[39m = \u001b[38;5;28;01mFalse\u001b[39;00m) -> Any:\n\u001b[32m--> \u001b[39m\u001b[32m146\u001b[39m     key = \u001b[43m_get_single_key\u001b[49m\u001b[43m(\u001b[49m\u001b[43mpat\u001b[49m\u001b[43m,\u001b[49m\u001b[43m \u001b[49m\u001b[43msilent\u001b[49m\u001b[43m)\u001b[49m\n\u001b[32m    148\u001b[39m     \u001b[38;5;66;03m# walk the nested dict\u001b[39;00m\n",
      "\u001b[36mFile \u001b[39m\u001b[32mc:\\Users\\User\\Desktop\\Facu\\Master_Espana\\Master_UEMC\\TFM\\codigo\\analisis_guerra_ucrania_youtube\\.venv\\Lib\\site-packages\\pandas\\_config\\config.py:132\u001b[39m, in \u001b[36m_get_single_key\u001b[39m\u001b[34m(pat, silent)\u001b[39m\n\u001b[32m    131\u001b[39m         _warn_if_deprecated(pat)\n\u001b[32m--> \u001b[39m\u001b[32m132\u001b[39m     \u001b[38;5;28;01mraise\u001b[39;00m OptionError(\u001b[33mf\u001b[39m\u001b[33m\"\u001b[39m\u001b[33mNo such keys(s): \u001b[39m\u001b[38;5;132;01m{\u001b[39;00m\u001b[38;5;28mrepr\u001b[39m(pat)\u001b[38;5;132;01m}\u001b[39;00m\u001b[33m\"\u001b[39m)\n\u001b[32m    133\u001b[39m \u001b[38;5;28;01mif\u001b[39;00m \u001b[38;5;28mlen\u001b[39m(keys) > \u001b[32m1\u001b[39m:\n",
      "\u001b[31mOptionError\u001b[39m: No such keys(s): 'io.excel.csv.writer'",
      "\nThe above exception was the direct cause of the following exception:\n",
      "\u001b[31mValueError\u001b[39m                                Traceback (most recent call last)",
      "\u001b[36mCell\u001b[39m\u001b[36m \u001b[39m\u001b[32mIn[33]\u001b[39m\u001b[32m, line 88\u001b[39m\n\u001b[32m     84\u001b[39m     \u001b[38;5;28mprint\u001b[39m(df_full[\u001b[33m\"\u001b[39m\u001b[33mlabel_final\u001b[39m\u001b[33m\"\u001b[39m].value_counts(dropna=\u001b[38;5;28;01mFalse\u001b[39;00m))\n\u001b[32m     86\u001b[39m     \u001b[38;5;66;03m# 4.5 Export\u001b[39;00m\n\u001b[32m---> \u001b[39m\u001b[32m88\u001b[39m     \u001b[43mdf_full\u001b[49m\u001b[43m.\u001b[49m\u001b[43mto_excel\u001b[49m\u001b[43m(\u001b[49m\u001b[43mOUT_FULL\u001b[49m\u001b[43m,\u001b[49m\u001b[43m \u001b[49m\u001b[43mindex\u001b[49m\u001b[43m=\u001b[49m\u001b[38;5;28;43;01mFalse\u001b[39;49;00m\u001b[43m)\u001b[49m\n\u001b[32m     89\u001b[39m     \u001b[38;5;28mprint\u001b[39m(\u001b[33mf\u001b[39m\u001b[33m\"\u001b[39m\u001b[38;5;130;01m\\n\u001b[39;00m\u001b[33m✅ Guardado: \u001b[39m\u001b[38;5;132;01m{\u001b[39;00mOUT_FULL\u001b[38;5;132;01m}\u001b[39;00m\u001b[33m\"\u001b[39m)\n\u001b[32m     91\u001b[39m \u001b[38;5;28;01mexcept\u001b[39;00m \u001b[38;5;167;01mNameError\u001b[39;00m \u001b[38;5;28;01mas\u001b[39;00m e:\n",
      "\u001b[36mFile \u001b[39m\u001b[32mc:\\Users\\User\\Desktop\\Facu\\Master_Espana\\Master_UEMC\\TFM\\codigo\\analisis_guerra_ucrania_youtube\\.venv\\Lib\\site-packages\\pandas\\util\\_decorators.py:333\u001b[39m, in \u001b[36mdeprecate_nonkeyword_arguments.<locals>.decorate.<locals>.wrapper\u001b[39m\u001b[34m(*args, **kwargs)\u001b[39m\n\u001b[32m    327\u001b[39m \u001b[38;5;28;01mif\u001b[39;00m \u001b[38;5;28mlen\u001b[39m(args) > num_allow_args:\n\u001b[32m    328\u001b[39m     warnings.warn(\n\u001b[32m    329\u001b[39m         msg.format(arguments=_format_argument_list(allow_args)),\n\u001b[32m    330\u001b[39m         \u001b[38;5;167;01mFutureWarning\u001b[39;00m,\n\u001b[32m    331\u001b[39m         stacklevel=find_stack_level(),\n\u001b[32m    332\u001b[39m     )\n\u001b[32m--> \u001b[39m\u001b[32m333\u001b[39m \u001b[38;5;28;01mreturn\u001b[39;00m \u001b[43mfunc\u001b[49m\u001b[43m(\u001b[49m\u001b[43m*\u001b[49m\u001b[43margs\u001b[49m\u001b[43m,\u001b[49m\u001b[43m \u001b[49m\u001b[43m*\u001b[49m\u001b[43m*\u001b[49m\u001b[43mkwargs\u001b[49m\u001b[43m)\u001b[49m\n",
      "\u001b[36mFile \u001b[39m\u001b[32mc:\\Users\\User\\Desktop\\Facu\\Master_Espana\\Master_UEMC\\TFM\\codigo\\analisis_guerra_ucrania_youtube\\.venv\\Lib\\site-packages\\pandas\\core\\generic.py:2417\u001b[39m, in \u001b[36mNDFrame.to_excel\u001b[39m\u001b[34m(self, excel_writer, sheet_name, na_rep, float_format, columns, header, index, index_label, startrow, startcol, engine, merge_cells, inf_rep, freeze_panes, storage_options, engine_kwargs)\u001b[39m\n\u001b[32m   2404\u001b[39m \u001b[38;5;28;01mfrom\u001b[39;00m\u001b[38;5;250m \u001b[39m\u001b[34;01mpandas\u001b[39;00m\u001b[34;01m.\u001b[39;00m\u001b[34;01mio\u001b[39;00m\u001b[34;01m.\u001b[39;00m\u001b[34;01mformats\u001b[39;00m\u001b[34;01m.\u001b[39;00m\u001b[34;01mexcel\u001b[39;00m\u001b[38;5;250m \u001b[39m\u001b[38;5;28;01mimport\u001b[39;00m ExcelFormatter\n\u001b[32m   2406\u001b[39m formatter = ExcelFormatter(\n\u001b[32m   2407\u001b[39m     df,\n\u001b[32m   2408\u001b[39m     na_rep=na_rep,\n\u001b[32m   (...)\u001b[39m\u001b[32m   2415\u001b[39m     inf_rep=inf_rep,\n\u001b[32m   2416\u001b[39m )\n\u001b[32m-> \u001b[39m\u001b[32m2417\u001b[39m \u001b[43mformatter\u001b[49m\u001b[43m.\u001b[49m\u001b[43mwrite\u001b[49m\u001b[43m(\u001b[49m\n\u001b[32m   2418\u001b[39m \u001b[43m    \u001b[49m\u001b[43mexcel_writer\u001b[49m\u001b[43m,\u001b[49m\n\u001b[32m   2419\u001b[39m \u001b[43m    \u001b[49m\u001b[43msheet_name\u001b[49m\u001b[43m=\u001b[49m\u001b[43msheet_name\u001b[49m\u001b[43m,\u001b[49m\n\u001b[32m   2420\u001b[39m \u001b[43m    \u001b[49m\u001b[43mstartrow\u001b[49m\u001b[43m=\u001b[49m\u001b[43mstartrow\u001b[49m\u001b[43m,\u001b[49m\n\u001b[32m   2421\u001b[39m \u001b[43m    \u001b[49m\u001b[43mstartcol\u001b[49m\u001b[43m=\u001b[49m\u001b[43mstartcol\u001b[49m\u001b[43m,\u001b[49m\n\u001b[32m   2422\u001b[39m \u001b[43m    \u001b[49m\u001b[43mfreeze_panes\u001b[49m\u001b[43m=\u001b[49m\u001b[43mfreeze_panes\u001b[49m\u001b[43m,\u001b[49m\n\u001b[32m   2423\u001b[39m \u001b[43m    \u001b[49m\u001b[43mengine\u001b[49m\u001b[43m=\u001b[49m\u001b[43mengine\u001b[49m\u001b[43m,\u001b[49m\n\u001b[32m   2424\u001b[39m \u001b[43m    \u001b[49m\u001b[43mstorage_options\u001b[49m\u001b[43m=\u001b[49m\u001b[43mstorage_options\u001b[49m\u001b[43m,\u001b[49m\n\u001b[32m   2425\u001b[39m \u001b[43m    \u001b[49m\u001b[43mengine_kwargs\u001b[49m\u001b[43m=\u001b[49m\u001b[43mengine_kwargs\u001b[49m\u001b[43m,\u001b[49m\n\u001b[32m   2426\u001b[39m \u001b[43m\u001b[49m\u001b[43m)\u001b[49m\n",
      "\u001b[36mFile \u001b[39m\u001b[32mc:\\Users\\User\\Desktop\\Facu\\Master_Espana\\Master_UEMC\\TFM\\codigo\\analisis_guerra_ucrania_youtube\\.venv\\Lib\\site-packages\\pandas\\io\\formats\\excel.py:943\u001b[39m, in \u001b[36mExcelFormatter.write\u001b[39m\u001b[34m(self, writer, sheet_name, startrow, startcol, freeze_panes, engine, storage_options, engine_kwargs)\u001b[39m\n\u001b[32m    941\u001b[39m     need_save = \u001b[38;5;28;01mFalse\u001b[39;00m\n\u001b[32m    942\u001b[39m \u001b[38;5;28;01melse\u001b[39;00m:\n\u001b[32m--> \u001b[39m\u001b[32m943\u001b[39m     writer = \u001b[43mExcelWriter\u001b[49m\u001b[43m(\u001b[49m\n\u001b[32m    944\u001b[39m \u001b[43m        \u001b[49m\u001b[43mwriter\u001b[49m\u001b[43m,\u001b[49m\n\u001b[32m    945\u001b[39m \u001b[43m        \u001b[49m\u001b[43mengine\u001b[49m\u001b[43m=\u001b[49m\u001b[43mengine\u001b[49m\u001b[43m,\u001b[49m\n\u001b[32m    946\u001b[39m \u001b[43m        \u001b[49m\u001b[43mstorage_options\u001b[49m\u001b[43m=\u001b[49m\u001b[43mstorage_options\u001b[49m\u001b[43m,\u001b[49m\n\u001b[32m    947\u001b[39m \u001b[43m        \u001b[49m\u001b[43mengine_kwargs\u001b[49m\u001b[43m=\u001b[49m\u001b[43mengine_kwargs\u001b[49m\u001b[43m,\u001b[49m\n\u001b[32m    948\u001b[39m \u001b[43m    \u001b[49m\u001b[43m)\u001b[49m\n\u001b[32m    949\u001b[39m     need_save = \u001b[38;5;28;01mTrue\u001b[39;00m\n\u001b[32m    951\u001b[39m \u001b[38;5;28;01mtry\u001b[39;00m:\n",
      "\u001b[36mFile \u001b[39m\u001b[32mc:\\Users\\User\\Desktop\\Facu\\Master_Espana\\Master_UEMC\\TFM\\codigo\\analisis_guerra_ucrania_youtube\\.venv\\Lib\\site-packages\\pandas\\io\\excel\\_base.py:1140\u001b[39m, in \u001b[36mExcelWriter.__new__\u001b[39m\u001b[34m(cls, path, engine, date_format, datetime_format, mode, storage_options, if_sheet_exists, engine_kwargs)\u001b[39m\n\u001b[32m   1138\u001b[39m             engine = get_default_engine(ext, mode=\u001b[33m\"\u001b[39m\u001b[33mwriter\u001b[39m\u001b[33m\"\u001b[39m)\n\u001b[32m   1139\u001b[39m     \u001b[38;5;28;01mexcept\u001b[39;00m \u001b[38;5;167;01mKeyError\u001b[39;00m \u001b[38;5;28;01mas\u001b[39;00m err:\n\u001b[32m-> \u001b[39m\u001b[32m1140\u001b[39m         \u001b[38;5;28;01mraise\u001b[39;00m \u001b[38;5;167;01mValueError\u001b[39;00m(\u001b[33mf\u001b[39m\u001b[33m\"\u001b[39m\u001b[33mNo engine for filetype: \u001b[39m\u001b[33m'\u001b[39m\u001b[38;5;132;01m{\u001b[39;00mext\u001b[38;5;132;01m}\u001b[39;00m\u001b[33m'\u001b[39m\u001b[33m\"\u001b[39m) \u001b[38;5;28;01mfrom\u001b[39;00m\u001b[38;5;250m \u001b[39m\u001b[34;01merr\u001b[39;00m\n\u001b[32m   1142\u001b[39m \u001b[38;5;66;03m# for mypy\u001b[39;00m\n\u001b[32m   1143\u001b[39m \u001b[38;5;28;01massert\u001b[39;00m engine \u001b[38;5;129;01mis\u001b[39;00m \u001b[38;5;129;01mnot\u001b[39;00m \u001b[38;5;28;01mNone\u001b[39;00m\n",
      "\u001b[31mValueError\u001b[39m: No engine for filetype: 'csv'"
     ]
    }
   ],
   "source": [
    "#Deprectado: inferencia en un solo paso (carga todo en RAM)\n",
    "try:\n",
    "    print(\"\\n== Inferencia en lote con reglas + NN + abstención ==\")\n",
    "    df_full = pd.read_csv(PATH_FULL)\n",
    "    df_full[\"comment\"] = df_full[\"comment\"].astype(str)\n",
    "    df_full[\"condiciones_cuenta\"] = df_full[\"condiciones_cuenta\"].astype(str).str.strip().str.lower()\n",
    "\n",
    "    # Limpieza + contexto (ajusta clean_text si lo deseas más agresivo)\n",
    "    df_full[\"comment_clean\"] = df_full[\"comment\"].apply(clean_text)\n",
    "    df_full[\"text_with_ctx\"] = ((\"[canal:\"+df_full[\"condiciones_cuenta\"]+\"] \") + df_full[\"comment_clean\"]).str.strip()\n",
    "\n",
    "    # 4.1 Reglas primero\n",
    "    df_full[\"label_rule\"] = None\n",
    "    df_full[\"regla_aplicada\"] = None\n",
    "    for i in range(len(df_full)):\n",
    "        lab, rname = rule_classifier(df_full.iloc[i])\n",
    "        df_full.iat[i, df_full.columns.get_loc(\"label_rule\")] = lab\n",
    "        df_full.iat[i, df_full.columns.get_loc(\"regla_aplicada\")] = rname\n",
    "\n",
    "    is_rule = df_full[\"label_rule\"].isin(LABELS)\n",
    "    to_pred_mask = ~is_rule\n",
    "\n",
    "    # 4.2 Inferencia por lotes con TF\n",
    "    BATCH_INFER = 512\n",
    "    texts = df_full.loc[to_pred_mask, \"text_with_ctx\"].tolist()\n",
    "    idxs  = df_full.loc[to_pred_mask].index.tolist()\n",
    "\n",
    "    top1_lab_all, pmax_all, marg_all, entr_all = [], [], [], []\n",
    "\n",
    "    def batched(iterable, n):\n",
    "        for i in range(0, len(iterable), n):\n",
    "            yield iterable[i:i+n]\n",
    "\n",
    "    for chunk in batched(texts, BATCH_INFER):\n",
    "        enc = tokenizer(chunk, truncation=True, padding=True, max_length=MAX_LEN, return_tensors=\"tf\")\n",
    "        out = model(enc, training=False)\n",
    "        logits_np = out.logits.numpy() if hasattr(out, \"logits\") else out.numpy()\n",
    "        probas = tf.nn.softmax(logits_np, axis=1).numpy()\n",
    "\n",
    "        top1_idx = probas.argmax(axis=1)\n",
    "        top1_lab = np.array(LABELS)[top1_idx]\n",
    "        top1_p = probas[np.arange(probas.shape[0]), top1_idx]\n",
    "\n",
    "        sorted_p = -np.sort(-probas, axis=1)\n",
    "        marg = sorted_p[:,0] - sorted_p[:,1]\n",
    "        entropy = -(probas * (np.log(probas + 1e-12))).sum(axis=1)  # opcional para análisis\n",
    "\n",
    "        top1_lab_all.append(top1_lab)\n",
    "        pmax_all.append(top1_p)\n",
    "        marg_all.append(marg)\n",
    "        entr_all.append(entropy)\n",
    "\n",
    "    if len(top1_lab_all) > 0:\n",
    "        top1_lab_all = np.concatenate(top1_lab_all)\n",
    "        pmax_all     = np.concatenate(pmax_all)\n",
    "        marg_all     = np.concatenate(marg_all)\n",
    "        entr_all     = np.concatenate(entr_all)\n",
    "    else:\n",
    "        top1_lab_all = np.array([]); pmax_all = np.array([]); marg_all = np.array([]); entr_all = np.array([])\n",
    "\n",
    "    df_full.loc[idxs, \"label_ml\"] = top1_lab_all\n",
    "    df_full.loc[idxs, \"ml_proba_max\"] = pmax_all\n",
    "    df_full.loc[idxs, \"ml_margen\"] = marg_all\n",
    "    df_full.loc[idxs, \"ml_entropia\"] = entr_all\n",
    "\n",
    "    # 4.3 Decisión final con abstención (NN)\n",
    "    dec_lab = []\n",
    "    dec_src = []\n",
    "    for lab, pmax, mg in zip(top1_lab_all, pmax_all, marg_all):\n",
    "        if (pmax >= UMBRAL_PROBA) and (mg >= UMBRAL_MARGEN):\n",
    "            dec_lab.append(lab); dec_src.append(\"automatica-nn-tf\")\n",
    "        else:\n",
    "            dec_lab.append(\"\");  dec_src.append(\"sin-clasificar\")\n",
    "    df_full.loc[idxs, \"label_final\"] = dec_lab\n",
    "    df_full.loc[idxs, \"clasificacion_origen\"] = dec_src\n",
    "\n",
    "    # 4.4 Reglas tienen prioridad\n",
    "    df_full.loc[is_rule, \"label_final\"] = df_full.loc[is_rule, \"label_rule\"]\n",
    "    df_full.loc[is_rule, \"clasificacion_origen\"] = \"regla\"\n",
    "\n",
    "    print(\"\\n== Origen de clasificación (full) ==\")\n",
    "    print(df_full[\"clasificacion_origen\"].value_counts(dropna=False))\n",
    "    print(\"\\n== Distribución label_final (full, incluye vacíos) ==\")\n",
    "    print(df_full[\"label_final\"].value_counts(dropna=False))\n",
    "\n",
    "    # 4.5 Export\n",
    "    \n",
    "    df_full.to_csv(OUT_FULL, index=False)\n",
    "    print(f\"Guardado: {OUT_FULL}\")\n",
    "\n",
    "except NameError as e:\n",
    "    print(\"Saltando inferencia en lote: falta una variable o función requerida.\", e)\n",
    "    print(\"Requiere: PATH_FULL, clean_text, rule_classifier, LABELS, tokenizer, MAX_LEN.\")"
   ]
  },
  {
   "cell_type": "markdown",
   "id": "4aa56b6c",
   "metadata": {},
   "source": [
    "## Verificacion"
   ]
  },
  {
   "cell_type": "code",
   "execution_count": 46,
   "id": "2d4e8c94",
   "metadata": {},
   "outputs": [],
   "source": [
    "# 1) Asegura logits de validación\n",
    "try:\n",
    "    _ = logits.shape  # ¿ya existen los logits de validación?\n",
    "    # Si existen, seguimos\n",
    "except:\n",
    "    # Recalcula logits en validación (sin sample_weight para predecir)\n",
    "    val_ds_no_sw = tf.data.Dataset.from_tensor_slices((enc_va, yva)) \\\n",
    "        .batch(BATCH_VAL).prefetch(tf.data.AUTOTUNE)\n",
    "    out = model.predict(\n",
    "        val_ds_no_sw.map(lambda enc, y: ({k: enc[k] for k in [\"input_ids\",\"attention_mask\"]}, y)),\n",
    "        verbose=0\n",
    "    )\n",
    "    logits = out.logits if hasattr(out, \"logits\") else out  # compat\n"
   ]
  },
  {
   "cell_type": "code",
   "execution_count": 47,
   "id": "be9f9d54",
   "metadata": {},
   "outputs": [],
   "source": [
    "\n",
    "# 2) Probabilidades y predicciones base\n",
    "probas = softmax(logits, axis=1)\n",
    "pmax = probas.max(axis=1)\n",
    "# margen = p_top1 - p_top2\n",
    "sorted_p = -np.sort(-probas, axis=1)\n",
    "marg = sorted_p[:, 0] - sorted_p[:, 1]\n",
    "y_pred = probas.argmax(axis=1)\n"
   ]
  },
  {
   "cell_type": "code",
   "execution_count": 48,
   "id": "2b36881b",
   "metadata": {},
   "outputs": [
    {
     "name": "stdout",
     "output_type": "stream",
     "text": [
      "\n",
      "=== Sweep de umbrales (top-10 por F1_macro) ===\n",
      " th_p  th_m  coverage  f1_macro      acc   n\n",
      " 0.70  0.10  0.886210  0.757406 0.869423 919\n",
      " 0.70  0.15  0.886210  0.757406 0.869423 919\n",
      " 0.70  0.20  0.886210  0.757406 0.869423 919\n",
      " 0.70  0.25  0.886210  0.757406 0.869423 919\n",
      " 0.65  0.10  0.907425  0.749297 0.862912 941\n",
      " 0.65  0.15  0.907425  0.749297 0.862912 941\n",
      " 0.65  0.20  0.907425  0.749297 0.862912 941\n",
      " 0.65  0.25  0.907425  0.749297 0.862912 941\n",
      " 0.60  0.25  0.931533  0.738651 0.850932 966\n",
      " 0.60  0.10  0.932498  0.737484 0.850052 967\n",
      "\n",
      "Sugerencia de umbral (equilibrado): {'th_p': 0.7, 'th_m': 0.1, 'coverage': 0.8862102217936355, 'f1_macro': 0.7574057575141531, 'acc': 0.8694232861806311, 'n': 919.0}\n"
     ]
    }
   ],
   "source": [
    "\n",
    "# 3) Sweep de umbrales (probabilidad y margen)\n",
    "def sweep(th_p=(0.50,0.55,0.60,0.65,0.70), th_m=(0.10,0.15,0.20,0.25)):\n",
    "    rows=[]\n",
    "    for tp in th_p:\n",
    "        for tm in th_m:\n",
    "            mask = (pmax >= tp) & (marg >= tm)\n",
    "            cov = float(mask.mean())\n",
    "            if mask.sum() > 0:\n",
    "                f1m = f1_score(yva[mask], y_pred[mask], average=\"macro\")\n",
    "                acc = accuracy_score(yva[mask], y_pred[mask])\n",
    "            else:\n",
    "                f1m, acc = np.nan, np.nan\n",
    "            rows.append({\"th_p\": tp, \"th_m\": tm, \"coverage\": cov, \"f1_macro\": f1m, \"acc\": acc, \"n\": int(mask.sum())})\n",
    "    return pd.DataFrame(rows).sort_values([\"f1_macro\",\"coverage\"], ascending=[False,False])\n",
    "\n",
    "df_sweep = sweep()\n",
    "print(\"\\n=== Sweep de umbrales (top-10 por F1_macro) ===\")\n",
    "print(df_sweep.head(10).to_string(index=False))\n",
    "\n",
    "# (Opcional) sugerencia automática de umbral “equilibrado”\n",
    "candidatos = df_sweep.query(\"coverage >= 0.6\")  # exige cubrir ≥60% como ejemplo\n",
    "if len(candidatos):\n",
    "    sugerido = candidatos.iloc[0].to_dict()\n",
    "else:\n",
    "    sugerido = df_sweep.iloc[0].to_dict()\n",
    "print(\"\\nSugerencia de umbral (equilibrado):\", sugerido)"
   ]
  },
  {
   "cell_type": "markdown",
   "id": "5eef14bb",
   "metadata": {},
   "source": [
    "## Post-analisis"
   ]
  },
  {
   "cell_type": "code",
   "execution_count": 49,
   "id": "f122f6eb",
   "metadata": {},
   "outputs": [
    {
     "name": "stdout",
     "output_type": "stream",
     "text": [
      "label_final           neutro   ruso  ucraniano   NaN\n",
      "clasificacion_origen                                \n",
      "automatica-nn-tf       12387  69269       9411     0\n",
      "regla                   2172   7081       4763     0\n",
      "sin-clasificar             0      0          0  8500\n"
     ]
    }
   ],
   "source": [
    "df = pd.read_csv(OUT_FULL)\n",
    "print(pd.crosstab(df[\"clasificacion_origen\"], df[\"label_final\"], dropna=False))\n"
   ]
  },
  {
   "cell_type": "code",
   "execution_count": 50,
   "id": "cf5e3f92",
   "metadata": {},
   "outputs": [
    {
     "name": "stdout",
     "output_type": "stream",
     "text": [
      "<class 'pandas.core.frame.DataFrame'>\n",
      "RangeIndex: 113583 entries, 0 to 113582\n",
      "Data columns (total 37 columns):\n",
      " #   Column                       Non-Null Count   Dtype  \n",
      "---  ------                       --------------   -----  \n",
      " 0   comment_id                   113583 non-null  object \n",
      " 1   comment                      113583 non-null  object \n",
      " 2   comment_text_length          113583 non-null  int64  \n",
      " 3   user_id                      113583 non-null  object \n",
      " 4   user_name                    113583 non-null  object \n",
      " 5   comment_time                 113583 non-null  object \n",
      " 6   comment_likes                113583 non-null  int64  \n",
      " 7   total_reply_count            113583 non-null  int64  \n",
      " 8   is_top_level_comment         113583 non-null  bool   \n",
      " 9   video_title                  113583 non-null  object \n",
      " 10  channel_title                113583 non-null  object \n",
      " 11  video_published_at           113583 non-null  object \n",
      " 12  video_views                  113583 non-null  int64  \n",
      " 13  video_likes                  113583 non-null  int64  \n",
      " 14  video_duration               113583 non-null  float64\n",
      " 15  video_tags                   113583 non-null  object \n",
      " 16  video_category_id            113583 non-null  int64  \n",
      " 17  relacion_evento              113583 non-null  object \n",
      " 18  evento                       113583 non-null  object \n",
      " 19  tipo_evento                  113583 non-null  object \n",
      " 20  condiciones_cuenta           113583 non-null  object \n",
      " 21  account_created_at           53843 non-null   object \n",
      " 22  channel_id                   113583 non-null  object \n",
      " 23  subscriber_count             113583 non-null  int64  \n",
      " 24  days_since_account_creation  53843 non-null   float64\n",
      " 25  insulto                      113583 non-null  bool   \n",
      " 26  n_insultos                   113583 non-null  int64  \n",
      " 27  comment_clean                111037 non-null  object \n",
      " 28  text_with_ctx                113583 non-null  object \n",
      " 29  label_rule                   14016 non-null   object \n",
      " 30  regla_aplicada               14016 non-null   object \n",
      " 31  label_ml                     99567 non-null   object \n",
      " 32  ml_proba_max                 99567 non-null   float64\n",
      " 33  ml_margen                    99567 non-null   float64\n",
      " 34  ml_entropia                  99567 non-null   float64\n",
      " 35  label_final                  105083 non-null  object \n",
      " 36  clasificacion_origen         113583 non-null  object \n",
      "dtypes: bool(2), float64(5), int64(8), object(22)\n",
      "memory usage: 30.5+ MB\n"
     ]
    }
   ],
   "source": [
    "df.info()"
   ]
  },
  {
   "cell_type": "code",
   "execution_count": 51,
   "id": "6cc8fb5e",
   "metadata": {},
   "outputs": [
    {
     "name": "stderr",
     "output_type": "stream",
     "text": [
      "C:\\Users\\User\\AppData\\Local\\Temp\\ipykernel_3508\\1875951498.py:3: UserWarning: Converting to PeriodArray/Index representation will drop timezone information.\n",
      "  tab_mes = pd.crosstab(df[\"fecha\"].dt.to_period(\"M\"), df[\"label_final\"], normalize=\"index\")\n"
     ]
    }
   ],
   "source": [
    "df[\"fecha\"] = pd.to_datetime(df[\"comment_time\"])  # ajusta nombre de columna\n",
    "tab_canal = pd.crosstab(df[\"channel_title\"], df[\"label_final\"], normalize=\"index\")\n",
    "tab_mes = pd.crosstab(df[\"fecha\"].dt.to_period(\"M\"), df[\"label_final\"], normalize=\"index\")\n"
   ]
  },
  {
   "cell_type": "code",
   "execution_count": 52,
   "id": "56487ade",
   "metadata": {},
   "outputs": [
    {
     "name": "stdout",
     "output_type": "stream",
     "text": [
      "label_final          neutro      ruso  ucraniano\n",
      "channel_title                                   \n",
      "EL PAÍS            0.133663  0.680074   0.186262\n",
      "El Mundo           0.143389  0.651769   0.204842\n",
      "Intereconomía      0.106070  0.729712   0.164217\n",
      "La Vanguardia      0.117085  0.686435   0.196481\n",
      "Memorias de Pez    0.112187  0.778967   0.108846\n",
      "Miguel Ruiz Calvo  0.180377  0.698160   0.121463\n",
      "Negocios TV        0.109446  0.768161   0.122393\n",
      "RTVE Noticias      0.108556  0.709502   0.181942\n",
      "laSexta Noticias   0.119658  0.769231   0.111111\n"
     ]
    }
   ],
   "source": [
    "print(tab_canal)"
   ]
  },
  {
   "cell_type": "code",
   "execution_count": 53,
   "id": "f341c0e2",
   "metadata": {},
   "outputs": [
    {
     "name": "stdout",
     "output_type": "stream",
     "text": [
      "Origen (%):\n",
      "clasificacion_origen\n",
      "automatica-nn-tf    0.802\n",
      "regla               0.123\n",
      "sin-clasificar      0.075\n",
      "Name: count, dtype: float64\n",
      "\n",
      "Clase (% sobre total, incluye vacíos):\n",
      "label_final\n",
      "ruso         0.672\n",
      "neutro       0.128\n",
      "ucraniano    0.125\n",
      "NaN          0.075\n",
      "Name: count, dtype: float64\n"
     ]
    }
   ],
   "source": [
    "tot = len(df)\n",
    "print(\"Origen (%):\")\n",
    "print((df[\"clasificacion_origen\"].value_counts(dropna=False)/tot).round(3))\n",
    "\n",
    "print(\"\\nClase (% sobre total, incluye vacíos):\")\n",
    "print((df[\"label_final\"].value_counts(dropna=False)/tot).round(3))\n"
   ]
  },
  {
   "cell_type": "code",
   "execution_count": 54,
   "id": "e691b79b",
   "metadata": {},
   "outputs": [
    {
     "data": {
      "text/plain": [
       "Text(0.5, 1.0, 'Distribución de clase (full)')"
      ]
     },
     "execution_count": 54,
     "metadata": {},
     "output_type": "execute_result"
    },
    {
     "data": {
      "image/png": "[encoded data removed]",
      "text/plain": [
       "<Figure size 640x480 with 1 Axes>"
      ]
     },
     "metadata": {},
     "output_type": "display_data"
    }
   ],
   "source": [
    "ax = (df[\"label_final\"].fillna(\"\")).value_counts(normalize=True).mul(100).plot(kind=\"bar\")\n",
    "ax.set_ylabel(\"% del total\"); ax.set_title(\"Distribución de clase (full)\")\n"
   ]
  },
  {
   "cell_type": "code",
   "execution_count": null,
   "id": "a10fa87b",
   "metadata": {},
   "outputs": [],
   "source": [
    "\n",
    "mask = (pmax>=0.70) & (marg>=0.10)\n",
    "print(\"Cobertura aceptados:\", mask.mean())\n",
    "print(classification_report(yva[mask], y_pred[mask], target_names=LABELS, digits=3))\n"
   ]
  },
  {
   "cell_type": "code",
   "execution_count": 27,
   "id": "7ecc892f",
   "metadata": {},
   "outputs": [
    {
     "data": {
      "image/png": "[encoded data removed]",
      "text/plain": [
       "<Figure size 1000x600 with 1 Axes>"
      ]
     },
     "metadata": {},
     "output_type": "display_data"
    }
   ],
   "source": [
    "# Agrupar por semana y por tipo de cuenta\n",
    "colors = {\"ruso\":\"red\", \"ucraniano\":\"blue\", \"neutro\":\"gray\"}\n",
    "\n",
    "timeline = (\n",
    "    df\n",
    "    .groupby([pd.Grouper(key='fecha', freq='W'), 'label_final'])\n",
    "    .size()\n",
    "    .unstack(fill_value=0)\n",
    ")\n",
    "\n",
    "# Graficar líneas por categoría\n",
    "plt.figure(figsize=(10, 6))\n",
    "timeline.plot(\n",
    "    ax=plt.gca(),\n",
    "    color=[colors[c] for c in timeline.columns],\n",
    "    linewidth=2\n",
    ")\n",
    "plt.title(\"Comentarios por semana y tipo de cuenta\")\n",
    "plt.ylabel(\"Cantidad de comentarios\")\n",
    "plt.xlabel(\"Semana\")\n",
    "plt.legend(title=\"Tipo de cuenta\")\n",
    "plt.tight_layout()\n",
    "plt.show()\n"
   ]
  }
 ],
 "metadata": {
  "kernelspec": {
   "display_name": ".venv",
   "language": "python",
   "name": "python3"
  },
  "language_info": {
   "codemirror_mode": {
    "name": "ipython",
    "version": 3
   },
   "file_extension": ".py",
   "mimetype": "text/x-python",
   "name": "python",
   "nbconvert_exporter": "python",
   "pygments_lexer": "ipython3",
   "version": "3.11.0"
  }
 },
 "nbformat": 4,
 "nbformat_minor": 5
}
