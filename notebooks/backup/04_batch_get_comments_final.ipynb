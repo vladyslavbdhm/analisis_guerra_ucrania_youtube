{
 "cells": [
  {
   "cell_type": "markdown",
   "id": "a52e7d24",
   "metadata": {},
   "source": [
    "# 🧠 Extracción de Comentarios de YouTube sobre la Guerra en Ucrania (2024)"
   ]
  },
  {
   "cell_type": "markdown",
   "id": "00c16a79",
   "metadata": {},
   "source": [
    "\n",
    "Este notebook busca videos relevantes de canales clasificados (pro-Ucrania, pro-Rusia, noticieros) y extrae **todos los comentarios top-level**.\n",
    "\n",
    "Incluye:\n",
    "- Clasificación ideológica de canales.\n",
    "- Extracción de metadatos completos del video.\n",
    "- Guardado incremental y tolerancia a errores.\n",
    "- Control de videos ya procesados.\n",
    "\n",
    "---\n",
    "\n",
    "🔐 **Requisitos**: una clave de API de YouTube con 10.000 unidades diarias de cuota (gratuita por defecto).\n"
   ]
  },
  {
   "cell_type": "code",
   "execution_count": 1,
   "id": "019a7c3c",
   "metadata": {},
   "outputs": [
    {
     "ename": "ModuleNotFoundError",
     "evalue": "No module named 'dotenv'",
     "output_type": "error",
     "traceback": [
      "\u001b[31m---------------------------------------------------------------------------\u001b[39m",
      "\u001b[31mModuleNotFoundError\u001b[39m                       Traceback (most recent call last)",
      "\u001b[36mCell\u001b[39m\u001b[36m \u001b[39m\u001b[32mIn[1]\u001b[39m\u001b[32m, line 8\u001b[39m\n\u001b[32m      6\u001b[39m \u001b[38;5;28;01mfrom\u001b[39;00m\u001b[38;5;250m \u001b[39m\u001b[34;01mgoogleapiclient\u001b[39;00m\u001b[34;01m.\u001b[39;00m\u001b[34;01mdiscovery\u001b[39;00m\u001b[38;5;250m \u001b[39m\u001b[38;5;28;01mimport\u001b[39;00m build\n\u001b[32m      7\u001b[39m \u001b[38;5;28;01mfrom\u001b[39;00m\u001b[38;5;250m \u001b[39m\u001b[34;01mgoogleapiclient\u001b[39;00m\u001b[34;01m.\u001b[39;00m\u001b[34;01merrors\u001b[39;00m\u001b[38;5;250m \u001b[39m\u001b[38;5;28;01mimport\u001b[39;00m HttpError\n\u001b[32m----> \u001b[39m\u001b[32m8\u001b[39m \u001b[38;5;28;01mfrom\u001b[39;00m\u001b[38;5;250m \u001b[39m\u001b[34;01mdotenv\u001b[39;00m\u001b[38;5;250m \u001b[39m\u001b[38;5;28;01mimport\u001b[39;00m load_dotenv\n",
      "\u001b[31mModuleNotFoundError\u001b[39m: No module named 'dotenv'"
     ]
    }
   ],
   "source": [
    "import os\n",
    "import pandas as pd\n",
    "import time\n",
    "import json\n",
    "import re\n",
    "from googleapiclient.discovery import build\n",
    "from googleapiclient.errors import HttpError\n",
    "from dotenv import load_dotenv"
   ]
  },
  {
   "cell_type": "code",
   "execution_count": 6,
   "id": "f4be877d",
   "metadata": {},
   "outputs": [],
   "source": [
    "load_dotenv(override=True)  # Parámetro clave para sobrescribir si ya estaba cargada la api key\n",
    "\n",
    "# La API KEY está expuesta en el archivo .env solo con fines académicos y será eliminada 14 días después de la entrega\n",
    "api_key = os.getenv('YOUTUBE_API_KEY')"
   ]
  },
  {
   "cell_type": "code",
   "execution_count": 3,
   "id": "b9184c7c",
   "metadata": {},
   "outputs": [],
   "source": [
    "# Nombres de canales y su clasificación\n",
    "nombres_canales = {\n",
    "    \"Memorias de Pez\": \"pro-ucraniano\",\n",
    "    \"VisualPolitik\": \"pro-ucraniano\",\n",
    "    \"El País\": \"noticiero\",\n",
    "    \"RTVE Noticias\": \"noticiero\",\n",
    "    \"La Vanguardia\": \"noticiero\",\n",
    "    \"Negocios TV\": \"pro-ruso\",\n",
    "    \"Miguel Ruiz Calvo\": \"pro-ruso\",\n",
    "    \"Intereconomía\": \"pro-ruso\",\n",
    "    \"El Mundo\": \"noticiero\",\n",
    "    \"laSexta Noticias\": \"noticiero\"\n",
    "    # \"teleSUR\": \"pro-ruso\"  <-- eliminado por visibilidad limitada\n",
    "}\n"
   ]
  },
  {
   "cell_type": "code",
   "execution_count": 7,
   "id": "3ce0769c",
   "metadata": {},
   "outputs": [],
   "source": [
    "youtube = build('youtube', 'v3', developerKey=api_key)"
   ]
  },
  {
   "cell_type": "code",
   "execution_count": 22,
   "id": "03647a92",
   "metadata": {},
   "outputs": [],
   "source": [
    "def construir_diccionario_canales(youtube, nombres_clasificados):\n",
    "    canales_interes = {}\n",
    "\n",
    "    for nombre_objetivo, clasificacion in nombres_clasificados.items():\n",
    "        try:\n",
    "            respuesta = youtube.search().list(\n",
    "                part=\"snippet\",\n",
    "                q=nombre_objetivo,\n",
    "                type=\"channel\",\n",
    "                maxResults=1\n",
    "            ).execute()\n",
    "\n",
    "            item = respuesta[\"items\"][0]\n",
    "            canal_id = item[\"snippet\"][\"channelId\"]\n",
    "            canal_nombre = item[\"snippet\"][\"title\"]\n",
    "\n",
    "            canales_interes[canal_id] = {\n",
    "                \"nombre\": canal_nombre,\n",
    "                \"clasificacion\": clasificacion\n",
    "            }\n",
    "\n",
    "        except:\n",
    "            continue  # Ignorar errores y pasar al siguiente\n",
    "\n",
    "    return canales_interes\n",
    "\n"
   ]
  },
  {
   "cell_type": "markdown",
   "id": "a7f6e98a",
   "metadata": {},
   "source": [
    "## Usa video list, aunque no me acuerdo de eso... Será que no es el original?"
   ]
  },
  {
   "cell_type": "code",
   "execution_count": 35,
   "id": "70d47674",
   "metadata": {},
   "outputs": [],
   "source": [
    "def buscar_videos_2024(youtube, canales_interes, \n",
    "                       published_after=\"2024-01-01T00:00:00Z\",\n",
    "                       published_before=\"2025-01-01T00:00:00Z\"):\n",
    "    video_list = []\n",
    "\n",
    "    for canal_id, datos in canales_interes.items():\n",
    "        next_page_token = None\n",
    "\n",
    "        while True:\n",
    "            request = youtube.search().list(\n",
    "                part=\"id,snippet\",\n",
    "                channelId=canal_id,\n",
    "                maxResults=50,\n",
    "                order=\"date\",\n",
    "                type=\"video\",\n",
    "                publishedAfter=published_after,\n",
    "                publishedBefore=published_before,\n",
    "                pageToken=next_page_token\n",
    "            )\n",
    "            response = request.execute()\n",
    "\n",
    "            for item in response.get(\"items\", []):\n",
    "                video_info = {\n",
    "                    \"video_id\": item[\"id\"][\"videoId\"],\n",
    "                    \"title\": item[\"snippet\"][\"title\"],\n",
    "                    \"publishedAt\": item[\"snippet\"][\"publishedAt\"],\n",
    "                    \"channel_id\": canal_id,\n",
    "                    \"channel_title\": datos[\"nombre\"],\n",
    "                    \"clasificacion\": datos[\"clasificacion\"]\n",
    "                }\n",
    "                video_list.append(video_info)\n",
    "\n",
    "            next_page_token = response.get(\"nextPageToken\")\n",
    "            if not next_page_token:\n",
    "                break\n",
    "\n",
    "    return video_list\n"
   ]
  },
  {
   "cell_type": "markdown",
   "id": "f933ad41",
   "metadata": {},
   "source": [
    "## Lo que sigue parece ser el oficial"
   ]
  },
  {
   "cell_type": "code",
   "execution_count": null,
   "id": "3a9204f7",
   "metadata": {},
   "outputs": [],
   "source": [
    "def extraer_comentarios_en_memoria(video_list, api_key, save_every=10000):\n",
    "    youtube = build('youtube', 'v3', developerKey=api_key)\n",
    "    comentarios_totales = []\n",
    "    total_extraidos = 0\n",
    "\n",
    "    # Ruta fija para archivo temporal\n",
    "    tmp_path = \"../data/raw/0_comments_raw.csv\"\n",
    "\n",
    "\n",
    "    for video in video_list:\n",
    "        video_id = video['video_id']\n",
    "        try:\n",
    "            video_response = youtube.videos().list(\n",
    "                part='snippet,statistics,contentDetails',\n",
    "                id=video_id\n",
    "            ).execute()\n",
    "\n",
    "            item = video_response['items'][0]\n",
    "            snippet = item['snippet']\n",
    "            stats = item.get('statistics', {})\n",
    "            content = item.get('contentDetails', {})\n",
    "\n",
    "            video_data = {\n",
    "                'video_title': snippet['title'],\n",
    "                'channel_title': snippet['channelTitle'],\n",
    "                'video_published_at': snippet['publishedAt'],\n",
    "                'video_views': stats.get('viewCount', 0),\n",
    "                'video_likes': stats.get('likeCount', 0),\n",
    "                'video_duration': content.get('duration', ''),\n",
    "                'video_tags': snippet.get('tags', []),\n",
    "                'video_category_id': snippet.get('categoryId', ''),\n",
    "                'relacion_evento': video.get('relacion_evento', ''),\n",
    "                'evento': video.get('evento', ''),\n",
    "                'tipo_evento': video.get('tipo_evento', ''),\n",
    "                'condiciones_cuenta': video.get('condiciones_cuenta', '')\n",
    "            }\n",
    "\n",
    "            # Extraer comentarios (solo top-level)\n",
    "            next_page_token = None\n",
    "            while True:\n",
    "                comment_response = youtube.commentThreads().list(\n",
    "                    part='snippet',\n",
    "                    videoId=video_id,\n",
    "                    maxResults=100,\n",
    "                    pageToken=next_page_token\n",
    "                ).execute()\n",
    "\n",
    "                for item in comment_response.get('items', []):\n",
    "                    top_comment = item['snippet']['topLevelComment']['snippet']\n",
    "                    comentarios_totales.append({\n",
    "                        'comment_id': item['snippet']['topLevelComment']['id'],\n",
    "                        'comment': top_comment['textDisplay'],\n",
    "                        'user_id': top_comment['authorChannelId']['value'],\n",
    "                        'user_name': top_comment['authorDisplayName'],\n",
    "                        'comment_time': top_comment['publishedAt'],\n",
    "                        'comment_likes': top_comment['likeCount'],\n",
    "                        'total_reply_count': item['snippet']['totalReplyCount'],\n",
    "                        'is_top_level_comment': True,\n",
    "                        **video_data\n",
    "                    })\n",
    "\n",
    "                next_page_token = comment_response.get('nextPageToken')\n",
    "                if not next_page_token:\n",
    "                    break\n",
    "\n",
    "                time.sleep(0.5)\n",
    "\n",
    "        except HttpError as e:\n",
    "            print(f\"❌ Error con video {video_id}: {e}\")\n",
    "            continue\n",
    "\n",
    "        total_extraidos += 1\n",
    "\n",
    "        # 💾 Guardado temporal cada X comentarios\n",
    "        if len(comentarios_totales) >= save_every:\n",
    "            print(f\"💾 Guardando temporalmente {len(comentarios_totales)} comentarios...\")\n",
    "            df_tmp = pd.DataFrame(comentarios_totales)\n",
    "            df_tmp.to_csv(tmp_path, mode='a', index=False, header=not os.path.exists(tmp_path))\n",
    "            comentarios_totales = []\n",
    "\n",
    "        time.sleep(1)\n",
    "\n",
    "    # Guardar lo que quede\n",
    "    if comentarios_totales:\n",
    "        print(f\"💾 Guardando restantes {len(comentarios_totales)} comentarios finales...\")\n",
    "        df_tmp = pd.DataFrame(comentarios_totales)\n",
    "        df_tmp.to_csv(tmp_path, mode='a', index=False, header=not os.path.exists(tmp_path))\n",
    "\n",
    "    print(f\"✅ Extracción completa. Todo guardado en: {tmp_path}\")"
   ]
  },
  {
   "cell_type": "markdown",
   "id": "2b57fd95",
   "metadata": {},
   "source": [
    "## Termina acá -------------"
   ]
  },
  {
   "cell_type": "code",
   "execution_count": null,
   "id": "b2e64355",
   "metadata": {},
   "outputs": [],
   "source": [
    "def filtrar_videos_relevantes(video_list, keywords=None):\n",
    "    if keywords is None:\n",
    "        keywords = ['ucrania', 'rusia', 'guerra', 'putin', 'zelenski', 'donbás', 'crimea']\n",
    "\n",
    "    df = pd.DataFrame(video_list)\n",
    "    df[\"video_title_lower\"] = df[\"video_title\"].str.lower()\n",
    "    df[\"video_title_sin_puntuacion\"] = df[\"video_title_lower\"].apply(lambda x: re.sub(r\"[^\\w\\s]\", \"\", x))\n",
    "\n",
    "    # Aplicar filtro inclusivo por keywords\n",
    "    filtro = df[\"video_title_sin_puntuacion\"].apply(lambda t: any(k in t for k in keywords))\n",
    "    df_filtrado = df[filtro].drop(columns=[\"video_title_lower\", \"video_title_sin_puntuacion\"]).reset_index(drop=True)\n",
    "\n",
    "    print(f\"🎯 Videos relevantes encontrados: {len(df_filtrado)} / {len(df)}\")\n",
    "    return df_filtrado.to_dict(orient=\"records\")"
   ]
  },
  {
   "cell_type": "code",
   "execution_count": 12,
   "id": "69a80e4c",
   "metadata": {},
   "outputs": [],
   "source": [
    "# 3) Función para obtener fecha de creación en batch\n",
    "def fetch_account_creation(youtube, ids):\n",
    "    creation = {}\n",
    "    for i in range(0, len(ids), 50):\n",
    "        batch = ids[i:i+50]\n",
    "        resp = youtube.channels().list(\n",
    "            part=\"snippet\",\n",
    "            id=\",\".join(batch)\n",
    "        ).execute()\n",
    "        for item in resp.get('items', []):\n",
    "            creation[item['id']] = item['snippet']['publishedAt']\n",
    "        time.sleep(0.5)\n",
    "    return creation"
   ]
  },
  {
   "cell_type": "code",
   "execution_count": 23,
   "id": "e426e131",
   "metadata": {},
   "outputs": [],
   "source": [
    "canales_interes = construir_diccionario_canales(youtube, nombres_canales)\n"
   ]
  },
  {
   "cell_type": "code",
   "execution_count": 24,
   "id": "6bbfe83b",
   "metadata": {},
   "outputs": [
    {
     "data": {
      "text/plain": [
       "{'UCPH3Oz99Y_jrVBCQMjQZNSg': {'nombre': 'Memorias de Pez',\n",
       "  'clasificacion': 'pro-ucraniano'},\n",
       " 'UCJQQVLyM6wtPleV4wFBK06g': {'nombre': 'VisualPolitik',\n",
       "  'clasificacion': 'pro-ucraniano'},\n",
       " 'UCnsvJeZO4RigQ898WdDNoBw': {'nombre': 'EL PAÍS',\n",
       "  'clasificacion': 'noticiero'},\n",
       " 'UC7QZIf0dta-XPXsp9Hv4dTw': {'nombre': 'RTVE Noticias',\n",
       "  'clasificacion': 'noticiero'},\n",
       " 'UClLLRs_mFTsNT5U-DqTYAGg': {'nombre': 'La Vanguardia',\n",
       "  'clasificacion': 'noticiero'},\n",
       " 'UCwd8Byi93KbnsYmCcKLExvQ': {'nombre': 'Negocios TV',\n",
       "  'clasificacion': 'pro-ruso'},\n",
       " 'UCgms7r9SaeYhuIBaPGOjnhw': {'nombre': 'Miguel Ruiz Calvo',\n",
       "  'clasificacion': 'pro-ruso'},\n",
       " 'UCNKomgId0-uTA-vVLM9v1pw': {'nombre': 'Intereconomía',\n",
       "  'clasificacion': 'pro-ruso'},\n",
       " 'UCGXbLrVe8vnkiFv7q2vYv3w': {'nombre': 'El Mundo',\n",
       "  'clasificacion': 'noticiero'},\n",
       " 'UCCJs5mITIqxqJGeFjt9N1Mg': {'nombre': 'laSexta Noticias',\n",
       "  'clasificacion': 'noticiero'}}"
      ]
     },
     "execution_count": 24,
     "metadata": {},
     "output_type": "execute_result"
    }
   ],
   "source": [
    "canales_interes"
   ]
  },
  {
   "cell_type": "code",
   "execution_count": 25,
   "id": "a13603b7",
   "metadata": {},
   "outputs": [],
   "source": [
    "channel_ids = list(canales_interes.keys())"
   ]
  },
  {
   "cell_type": "code",
   "execution_count": 26,
   "id": "42cde41b",
   "metadata": {},
   "outputs": [],
   "source": [
    "# 3) Consulta estadísticas en batch (hasta 50 IDs por llamada)\n",
    "response = youtube.channels().list(\n",
    "    part='statistics',\n",
    "    id=','.join(channel_ids)\n",
    ").execute()"
   ]
  },
  {
   "cell_type": "code",
   "execution_count": 27,
   "id": "895dffb7",
   "metadata": {},
   "outputs": [],
   "source": [
    "# 4) Mapea cada ID a su subscriberCount\n",
    "subs_count = {\n",
    "    item['id']: int(item['statistics'].get('subscriberCount', 0))\n",
    "    for item in response.get('items', [])\n",
    "}"
   ]
  },
  {
   "cell_type": "code",
   "execution_count": 35,
   "id": "b270a201",
   "metadata": {},
   "outputs": [],
   "source": [
    "title_to_id = {info['nombre']: cid for cid, info in canales_interes.items()}\n"
   ]
  },
  {
   "cell_type": "code",
   "execution_count": null,
   "id": "996300ee",
   "metadata": {},
   "outputs": [],
   "source": [
    "# Paso 1: Buscar videos\n",
    "video_list = buscar_videos_2024(youtube, canales_interes)\n"
   ]
  },
  {
   "cell_type": "code",
   "execution_count": 13,
   "id": "843a9428",
   "metadata": {},
   "outputs": [
    {
     "data": {
      "text/html": [
       "<div>\n",
       "<style scoped>\n",
       "    .dataframe tbody tr th:only-of-type {\n",
       "        vertical-align: middle;\n",
       "    }\n",
       "\n",
       "    .dataframe tbody tr th {\n",
       "        vertical-align: top;\n",
       "    }\n",
       "\n",
       "    .dataframe thead th {\n",
       "        text-align: right;\n",
       "    }\n",
       "</style>\n",
       "<table border=\"1\" class=\"dataframe\">\n",
       "  <thead>\n",
       "    <tr style=\"text-align: right;\">\n",
       "      <th></th>\n",
       "      <th>video_id</th>\n",
       "      <th>channel_id</th>\n",
       "      <th>channel_title</th>\n",
       "      <th>video_title</th>\n",
       "      <th>video_published_at</th>\n",
       "      <th>evento</th>\n",
       "      <th>tipo_evento</th>\n",
       "      <th>relacion_evento</th>\n",
       "      <th>condiciones_cuenta</th>\n",
       "    </tr>\n",
       "  </thead>\n",
       "  <tbody>\n",
       "    <tr>\n",
       "      <th>0</th>\n",
       "      <td>Ljk6OkssuqM</td>\n",
       "      <td>UCPH3Oz99Y_jrVBCQMjQZNSg</td>\n",
       "      <td>Memorias de Pez</td>\n",
       "      <td>✅ REWIND 2024: el resumen GEOPOLÍTICO del año ...</td>\n",
       "      <td>2024-12-31T12:32:02Z</td>\n",
       "      <td></td>\n",
       "      <td></td>\n",
       "      <td></td>\n",
       "      <td>pro-ucraniano</td>\n",
       "    </tr>\n",
       "    <tr>\n",
       "      <th>1</th>\n",
       "      <td>n1UE2XUZ8MM</td>\n",
       "      <td>UCPH3Oz99Y_jrVBCQMjQZNSg</td>\n",
       "      <td>Memorias de Pez</td>\n",
       "      <td>✅¿Cómo era la TERRIBLE VIDA de un SOLDADO de l...</td>\n",
       "      <td>2024-12-28T14:25:32Z</td>\n",
       "      <td></td>\n",
       "      <td></td>\n",
       "      <td></td>\n",
       "      <td>pro-ucraniano</td>\n",
       "    </tr>\n",
       "    <tr>\n",
       "      <th>2</th>\n",
       "      <td>8JilB1JcHdo</td>\n",
       "      <td>UCPH3Oz99Y_jrVBCQMjQZNSg</td>\n",
       "      <td>Memorias de Pez</td>\n",
       "      <td>✅ RESUMEN de la SEMANA 148 de guerra entre UCR...</td>\n",
       "      <td>2024-12-27T15:54:06Z</td>\n",
       "      <td></td>\n",
       "      <td></td>\n",
       "      <td></td>\n",
       "      <td>pro-ucraniano</td>\n",
       "    </tr>\n",
       "    <tr>\n",
       "      <th>3</th>\n",
       "      <td>e6KNYXZtN30</td>\n",
       "      <td>UCPH3Oz99Y_jrVBCQMjQZNSg</td>\n",
       "      <td>Memorias de Pez</td>\n",
       "      <td>✅El DICTADOR más EXCÉNTRICO de LIBIA | La hist...</td>\n",
       "      <td>2024-12-23T17:34:36Z</td>\n",
       "      <td></td>\n",
       "      <td></td>\n",
       "      <td></td>\n",
       "      <td>pro-ucraniano</td>\n",
       "    </tr>\n",
       "    <tr>\n",
       "      <th>4</th>\n",
       "      <td>rz2tHgcVz1c</td>\n",
       "      <td>UCPH3Oz99Y_jrVBCQMjQZNSg</td>\n",
       "      <td>Memorias de Pez</td>\n",
       "      <td>✅Los GRANDES MÁRTIRES de la historia</td>\n",
       "      <td>2024-12-21T12:31:54Z</td>\n",
       "      <td></td>\n",
       "      <td></td>\n",
       "      <td></td>\n",
       "      <td>pro-ucraniano</td>\n",
       "    </tr>\n",
       "  </tbody>\n",
       "</table>\n",
       "</div>"
      ],
      "text/plain": [
       "      video_id                channel_id    channel_title  \\\n",
       "0  Ljk6OkssuqM  UCPH3Oz99Y_jrVBCQMjQZNSg  Memorias de Pez   \n",
       "1  n1UE2XUZ8MM  UCPH3Oz99Y_jrVBCQMjQZNSg  Memorias de Pez   \n",
       "2  8JilB1JcHdo  UCPH3Oz99Y_jrVBCQMjQZNSg  Memorias de Pez   \n",
       "3  e6KNYXZtN30  UCPH3Oz99Y_jrVBCQMjQZNSg  Memorias de Pez   \n",
       "4  rz2tHgcVz1c  UCPH3Oz99Y_jrVBCQMjQZNSg  Memorias de Pez   \n",
       "\n",
       "                                         video_title    video_published_at  \\\n",
       "0  ✅ REWIND 2024: el resumen GEOPOLÍTICO del año ...  2024-12-31T12:32:02Z   \n",
       "1  ✅¿Cómo era la TERRIBLE VIDA de un SOLDADO de l...  2024-12-28T14:25:32Z   \n",
       "2  ✅ RESUMEN de la SEMANA 148 de guerra entre UCR...  2024-12-27T15:54:06Z   \n",
       "3  ✅El DICTADOR más EXCÉNTRICO de LIBIA | La hist...  2024-12-23T17:34:36Z   \n",
       "4               ✅Los GRANDES MÁRTIRES de la historia  2024-12-21T12:31:54Z   \n",
       "\n",
       "  evento tipo_evento relacion_evento condiciones_cuenta  \n",
       "0                                         pro-ucraniano  \n",
       "1                                         pro-ucraniano  \n",
       "2                                         pro-ucraniano  \n",
       "3                                         pro-ucraniano  \n",
       "4                                         pro-ucraniano  "
      ]
     },
     "execution_count": 13,
     "metadata": {},
     "output_type": "execute_result"
    }
   ],
   "source": [
    "df_videos = pd.DataFrame(video_list)\n",
    "df_videos.shape\n",
    "df_videos.head()\n"
   ]
  },
  {
   "cell_type": "code",
   "execution_count": 14,
   "id": "b459146f",
   "metadata": {},
   "outputs": [
    {
     "name": "stdout",
     "output_type": "stream",
     "text": [
      "channel_id\n",
      "UCgms7r9SaeYhuIBaPGOjnhw    262\n",
      "UCPH3Oz99Y_jrVBCQMjQZNSg    253\n",
      "UCCJs5mITIqxqJGeFjt9N1Mg     44\n",
      "UCcgqSM4YEo5vVQpqwN-MaNw      4\n",
      "UC7QZIf0dta-XPXsp9Hv4dTw      1\n",
      "Name: count, dtype: int64\n",
      "channel_title\n",
      "Miguel Ruiz Calvo    262\n",
      "Memorias de Pez      253\n",
      "laSexta Noticias      44\n",
      "Rihanna                4\n",
      "RTVE Noticias          1\n",
      "Name: count, dtype: int64\n"
     ]
    }
   ],
   "source": [
    "if 'channel_id' in df_videos.columns:\n",
    "    print(df_videos['channel_id'].value_counts())\n",
    "\n",
    "    # O con nombres si están disponibles\n",
    "    if 'channel_title' in df_videos.columns:\n",
    "        print(df_videos['channel_title'].value_counts())\n"
   ]
  },
  {
   "cell_type": "code",
   "execution_count": null,
   "id": "85760158",
   "metadata": {},
   "outputs": [],
   "source": [
    "video_list_filtrados = filtrar_videos_relevantes(video_list)"
   ]
  },
  {
   "cell_type": "code",
   "execution_count": 29,
   "id": "87ab3c80",
   "metadata": {},
   "outputs": [],
   "source": [
    "with open(\"../data/raw/video_list_full.json\", \"w\", encoding=\"utf-8\") as f:\n",
    "    json.dump(video_list, f, ensure_ascii=False, indent=2)"
   ]
  },
  {
   "cell_type": "code",
   "execution_count": null,
   "id": "6d9c7f7d",
   "metadata": {},
   "outputs": [
    {
     "data": {
      "application/vnd.jupyter.widget-view+json": {
       "model_id": "229b1107ba4e4830840f523c7311d4ca",
       "version_major": 2,
       "version_minor": 0
      },
      "text/plain": [
       "📡 Extrayendo comentarios:   0%|          | 0/402 [00:00<?, ?it/s]"
      ]
     },
     "metadata": {},
     "output_type": "display_data"
    },
    {
     "name": "stdout",
     "output_type": "stream",
     "text": [
      "💾 Guardando temporalmente 10062 comentarios...\n",
      "💾 Guardando temporalmente 10166 comentarios...\n",
      "💾 Guardando temporalmente 10284 comentarios...\n",
      "💾 Guardando temporalmente 10074 comentarios...\n",
      "💾 Guardando temporalmente 10642 comentarios...\n",
      "💾 Guardando temporalmente 10119 comentarios...\n",
      "💾 Guardando temporalmente 10197 comentarios...\n",
      "💾 Guardando temporalmente 10679 comentarios...\n",
      "💾 Guardando temporalmente 10325 comentarios...\n",
      "💾 Guardando temporalmente 10188 comentarios...\n",
      "💾 Guardando temporalmente 10377 comentarios...\n",
      "💾 Guardando restantes 684 comentarios finales...\n",
      "✅ Extracción completa. Todo guardado en: comentarios_tmp.csv\n"
     ]
    }
   ],
   "source": [
    "df_comentarios = extraer_comentarios_en_memoria(\n",
    "    video_list_filtrados,\n",
    "    api_key\n",
    ")"
   ]
  },
  {
   "cell_type": "markdown",
   "id": "32ecefd5",
   "metadata": {},
   "source": [
    "# Pasaje del raw a clean abajo --> "
   ]
  },
  {
   "cell_type": "code",
   "execution_count": 9,
   "id": "ee199cfe",
   "metadata": {},
   "outputs": [
    {
     "name": "stdout",
     "output_type": "stream",
     "text": [
      "Comentarios únicos: 113776\n"
     ]
    }
   ],
   "source": [
    "df = pd.read_csv(\"../data/raw/0_comments_raw.csv\")\n",
    "df_deduplicated = df.drop_duplicates(subset=[\"comment_id\"])\n",
    "print(f\"Comentarios únicos: {len(df_deduplicated)}\")"
   ]
  },
  {
   "cell_type": "code",
   "execution_count": 10,
   "id": "ffe8bd36",
   "metadata": {},
   "outputs": [
    {
     "data": {
      "text/plain": [
       "(113797, 21)"
      ]
     },
     "execution_count": 10,
     "metadata": {},
     "output_type": "execute_result"
    }
   ],
   "source": [
    "df.shape"
   ]
  },
  {
   "cell_type": "code",
   "execution_count": 14,
   "id": "667eb6aa",
   "metadata": {},
   "outputs": [],
   "source": [
    "# 2) Toma los user_id únicos\n",
    "user_ids = df_deduplicated['user_id'].dropna().tolist()"
   ]
  },
  {
   "cell_type": "code",
   "execution_count": 43,
   "id": "24e1c6da",
   "metadata": {},
   "outputs": [],
   "source": [
    "# Crea una copia limpia\n",
    "df_deduplicated = df_deduplicated.copy()"
   ]
  },
  {
   "cell_type": "code",
   "execution_count": 15,
   "id": "5fad80d6",
   "metadata": {},
   "outputs": [],
   "source": [
    "creation_dates = fetch_account_creation(youtube, user_ids)"
   ]
  },
  {
   "cell_type": "code",
   "execution_count": 44,
   "id": "50d6ec38",
   "metadata": {},
   "outputs": [],
   "source": [
    "# 5) Mapea de vuelta a tu DataFrame\n",
    "df_deduplicated['account_created_at'] = df_deduplicated['user_id'].map(creation_dates)"
   ]
  },
  {
   "cell_type": "code",
   "execution_count": 45,
   "id": "a1600a94",
   "metadata": {},
   "outputs": [],
   "source": [
    "# 4) Añadimos ambos campos al DataFrame principal\n",
    "df_deduplicated.loc[:, 'channel_id'] = df_deduplicated['channel_title'].map(title_to_id)\n",
    "df_deduplicated.loc[:, 'subscriber_count'] = df_deduplicated['channel_id'].map(subs_count)"
   ]
  },
  {
   "cell_type": "code",
   "execution_count": 46,
   "id": "029118a9",
   "metadata": {},
   "outputs": [
    {
     "data": {
      "text/plain": [
       "(113776, 24)"
      ]
     },
     "execution_count": 46,
     "metadata": {},
     "output_type": "execute_result"
    }
   ],
   "source": [
    "df_deduplicated.shape"
   ]
  },
  {
   "cell_type": "code",
   "execution_count": 41,
   "id": "c850fc30",
   "metadata": {},
   "outputs": [
    {
     "name": "stdout",
     "output_type": "stream",
     "text": [
      "✅ Dataset limpio guardado en: ../data/processed/1_comments_youtube_clean.csv\n",
      "🔢 Comentarios únicos: 113776\n"
     ]
    }
   ],
   "source": [
    "# 💾 Guardar dataset limpio en la carpeta del proyecto\n",
    "output_path = \"../data/processed/1_comments_youtube_clean.csv\"\n",
    "df_deduplicated.to_csv(output_path, index=False)\n",
    "\n",
    "print(f\"✅ Dataset limpio guardado en: {output_path}\")\n",
    "print(f\"🔢 Comentarios únicos: {len(df_deduplicated)}\")"
   ]
  }
 ],
 "metadata": {
  "kernelspec": {
   "display_name": ".venv",
   "language": "python",
   "name": "python3"
  },
  "language_info": {
   "codemirror_mode": {
    "name": "ipython",
    "version": 3
   },
   "file_extension": ".py",
   "mimetype": "text/x-python",
   "name": "python",
   "nbconvert_exporter": "python",
   "pygments_lexer": "ipython3",
   "version": "3.11.0"
  }
 },
 "nbformat": 4,
 "nbformat_minor": 5
}
