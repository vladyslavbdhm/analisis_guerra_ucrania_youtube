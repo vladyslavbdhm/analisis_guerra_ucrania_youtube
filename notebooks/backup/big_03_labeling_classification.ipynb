{
 "cells": [
  {
   "cell_type": "code",
   "execution_count": 1,
   "id": "be598cd2",
   "metadata": {},
   "outputs": [],
   "source": [
    "import pandas as pd"
   ]
  },
  {
   "cell_type": "code",
   "execution_count": 2,
   "id": "f84b0a45",
   "metadata": {},
   "outputs": [],
   "source": [
    "df = pd.read_csv(\"../data/processed/2_comments_youtube_refined.csv\")"
   ]
  },
  {
   "cell_type": "code",
   "execution_count": null,
   "id": "7160fa29",
   "metadata": {},
   "outputs": [
    {
     "name": "stderr",
     "output_type": "stream",
     "text": [
      "C:\\Users\\User\\AppData\\Local\\Temp\\ipykernel_4824\\706829373.py:6: DeprecationWarning: DataFrameGroupBy.apply operated on the grouping columns. This behavior is deprecated, and in a future version of pandas the grouping columns will be excluded from the operation. Either pass `include_groups=False` to exclude the groupings or explicitly select the grouping columns after groupby to silence this warning.\n",
      "  .apply(lambda x: x.sample(min(len(x), N), random_state=42))\n"
     ]
    },
    {
     "name": "stdout",
     "output_type": "stream",
     "text": [
      "Total de comentarios extraídos: 9000\n"
     ]
    }
   ],
   "source": [
    "# Muestreo balanceado\n",
    "N = 9000\n",
    "\n",
    "df_sampled = (\n",
    "    df.groupby(\"condiciones_cuenta\", group_keys=False)\n",
    "    .apply(lambda x: x.sample(min(len(x), N), random_state=42))\n",
    "    .reset_index(drop=True)\n",
    ")\n",
    "\n",
    "# Ordenar por bando y canal\n",
    "df_sampled = df_sampled.sort_values(by=[\"condiciones_cuenta\", \"channel_title\"]).reset_index(drop=True)\n",
    "\n",
    "# Agregar columna para etiquetado manual\n",
    "df_sampled[\"label_comentario\"] = \"\" # ruso / neutro / ucraniano\n",
    "df_sampled[\"es_sarcastico\"] = \"\" # TRUE / FALSE\n",
    "df_sampled[\"fuera_de_contexto\"] = \"\"  # TRUE / FALSE\n",
    "\n",
    "\n",
    "# Agregar ID único por fila\n",
    "df_sampled[\"id_muestra\"] = df_sampled.index + 1\n",
    "\n",
    "# Guardar dataset limpio en la carpeta del proyecto\n",
    "#csv_path = \"../data/processed/comentarios_para_etiquetar_v2.csv\"\n",
    "excel_path = \"../data/processed/comentarios_para_etiquetar_v2.xlsx\"\n",
    "\n",
    "# CSV con codificación compatible con Excel (acentos OK)\n",
    "#df_sampled.to_csv(csv_path, index=False, encoding=\"utf-8-sig\")\n",
    "\n",
    "# También guardar como Excel\n",
    "df_sampled.to_excel(excel_path, index=False)\n",
    "\n",
    "print(f\"Total de comentarios extraídos: {len(df_sampled)}\")\n",
    "#print(f\"Archivos guardados en:\\n- {csv_path}\\n- {excel_path}\")"
   ]
  },
  {
   "cell_type": "code",
   "execution_count": null,
   "id": "61dccd77",
   "metadata": {},
   "outputs": [],
   "source": [
    "df_ya_clasificado = pd.read_excel(excel_path)\n"
   ]
  },
  {
   "cell_type": "code",
   "execution_count": 29,
   "id": "dd7a631a",
   "metadata": {},
   "outputs": [
    {
     "data": {
      "text/plain": [
       "label_comentario\n",
       "ruso         907\n",
       "ucraniano    312\n",
       "neutro       234\n",
       "Name: count, dtype: int64"
      ]
     },
     "execution_count": 29,
     "metadata": {},
     "output_type": "execute_result"
    }
   ],
   "source": [
    "df_ya_clasificado[\"label_comentario\"].value_counts()\n"
   ]
  },
  {
   "cell_type": "code",
   "execution_count": 30,
   "id": "a514b22c",
   "metadata": {},
   "outputs": [
    {
     "name": "stdout",
     "output_type": "stream",
     "text": [
      "Comentarios ya etiquetados: 1453\n",
      "Comentarios restantes para muestreo: 371109\n"
     ]
    }
   ],
   "source": [
    "# Filtrar solo los ya etiquetados\n",
    "df_etiquetados = df_ya_clasificado[df_ya_clasificado[\"label_comentario\"].notna() & (df_ya_clasificado[\"label_comentario\"] != \"\")].copy()\n",
    "\n",
    "# Limpiar comment_id de ambos datasets\n",
    "df_etiquetados.loc[:, \"comment_id\"] = df_etiquetados[\"comment_id\"].astype(str).str.strip()\n",
    "df.loc[:, \"comment_id\"] = df[\"comment_id\"].astype(str).str.strip()\n",
    "\n",
    "# Obtener los restantes\n",
    "comentarios_existentes = set(df_etiquetados[\"comment_id\"])\n",
    "df_restante = df[~df[\"comment_id\"].isin(comentarios_existentes)]\n",
    "\n",
    "print(f\"Comentarios ya etiquetados: {len(df_etiquetados)}\")\n",
    "print(f\"Comentarios restantes para muestreo: {len(df_restante)}\")\n"
   ]
  },
  {
   "cell_type": "markdown",
   "id": "b9e7441e",
   "metadata": {},
   "source": [
    "# Detección del idioma"
   ]
  },
  {
   "cell_type": "code",
   "execution_count": 31,
   "id": "55671160",
   "metadata": {},
   "outputs": [],
   "source": [
    "import langid\n",
    "\n",
    "df[\"idioma\"] = df[\"comment\"].apply(lambda x: langid.classify(str(x))[0])\n"
   ]
  },
  {
   "cell_type": "code",
   "execution_count": 32,
   "id": "8670ccdb",
   "metadata": {},
   "outputs": [
    {
     "data": {
      "text/plain": [
       "idioma\n",
       "es    297772\n",
       "en     12367\n",
       "pt      7982\n",
       "zh      6339\n",
       "an      4922\n",
       "gl      3187\n",
       "fi      2695\n",
       "it      2464\n",
       "lt      2441\n",
       "eo      2371\n",
       "ca      1909\n",
       "ja      1839\n",
       "la      1649\n",
       "am      1292\n",
       "mr      1260\n",
       "fr      1222\n",
       "pl      1198\n",
       "sk      1156\n",
       "lo      1083\n",
       "se      1056\n",
       "Name: count, dtype: int64"
      ]
     },
     "execution_count": 32,
     "metadata": {},
     "output_type": "execute_result"
    }
   ],
   "source": [
    "df[\"idioma\"].value_counts().head(20)"
   ]
  }
 ],
 "metadata": {
  "kernelspec": {
   "display_name": "Python 3",
   "language": "python",
   "name": "python3"
  },
  "language_info": {
   "codemirror_mode": {
    "name": "ipython",
    "version": 3
   },
   "file_extension": ".py",
   "mimetype": "text/x-python",
   "name": "python",
   "nbconvert_exporter": "python",
   "pygments_lexer": "ipython3",
   "version": "3.10.8"
  }
 },
 "nbformat": 4,
 "nbformat_minor": 5
}
